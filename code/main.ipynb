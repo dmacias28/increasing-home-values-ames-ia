{
 "cells": [
  {
   "cell_type": "markdown",
   "id": "146901e3-4928-4996-84f8-1a39c3b4e860",
   "metadata": {},
   "source": [
    "<img src=\"http://imgur.com/1ZcRyrc.png\" style=\"float: left; margin: 20px; height: 55px\">\n",
    "\n",
    "# Project 2: Increasing the Home Value in Ames, IA"
   ]
  },
  {
   "cell_type": "markdown",
   "id": "bbb3f9b8-b0db-4fe1-a16b-e9bef4c0fdaf",
   "metadata": {},
   "source": [
    "## Problem Statement\n",
    "\n",
    "As of March 2022, the median home value in Ames, Iowa is 286,826 dollars. The median home value has not seen much consistency with year over year percent changes  in the past 5 years due to the housing crash in 2018-2019 and post COVID-19 economic effects in 2021-2022.\n",
    "\n",
    "The city of Ames is interested in identifying ways in which they and their residents can do their part to help increase the city’s median home value in spite of the continuing post COVID-19 economic effects.\n",
    "\n",
    "This project aims to identify specific housing features that have a high impact on a home’s value, so that the city knows what to consider when building new housing and residents know what to consider when building, updating or selling their home.\n",
    "\n",
    "\n",
    "#### Contents:\n",
    "\n",
    "* Background\n",
    "* Exploratory Data Analysis & Cleaning\n",
    "* Pre-Processing\n",
    "* Model Exploration\n",
    "* Production Model Insights\n",
    "* Conclusions & Recommendations\n",
    "* Kaggle Submissions"
   ]
  },
  {
   "cell_type": "markdown",
   "id": "4cd1bd4c-6375-4955-b632-9cf20fbf9dd2",
   "metadata": {},
   "source": [
    "___"
   ]
  },
  {
   "cell_type": "markdown",
   "id": "d72dd76b-43aa-4362-afc7-199b8534e14f",
   "metadata": {},
   "source": [
    "## Background"
   ]
  },
  {
   "cell_type": "markdown",
   "id": "09cd5593-03c4-4dde-8fd4-df95ae5f4756",
   "metadata": {},
   "source": [
    "According to historical rates of home appreciation, the universal 'normal' rate of appreciation for the housing market is between 3-5%.  According to Zillow, the Ames, IA median home values for the past 5 years are as follows:\n",
    "\n",
    "|**Month/Year**|**Median Home Value**|**Percent Change**|\n",
    "|---|---|---|\n",
    "|**March 2018**|234k|+4.0%|\n",
    "|**March 2019**|234k|+0.0%|\n",
    "|**March 2020**|239k|+2.1%|\n",
    "|**March 2021**|249k|+4.2%|\n",
    "|**March 2022**|289k|+15.1%|\n",
    "\n",
    "The city has mostly fallen within the 2-4% range. The 2 exceptions are in 2019, due to the housing crash that began in the summer of 2018, and in 2022, due to the post COVID-19 economic effects."
   ]
  },
  {
   "cell_type": "markdown",
   "id": "772be517-12f3-4b11-bcc5-6e863cf90e8a",
   "metadata": {
    "tags": []
   },
   "source": [
    "### Dataset\n",
    "\n",
    "The Ames, IA housing data set was obtained directly from the Ames Assessor’s Office. It contains 81 columns which include 22 nominal, 23 ordinal, 14 discrete, and 20 continuous variables (and 2 additional observation identifiers)."
   ]
  },
  {
   "cell_type": "markdown",
   "id": "c3c34f47-a8ee-4bb9-8de0-5a07602c5fb5",
   "metadata": {},
   "source": [
    "____"
   ]
  },
  {
   "cell_type": "markdown",
   "id": "4608b9cc-d1e3-41e5-ba1e-d4f31253aade",
   "metadata": {},
   "source": [
    "## Exploratory Data Analysis & Cleaning"
   ]
  },
  {
   "cell_type": "code",
   "execution_count": 1,
   "id": "679d55e8-0875-470a-b8f9-83fa9d84c354",
   "metadata": {},
   "outputs": [],
   "source": [
    "# Library Imports\n",
    "import pandas as pd\n",
    "import numpy as np\n",
    "import seaborn as sns\n",
    "import matplotlib.pyplot as plt\n",
    "\n",
    "from sklearn.model_selection import train_test_split, cross_val_score\n",
    "from sklearn.pipeline import Pipeline\n",
    "from sklearn.preprocessing import OneHotEncoder\n",
    "from sklearn.preprocessing import StandardScaler\n",
    "from sklearn.compose import ColumnTransformer\n",
    "\n",
    "\n",
    "from sklearn.linear_model import LinearRegression, LassoCV, RidgeCV, Lasso, Ridge, ElasticNetCV\n",
    "from sklearn.metrics import r2_score, mean_squared_error\n",
    "\n",
    "import sys\n",
    "\n",
    "if not sys.warnoptions:\n",
    "    import warnings\n",
    "    warnings.simplefilter(\"ignore\")"
   ]
  },
  {
   "cell_type": "code",
   "execution_count": 2,
   "id": "4d6a418c-83f9-45ce-a4ae-4c563ccbeb15",
   "metadata": {},
   "outputs": [],
   "source": [
    "# Data Imports\n",
    "ames_train = pd.read_csv('../data/train.csv')\n",
    "ames_test = pd.read_csv('../data/test.csv')"
   ]
  },
  {
   "cell_type": "code",
   "execution_count": 3,
   "id": "2cc2080f-e248-4595-8b56-3c2923b1dca2",
   "metadata": {},
   "outputs": [
    {
     "data": {
      "text/html": [
       "<div>\n",
       "<style scoped>\n",
       "    .dataframe tbody tr th:only-of-type {\n",
       "        vertical-align: middle;\n",
       "    }\n",
       "\n",
       "    .dataframe tbody tr th {\n",
       "        vertical-align: top;\n",
       "    }\n",
       "\n",
       "    .dataframe thead th {\n",
       "        text-align: right;\n",
       "    }\n",
       "</style>\n",
       "<table border=\"1\" class=\"dataframe\">\n",
       "  <thead>\n",
       "    <tr style=\"text-align: right;\">\n",
       "      <th></th>\n",
       "      <th>Id</th>\n",
       "      <th>PID</th>\n",
       "      <th>MS SubClass</th>\n",
       "      <th>MS Zoning</th>\n",
       "      <th>Lot Frontage</th>\n",
       "      <th>Lot Area</th>\n",
       "      <th>Street</th>\n",
       "      <th>Alley</th>\n",
       "      <th>Lot Shape</th>\n",
       "      <th>Land Contour</th>\n",
       "      <th>...</th>\n",
       "      <th>Screen Porch</th>\n",
       "      <th>Pool Area</th>\n",
       "      <th>Pool QC</th>\n",
       "      <th>Fence</th>\n",
       "      <th>Misc Feature</th>\n",
       "      <th>Misc Val</th>\n",
       "      <th>Mo Sold</th>\n",
       "      <th>Yr Sold</th>\n",
       "      <th>Sale Type</th>\n",
       "      <th>SalePrice</th>\n",
       "    </tr>\n",
       "  </thead>\n",
       "  <tbody>\n",
       "    <tr>\n",
       "      <th>0</th>\n",
       "      <td>109</td>\n",
       "      <td>533352170</td>\n",
       "      <td>60</td>\n",
       "      <td>RL</td>\n",
       "      <td>NaN</td>\n",
       "      <td>13517</td>\n",
       "      <td>Pave</td>\n",
       "      <td>NaN</td>\n",
       "      <td>IR1</td>\n",
       "      <td>Lvl</td>\n",
       "      <td>...</td>\n",
       "      <td>0</td>\n",
       "      <td>0</td>\n",
       "      <td>NaN</td>\n",
       "      <td>NaN</td>\n",
       "      <td>NaN</td>\n",
       "      <td>0</td>\n",
       "      <td>3</td>\n",
       "      <td>2010</td>\n",
       "      <td>WD</td>\n",
       "      <td>130500</td>\n",
       "    </tr>\n",
       "    <tr>\n",
       "      <th>1</th>\n",
       "      <td>544</td>\n",
       "      <td>531379050</td>\n",
       "      <td>60</td>\n",
       "      <td>RL</td>\n",
       "      <td>43.0</td>\n",
       "      <td>11492</td>\n",
       "      <td>Pave</td>\n",
       "      <td>NaN</td>\n",
       "      <td>IR1</td>\n",
       "      <td>Lvl</td>\n",
       "      <td>...</td>\n",
       "      <td>0</td>\n",
       "      <td>0</td>\n",
       "      <td>NaN</td>\n",
       "      <td>NaN</td>\n",
       "      <td>NaN</td>\n",
       "      <td>0</td>\n",
       "      <td>4</td>\n",
       "      <td>2009</td>\n",
       "      <td>WD</td>\n",
       "      <td>220000</td>\n",
       "    </tr>\n",
       "    <tr>\n",
       "      <th>2</th>\n",
       "      <td>153</td>\n",
       "      <td>535304180</td>\n",
       "      <td>20</td>\n",
       "      <td>RL</td>\n",
       "      <td>68.0</td>\n",
       "      <td>7922</td>\n",
       "      <td>Pave</td>\n",
       "      <td>NaN</td>\n",
       "      <td>Reg</td>\n",
       "      <td>Lvl</td>\n",
       "      <td>...</td>\n",
       "      <td>0</td>\n",
       "      <td>0</td>\n",
       "      <td>NaN</td>\n",
       "      <td>NaN</td>\n",
       "      <td>NaN</td>\n",
       "      <td>0</td>\n",
       "      <td>1</td>\n",
       "      <td>2010</td>\n",
       "      <td>WD</td>\n",
       "      <td>109000</td>\n",
       "    </tr>\n",
       "    <tr>\n",
       "      <th>3</th>\n",
       "      <td>318</td>\n",
       "      <td>916386060</td>\n",
       "      <td>60</td>\n",
       "      <td>RL</td>\n",
       "      <td>73.0</td>\n",
       "      <td>9802</td>\n",
       "      <td>Pave</td>\n",
       "      <td>NaN</td>\n",
       "      <td>Reg</td>\n",
       "      <td>Lvl</td>\n",
       "      <td>...</td>\n",
       "      <td>0</td>\n",
       "      <td>0</td>\n",
       "      <td>NaN</td>\n",
       "      <td>NaN</td>\n",
       "      <td>NaN</td>\n",
       "      <td>0</td>\n",
       "      <td>4</td>\n",
       "      <td>2010</td>\n",
       "      <td>WD</td>\n",
       "      <td>174000</td>\n",
       "    </tr>\n",
       "    <tr>\n",
       "      <th>4</th>\n",
       "      <td>255</td>\n",
       "      <td>906425045</td>\n",
       "      <td>50</td>\n",
       "      <td>RL</td>\n",
       "      <td>82.0</td>\n",
       "      <td>14235</td>\n",
       "      <td>Pave</td>\n",
       "      <td>NaN</td>\n",
       "      <td>IR1</td>\n",
       "      <td>Lvl</td>\n",
       "      <td>...</td>\n",
       "      <td>0</td>\n",
       "      <td>0</td>\n",
       "      <td>NaN</td>\n",
       "      <td>NaN</td>\n",
       "      <td>NaN</td>\n",
       "      <td>0</td>\n",
       "      <td>3</td>\n",
       "      <td>2010</td>\n",
       "      <td>WD</td>\n",
       "      <td>138500</td>\n",
       "    </tr>\n",
       "  </tbody>\n",
       "</table>\n",
       "<p>5 rows × 81 columns</p>\n",
       "</div>"
      ],
      "text/plain": [
       "    Id        PID  MS SubClass MS Zoning  Lot Frontage  Lot Area Street Alley  \\\n",
       "0  109  533352170           60        RL           NaN     13517   Pave   NaN   \n",
       "1  544  531379050           60        RL          43.0     11492   Pave   NaN   \n",
       "2  153  535304180           20        RL          68.0      7922   Pave   NaN   \n",
       "3  318  916386060           60        RL          73.0      9802   Pave   NaN   \n",
       "4  255  906425045           50        RL          82.0     14235   Pave   NaN   \n",
       "\n",
       "  Lot Shape Land Contour  ... Screen Porch Pool Area Pool QC Fence  \\\n",
       "0       IR1          Lvl  ...            0         0     NaN   NaN   \n",
       "1       IR1          Lvl  ...            0         0     NaN   NaN   \n",
       "2       Reg          Lvl  ...            0         0     NaN   NaN   \n",
       "3       Reg          Lvl  ...            0         0     NaN   NaN   \n",
       "4       IR1          Lvl  ...            0         0     NaN   NaN   \n",
       "\n",
       "  Misc Feature Misc Val Mo Sold Yr Sold  Sale Type  SalePrice  \n",
       "0          NaN        0       3    2010        WD      130500  \n",
       "1          NaN        0       4    2009        WD      220000  \n",
       "2          NaN        0       1    2010        WD      109000  \n",
       "3          NaN        0       4    2010        WD      174000  \n",
       "4          NaN        0       3    2010        WD      138500  \n",
       "\n",
       "[5 rows x 81 columns]"
      ]
     },
     "execution_count": 3,
     "metadata": {},
     "output_type": "execute_result"
    }
   ],
   "source": [
    "ames_train.head()"
   ]
  },
  {
   "cell_type": "code",
   "execution_count": 4,
   "id": "cefdcf12-929e-4402-b996-e56bce4fe2f7",
   "metadata": {},
   "outputs": [
    {
     "data": {
      "text/html": [
       "<div>\n",
       "<style scoped>\n",
       "    .dataframe tbody tr th:only-of-type {\n",
       "        vertical-align: middle;\n",
       "    }\n",
       "\n",
       "    .dataframe tbody tr th {\n",
       "        vertical-align: top;\n",
       "    }\n",
       "\n",
       "    .dataframe thead th {\n",
       "        text-align: right;\n",
       "    }\n",
       "</style>\n",
       "<table border=\"1\" class=\"dataframe\">\n",
       "  <thead>\n",
       "    <tr style=\"text-align: right;\">\n",
       "      <th></th>\n",
       "      <th>Id</th>\n",
       "      <th>PID</th>\n",
       "      <th>MS SubClass</th>\n",
       "      <th>MS Zoning</th>\n",
       "      <th>Lot Frontage</th>\n",
       "      <th>Lot Area</th>\n",
       "      <th>Street</th>\n",
       "      <th>Alley</th>\n",
       "      <th>Lot Shape</th>\n",
       "      <th>Land Contour</th>\n",
       "      <th>...</th>\n",
       "      <th>3Ssn Porch</th>\n",
       "      <th>Screen Porch</th>\n",
       "      <th>Pool Area</th>\n",
       "      <th>Pool QC</th>\n",
       "      <th>Fence</th>\n",
       "      <th>Misc Feature</th>\n",
       "      <th>Misc Val</th>\n",
       "      <th>Mo Sold</th>\n",
       "      <th>Yr Sold</th>\n",
       "      <th>Sale Type</th>\n",
       "    </tr>\n",
       "  </thead>\n",
       "  <tbody>\n",
       "    <tr>\n",
       "      <th>0</th>\n",
       "      <td>2658</td>\n",
       "      <td>902301120</td>\n",
       "      <td>190</td>\n",
       "      <td>RM</td>\n",
       "      <td>69.0</td>\n",
       "      <td>9142</td>\n",
       "      <td>Pave</td>\n",
       "      <td>Grvl</td>\n",
       "      <td>Reg</td>\n",
       "      <td>Lvl</td>\n",
       "      <td>...</td>\n",
       "      <td>0</td>\n",
       "      <td>0</td>\n",
       "      <td>0</td>\n",
       "      <td>NaN</td>\n",
       "      <td>NaN</td>\n",
       "      <td>NaN</td>\n",
       "      <td>0</td>\n",
       "      <td>4</td>\n",
       "      <td>2006</td>\n",
       "      <td>WD</td>\n",
       "    </tr>\n",
       "    <tr>\n",
       "      <th>1</th>\n",
       "      <td>2718</td>\n",
       "      <td>905108090</td>\n",
       "      <td>90</td>\n",
       "      <td>RL</td>\n",
       "      <td>NaN</td>\n",
       "      <td>9662</td>\n",
       "      <td>Pave</td>\n",
       "      <td>NaN</td>\n",
       "      <td>IR1</td>\n",
       "      <td>Lvl</td>\n",
       "      <td>...</td>\n",
       "      <td>0</td>\n",
       "      <td>0</td>\n",
       "      <td>0</td>\n",
       "      <td>NaN</td>\n",
       "      <td>NaN</td>\n",
       "      <td>NaN</td>\n",
       "      <td>0</td>\n",
       "      <td>8</td>\n",
       "      <td>2006</td>\n",
       "      <td>WD</td>\n",
       "    </tr>\n",
       "    <tr>\n",
       "      <th>2</th>\n",
       "      <td>2414</td>\n",
       "      <td>528218130</td>\n",
       "      <td>60</td>\n",
       "      <td>RL</td>\n",
       "      <td>58.0</td>\n",
       "      <td>17104</td>\n",
       "      <td>Pave</td>\n",
       "      <td>NaN</td>\n",
       "      <td>IR1</td>\n",
       "      <td>Lvl</td>\n",
       "      <td>...</td>\n",
       "      <td>0</td>\n",
       "      <td>0</td>\n",
       "      <td>0</td>\n",
       "      <td>NaN</td>\n",
       "      <td>NaN</td>\n",
       "      <td>NaN</td>\n",
       "      <td>0</td>\n",
       "      <td>9</td>\n",
       "      <td>2006</td>\n",
       "      <td>New</td>\n",
       "    </tr>\n",
       "    <tr>\n",
       "      <th>3</th>\n",
       "      <td>1989</td>\n",
       "      <td>902207150</td>\n",
       "      <td>30</td>\n",
       "      <td>RM</td>\n",
       "      <td>60.0</td>\n",
       "      <td>8520</td>\n",
       "      <td>Pave</td>\n",
       "      <td>NaN</td>\n",
       "      <td>Reg</td>\n",
       "      <td>Lvl</td>\n",
       "      <td>...</td>\n",
       "      <td>0</td>\n",
       "      <td>0</td>\n",
       "      <td>0</td>\n",
       "      <td>NaN</td>\n",
       "      <td>NaN</td>\n",
       "      <td>NaN</td>\n",
       "      <td>0</td>\n",
       "      <td>7</td>\n",
       "      <td>2007</td>\n",
       "      <td>WD</td>\n",
       "    </tr>\n",
       "    <tr>\n",
       "      <th>4</th>\n",
       "      <td>625</td>\n",
       "      <td>535105100</td>\n",
       "      <td>20</td>\n",
       "      <td>RL</td>\n",
       "      <td>NaN</td>\n",
       "      <td>9500</td>\n",
       "      <td>Pave</td>\n",
       "      <td>NaN</td>\n",
       "      <td>IR1</td>\n",
       "      <td>Lvl</td>\n",
       "      <td>...</td>\n",
       "      <td>0</td>\n",
       "      <td>185</td>\n",
       "      <td>0</td>\n",
       "      <td>NaN</td>\n",
       "      <td>NaN</td>\n",
       "      <td>NaN</td>\n",
       "      <td>0</td>\n",
       "      <td>7</td>\n",
       "      <td>2009</td>\n",
       "      <td>WD</td>\n",
       "    </tr>\n",
       "  </tbody>\n",
       "</table>\n",
       "<p>5 rows × 80 columns</p>\n",
       "</div>"
      ],
      "text/plain": [
       "     Id        PID  MS SubClass MS Zoning  Lot Frontage  Lot Area Street  \\\n",
       "0  2658  902301120          190        RM          69.0      9142   Pave   \n",
       "1  2718  905108090           90        RL           NaN      9662   Pave   \n",
       "2  2414  528218130           60        RL          58.0     17104   Pave   \n",
       "3  1989  902207150           30        RM          60.0      8520   Pave   \n",
       "4   625  535105100           20        RL           NaN      9500   Pave   \n",
       "\n",
       "  Alley Lot Shape Land Contour  ... 3Ssn Porch Screen Porch Pool Area Pool QC  \\\n",
       "0  Grvl       Reg          Lvl  ...          0            0         0     NaN   \n",
       "1   NaN       IR1          Lvl  ...          0            0         0     NaN   \n",
       "2   NaN       IR1          Lvl  ...          0            0         0     NaN   \n",
       "3   NaN       Reg          Lvl  ...          0            0         0     NaN   \n",
       "4   NaN       IR1          Lvl  ...          0          185         0     NaN   \n",
       "\n",
       "  Fence Misc Feature Misc Val Mo Sold  Yr Sold  Sale Type  \n",
       "0   NaN          NaN        0       4     2006        WD   \n",
       "1   NaN          NaN        0       8     2006        WD   \n",
       "2   NaN          NaN        0       9     2006        New  \n",
       "3   NaN          NaN        0       7     2007        WD   \n",
       "4   NaN          NaN        0       7     2009        WD   \n",
       "\n",
       "[5 rows x 80 columns]"
      ]
     },
     "execution_count": 4,
     "metadata": {},
     "output_type": "execute_result"
    }
   ],
   "source": [
    "ames_test.head()"
   ]
  },
  {
   "cell_type": "code",
   "execution_count": 5,
   "id": "a213a8f0-2756-435d-9c26-def83f8174e5",
   "metadata": {},
   "outputs": [
    {
     "data": {
      "text/plain": [
       "((2051, 81), (878, 80))"
      ]
     },
     "execution_count": 5,
     "metadata": {},
     "output_type": "execute_result"
    }
   ],
   "source": [
    "ames_train.shape, ames_test.shape"
   ]
  },
  {
   "cell_type": "code",
   "execution_count": 6,
   "id": "5e63720e-afdc-4cee-af4b-651af1e9a7a7",
   "metadata": {},
   "outputs": [
    {
     "data": {
      "text/plain": [
       "Pool QC           2042\n",
       "Misc Feature      1986\n",
       "Alley             1911\n",
       "Fence             1651\n",
       "Fireplace Qu      1000\n",
       "Lot Frontage       330\n",
       "Garage Finish      114\n",
       "Garage Qual        114\n",
       "Garage Yr Blt      114\n",
       "Garage Cond        114\n",
       "Garage Type        113\n",
       "Bsmt Exposure       58\n",
       "BsmtFin Type 2      56\n",
       "BsmtFin Type 1      55\n",
       "Bsmt Cond           55\n",
       "Bsmt Qual           55\n",
       "Mas Vnr Area        22\n",
       "Mas Vnr Type        22\n",
       "Bsmt Half Bath       2\n",
       "Bsmt Full Bath       2\n",
       "Garage Area          1\n",
       "Total Bsmt SF        1\n",
       "Bsmt Unf SF          1\n",
       "BsmtFin SF 2         1\n",
       "BsmtFin SF 1         1\n",
       "Garage Cars          1\n",
       "dtype: int64"
      ]
     },
     "execution_count": 6,
     "metadata": {},
     "output_type": "execute_result"
    }
   ],
   "source": [
    "# Checking for null values\n",
    "ames_train.isnull().sum().sort_values(ascending = False).loc[lambda x: x > 0]"
   ]
  },
  {
   "cell_type": "code",
   "execution_count": 7,
   "id": "4a3a0b7e-43d8-4381-9ff3-fbcf33fc57b8",
   "metadata": {},
   "outputs": [
    {
     "name": "stdout",
     "output_type": "stream",
     "text": [
      "Id                  int64\n",
      "PID                 int64\n",
      "MS SubClass         int64\n",
      "MS Zoning          object\n",
      "Lot Frontage      float64\n",
      "Lot Area            int64\n",
      "Street             object\n",
      "Alley              object\n",
      "Lot Shape          object\n",
      "Land Contour       object\n",
      "Utilities          object\n",
      "Lot Config         object\n",
      "Land Slope         object\n",
      "Neighborhood       object\n",
      "Condition 1        object\n",
      "Condition 2        object\n",
      "Bldg Type          object\n",
      "House Style        object\n",
      "Overall Qual        int64\n",
      "Overall Cond        int64\n",
      "Year Built          int64\n",
      "Year Remod/Add      int64\n",
      "Roof Style         object\n",
      "Roof Matl          object\n",
      "Exterior 1st       object\n",
      "Exterior 2nd       object\n",
      "Mas Vnr Type       object\n",
      "Mas Vnr Area      float64\n",
      "Exter Qual         object\n",
      "Exter Cond         object\n",
      "Foundation         object\n",
      "Bsmt Qual          object\n",
      "Bsmt Cond          object\n",
      "Bsmt Exposure      object\n",
      "BsmtFin Type 1     object\n",
      "BsmtFin SF 1      float64\n",
      "BsmtFin Type 2     object\n",
      "BsmtFin SF 2      float64\n",
      "Bsmt Unf SF       float64\n",
      "Total Bsmt SF     float64\n",
      "Heating            object\n",
      "Heating QC         object\n",
      "Central Air        object\n",
      "Electrical         object\n",
      "dtype: object\n",
      "BsmtFin SF 2       float64\n",
      "Bsmt Unf SF        float64\n",
      "Total Bsmt SF      float64\n",
      "Heating             object\n",
      "Heating QC          object\n",
      "Central Air         object\n",
      "Electrical          object\n",
      "1st Flr SF           int64\n",
      "2nd Flr SF           int64\n",
      "Low Qual Fin SF      int64\n",
      "Gr Liv Area          int64\n",
      "Bsmt Full Bath     float64\n",
      "Bsmt Half Bath     float64\n",
      "Full Bath            int64\n",
      "Half Bath            int64\n",
      "Bedroom AbvGr        int64\n",
      "Kitchen AbvGr        int64\n",
      "Kitchen Qual        object\n",
      "TotRms AbvGrd        int64\n",
      "Functional          object\n",
      "Fireplaces           int64\n",
      "Fireplace Qu        object\n",
      "Garage Type         object\n",
      "Garage Yr Blt      float64\n",
      "Garage Finish       object\n",
      "Garage Cars        float64\n",
      "Garage Area        float64\n",
      "Garage Qual         object\n",
      "Garage Cond         object\n",
      "Paved Drive         object\n",
      "Wood Deck SF         int64\n",
      "Open Porch SF        int64\n",
      "Enclosed Porch       int64\n",
      "3Ssn Porch           int64\n",
      "Screen Porch         int64\n",
      "Pool Area            int64\n",
      "Pool QC             object\n",
      "Fence               object\n",
      "Misc Feature        object\n",
      "Misc Val             int64\n",
      "Mo Sold              int64\n",
      "Yr Sold              int64\n",
      "Sale Type           object\n",
      "SalePrice            int64\n",
      "dtype: object\n"
     ]
    }
   ],
   "source": [
    "# Checking dtypes\n",
    "print(ames_train.dtypes.head(44))\n",
    "print(ames_train.dtypes.tail(44))"
   ]
  },
  {
   "cell_type": "code",
   "execution_count": 8,
   "id": "3fa6f0c3-e2b3-4d75-96ac-d9ab708c7607",
   "metadata": {},
   "outputs": [
    {
     "data": {
      "image/png": "[encoded data removed]",
      "text/plain": [
       "<Figure size 432x288 with 1 Axes>"
      ]
     },
     "metadata": {
      "needs_background": "light"
     },
     "output_type": "display_data"
    }
   ],
   "source": [
    "# Sale Price Histogram\n",
    "ames_train['SalePrice'].hist()\n",
    "plt.title('Sale Price Distribution (2006-2011)')\n",
    "plt.xlabel('Sale Price')\n",
    "plt.ylabel('Counts');"
   ]
  },
  {
   "cell_type": "markdown",
   "id": "ad2fae9b-6303-4417-ab8a-04bc33226173",
   "metadata": {},
   "source": [
    "The distribution of the home sale prices is right skewed, with most home sale prices falling right below the 200,000 dollar mark."
   ]
  },
  {
   "cell_type": "code",
   "execution_count": 9,
   "id": "c1baec64-fe44-4663-aa1d-055ca73b954b",
   "metadata": {},
   "outputs": [
    {
     "data": {
      "image/png": "[encoded data removed]",
      "text/plain": [
       "<Figure size 1440x2160 with 40 Axes>"
      ]
     },
     "metadata": {
      "needs_background": "light"
     },
     "output_type": "display_data"
    }
   ],
   "source": [
    "# Numerical Features Histograms\n",
    "ames_train.hist(layout=(8,5), bins=25, figsize=(20,30));"
   ]
  },
  {
   "cell_type": "markdown",
   "id": "c4a4dd6f-35aa-4e6b-84ce-b38a97fd469e",
   "metadata": {},
   "source": [
    "At a glance, I can tell which numerical features will be good ones to focus on, and which won't be useful. The more distribution the better."
   ]
  },
  {
   "cell_type": "code",
   "execution_count": 10,
   "id": "2853aba0-2f51-404a-b719-e384c6ecc6e4",
   "metadata": {},
   "outputs": [
    {
     "data": {
      "image/png": "[encoded data removed]",
      "text/plain": [
       "<Figure size 720x576 with 2 Axes>"
      ]
     },
     "metadata": {
      "needs_background": "light"
     },
     "output_type": "display_data"
    }
   ],
   "source": [
    "# Numerical Features Heatmap\n",
    "plt.figure(figsize=(10,8))\n",
    "sns.heatmap(ames_train.corr()[['SalePrice']].sort_values(by=['SalePrice'], ascending=False), \n",
    "            vmin=-1, \n",
    "            vmax=1, \n",
    "            cmap='coolwarm', \n",
    "            annot=True);"
   ]
  },
  {
   "cell_type": "markdown",
   "id": "6183345d-6029-4ee1-b26d-cb286d666982",
   "metadata": {},
   "source": [
    "To supplement the previous numerical feature histograms, this heatmap calls out which features are most highly correlated with the sale price of a home. Overall Quality, Above Ground Living Area, Garage Area, Garage Cars, Total Basement Square Footage and First Floor Square Footage will be top of mind through this analysis."
   ]
  },
  {
   "cell_type": "code",
   "execution_count": 11,
   "id": "041537cc-0513-4959-a096-861da1728cd8",
   "metadata": {},
   "outputs": [
    {
     "data": {
      "image/png": "[encoded data removed]",
      "text/plain": [
       "<Figure size 1440x2880 with 40 Axes>"
      ]
     },
     "metadata": {
      "needs_background": "light"
     },
     "output_type": "display_data"
    }
   ],
   "source": [
    "# Categorical Features Barcharts\n",
    "fig, axes =plt.subplots(10,4, figsize=(20,40), sharex=True)\n",
    "axes = axes.flatten()\n",
    "object_cols = ames_train.dtypes == 'object'\n",
    "for ax, catplot in zip(axes, ames_train.dtypes[object_cols].index):\n",
    "    sns.countplot(y=catplot, data=ames_train, ax=ax)\n",
    "\n",
    "plt.tight_layout()  \n",
    "plt.show()"
   ]
  },
  {
   "cell_type": "markdown",
   "id": "072a296a-a663-42eb-8cf8-a9631381cde9",
   "metadata": {},
   "source": [
    "Similar to the numerical feature histrograms, at a glance, I can tell which categorical features will be good ones to focus on, and which won't be useful. The more variabillity the better."
   ]
  },
  {
   "cell_type": "code",
   "execution_count": 12,
   "id": "1ed4157a-c9d7-46ad-abb6-e18cf56f41a3",
   "metadata": {},
   "outputs": [],
   "source": [
    "# Replacing the null values in the numerical feature columns with 0\n",
    "# Replacing the null values in the categorical feature columns with NA\n",
    "\n",
    "ames_train['Pool QC'].replace(np.nan, 'NA', inplace=True)\n",
    "ames_train['Misc Feature'].replace(np.nan, 'NA', inplace=True)\n",
    "ames_train['Alley'].replace(np.nan, 'NA', inplace=True)\n",
    "ames_train['Fence'].replace(np.nan, 'NA', inplace=True)\n",
    "ames_train['Fireplace Qu'].replace(np.nan, 'NA', inplace=True)\n",
    "ames_train['Lot Frontage'].replace(np.nan, 0, inplace=True)\n",
    "ames_train['Garage Finish'].replace(np.nan, 'NA', inplace=True)\n",
    "ames_train['Garage Qual'].replace(np.nan, 'NA', inplace=True)\n",
    "ames_train['Garage Yr Blt'].replace(np.nan, 0, inplace=True)\n",
    "ames_train['Garage Cond'].replace(np.nan, 'NA', inplace=True)\n",
    "ames_train['Garage Type'].replace(np.nan, 'NA', inplace=True)\n",
    "ames_train['Bsmt Exposure'].replace(np.nan, 'NA', inplace=True)\n",
    "ames_train['BsmtFin Type 2'].replace(np.nan, 'NA', inplace=True)\n",
    "ames_train['BsmtFin Type 1'].replace(np.nan, 'NA', inplace=True)\n",
    "ames_train['Bsmt Cond'].replace(np.nan, 'NA', inplace=True)\n",
    "ames_train['Bsmt Qual'].replace(np.nan, 'NA', inplace=True)\n",
    "ames_train['Mas Vnr Area'].replace(np.nan, 0, inplace=True)\n",
    "ames_train['Mas Vnr Type'].replace(np.nan, 'NA', inplace=True)\n",
    "ames_train['Bsmt Half Bath'].replace(np.nan, 0, inplace=True)\n",
    "ames_train['Bsmt Full Bath'].replace(np.nan, 0, inplace=True)\n",
    "ames_train['Garage Area'].replace(np.nan, 0, inplace=True)\n",
    "ames_train['Total Bsmt SF'].replace(np.nan, 0, inplace=True)\n",
    "ames_train['Bsmt Unf SF'].replace(np.nan, 0, inplace=True)\n",
    "ames_train['BsmtFin SF 2'].replace(np.nan, 0, inplace=True)\n",
    "ames_train['BsmtFin SF 1'].replace(np.nan, 0, inplace=True)\n",
    "ames_train['Garage Cars'].replace(np.nan, 0, inplace=True)"
   ]
  },
  {
   "cell_type": "code",
   "execution_count": 13,
   "id": "0874566b-c352-481d-893f-677c575ef847",
   "metadata": {},
   "outputs": [],
   "source": [
    "# Changing the column names to snake case\n",
    "ames_train.columns = ames_train.columns.str.lower().str.replace(' ', '_')"
   ]
  },
  {
   "cell_type": "markdown",
   "id": "f0513c0c-0fb0-4010-b7b8-9afcc9ed588f",
   "metadata": {},
   "source": [
    "____"
   ]
  },
  {
   "cell_type": "markdown",
   "id": "7e418161-e184-4c2f-b02f-72cd1ec03c9e",
   "metadata": {},
   "source": [
    "## Pre-Processing"
   ]
  },
  {
   "cell_type": "markdown",
   "id": "b2339274-ec25-4805-82a1-a37b33260fb3",
   "metadata": {},
   "source": [
    "#### Train/Validation Set Split"
   ]
  },
  {
   "cell_type": "code",
   "execution_count": 14,
   "id": "b624d109-96ae-48c8-a509-5db7bd44b0a2",
   "metadata": {},
   "outputs": [],
   "source": [
    "X = ames_train.drop(columns = ['pid','saleprice'])\n",
    "y = ames_train['saleprice']"
   ]
  },
  {
   "cell_type": "code",
   "execution_count": 15,
   "id": "334a9e15-71b7-412f-a9a6-598ea421db90",
   "metadata": {},
   "outputs": [],
   "source": [
    "X_train, X_val, y_train, y_val = train_test_split(X, y, test_size = 0.2, random_state = 42)"
   ]
  },
  {
   "cell_type": "code",
   "execution_count": 16,
   "id": "ad68f676-9c7c-4607-861f-ef0230da220f",
   "metadata": {},
   "outputs": [
    {
     "data": {
      "text/plain": [
       "((1640, 79), (411, 79), (1640,), (411,))"
      ]
     },
     "execution_count": 16,
     "metadata": {},
     "output_type": "execute_result"
    }
   ],
   "source": [
    "X_train.shape, X_val.shape, y_train.shape, y_val.shape"
   ]
  },
  {
   "cell_type": "code",
   "execution_count": 17,
   "id": "9ec4df85-90f0-480c-bd12-042a30da503e",
   "metadata": {},
   "outputs": [],
   "source": [
    "# Stashing id columns away and dropping from X_train & X_val\n",
    "train_id = X_train['id']\n",
    "val_id = X_val['id']\n",
    "\n",
    "X_train.drop(columns = ['id'], inplace = True)\n",
    "X_val.drop(columns = ['id'], inplace = True)"
   ]
  },
  {
   "cell_type": "markdown",
   "id": "c2b36baf-cac0-41cc-96a5-9bb68c6f9f42",
   "metadata": {},
   "source": [
    "#### Transforming: One-Hot-Encoding & Scaling"
   ]
  },
  {
   "cell_type": "code",
   "execution_count": 18,
   "id": "5d8b8acb-1239-4864-a4a9-384e41c8dae2",
   "metadata": {},
   "outputs": [],
   "source": [
    "# Help from here: \n",
    "# https://towardsdatascience.com/pipeline-columntransformer-and-featureunion-explained-f5491f815f"
   ]
  },
  {
   "cell_type": "code",
   "execution_count": 19,
   "id": "06aba1e9-603e-4802-9061-999801a40f4f",
   "metadata": {},
   "outputs": [],
   "source": [
    "numerical = [col for col in X_train._get_numeric_data().columns]\n",
    "categorical = [col for col in X_train.columns if col not in numerical]"
   ]
  },
  {
   "cell_type": "code",
   "execution_count": 20,
   "id": "ebdecb87-2fdf-4384-80af-7c01ce08592a",
   "metadata": {},
   "outputs": [],
   "source": [
    "cat_pipe = Pipeline([('ohe', OneHotEncoder(handle_unknown='ignore', sparse=False))])\n",
    "\n",
    "num_pipe = Pipeline([('ss', StandardScaler())])\n",
    "    \n",
    "transformer = ColumnTransformer([\n",
    "    ('cat', cat_pipe, categorical),\n",
    "    ('num', num_pipe, numerical)\n",
    "])"
   ]
  },
  {
   "cell_type": "code",
   "execution_count": 21,
   "id": "4acb3c79-7b8e-4478-a27f-d526271c1a1b",
   "metadata": {},
   "outputs": [],
   "source": [
    "Xt_train = transformer.fit_transform(X_train)\n",
    "Xt_train = pd.DataFrame(Xt_train, columns = transformer.get_feature_names_out(X_train.columns))"
   ]
  },
  {
   "cell_type": "code",
   "execution_count": 22,
   "id": "38f9d7b1-7767-4f58-8dad-e2d39179d172",
   "metadata": {},
   "outputs": [],
   "source": [
    "Xt_val = transformer.transform(X_val)\n",
    "Xt_val = pd.DataFrame(Xt_val, columns = transformer.get_feature_names_out(X_val.columns))"
   ]
  },
  {
   "cell_type": "markdown",
   "id": "382ca651-2e7e-4010-b9fc-4ee10fe80b4b",
   "metadata": {},
   "source": [
    "___"
   ]
  },
  {
   "cell_type": "markdown",
   "id": "7290a670-5d5d-4ea3-b1ea-d7032dcfd3e8",
   "metadata": {},
   "source": [
    "## Model Exploration"
   ]
  },
  {
   "cell_type": "markdown",
   "id": "03f49b5e-e859-42ea-ae91-ae3b6bff82d8",
   "metadata": {},
   "source": [
    "#### Linear Regression #1\n",
    "\n",
    "* Linear Regression #1 is not good model. It does not do well at all with unseen data and is incredibly overfit."
   ]
  },
  {
   "cell_type": "code",
   "execution_count": 23,
   "id": "10a2a153-6780-45c2-8169-55bd066eab42",
   "metadata": {},
   "outputs": [
    {
     "data": {
      "text/plain": [
       "LinearRegression()"
      ]
     },
     "execution_count": 23,
     "metadata": {},
     "output_type": "execute_result"
    }
   ],
   "source": [
    "lr = LinearRegression()\n",
    "\n",
    "lr.fit(Xt_train, y_train)"
   ]
  },
  {
   "cell_type": "code",
   "execution_count": 24,
   "id": "971e723d-f19d-4af4-83d8-0cf91883ffdf",
   "metadata": {},
   "outputs": [
    {
     "data": {
      "text/plain": [
       "array([-1.35975312e+12, -1.35975308e+12, -1.35975306e+12, -1.35975306e+12,\n",
       "       -1.35975307e+12, -1.35975307e+12,  8.35165178e+14,  8.35165178e+14,\n",
       "        6.50553664e+14,  6.50553664e+14,  6.50553664e+14,  5.32852127e+14,\n",
       "        5.32852127e+14,  5.32852127e+14,  5.32852127e+14, -1.97075151e+14,\n",
       "       -1.97075151e+14, -1.97075151e+14, -1.97075151e+14, -1.08452766e+15,\n",
       "       -1.67486541e+14, -1.67486541e+14, -1.67486541e+14, -1.67486541e+14,\n",
       "       -1.67486541e+14,  2.24494181e+14,  2.24494181e+14,  2.24494181e+14,\n",
       "       -2.30093927e+14, -2.30093927e+14, -2.30093927e+14, -2.30093927e+14,\n",
       "       -2.30093927e+14, -2.30093927e+14, -2.30093927e+14, -2.30093927e+14,\n",
       "       -2.30093927e+14, -2.30093927e+14, -2.30093927e+14, -2.30093927e+14,\n",
       "       -2.30093927e+14, -2.30093927e+14, -2.30093927e+14, -2.30093927e+14,\n",
       "       -2.30093927e+14, -2.30093927e+14, -2.30093927e+14, -2.30093927e+14,\n",
       "       -2.30093927e+14, -2.30093927e+14, -2.30093927e+14, -2.30093927e+14,\n",
       "       -2.30093927e+14, -2.30093927e+14, -2.30093927e+14, -2.30093927e+14,\n",
       "        9.89972115e+13,  9.89972115e+13,  9.89972115e+13,  9.89972115e+13,\n",
       "        9.89972115e+13,  9.89972115e+13,  9.89972115e+13,  9.89972115e+13,\n",
       "        9.89972115e+13,  2.41861343e+14,  2.41861343e+14,  2.41861343e+14,\n",
       "        2.41861343e+14,  2.41861343e+14,  2.41861343e+14,  2.41861343e+14,\n",
       "        1.16855567e+15,  1.16855567e+15,  1.16855567e+15,  1.16855567e+15,\n",
       "        1.16855567e+15,  1.80727096e+14,  1.80727096e+14,  1.80727096e+14,\n",
       "        1.80727096e+14,  1.80727096e+14,  1.80727096e+14,  1.80727096e+14,\n",
       "        1.80727096e+14, -7.22731732e+14, -7.22731732e+14, -7.22731732e+14,\n",
       "       -7.22731732e+14, -7.22731732e+14, -7.22731732e+14, -3.67204152e+14,\n",
       "       -3.67204151e+14, -3.67204151e+14, -3.67204151e+14, -3.67204151e+14,\n",
       "       -3.67204151e+14, -6.12472330e+13, -6.12472330e+13, -6.12472331e+13,\n",
       "       -6.12472330e+13, -6.12472330e+13, -6.12472330e+13, -6.12472330e+13,\n",
       "       -6.12472330e+13, -6.12472330e+13, -6.12472330e+13, -6.12472331e+13,\n",
       "       -6.12472330e+13, -6.12472330e+13, -6.12472330e+13, -6.12472330e+13,\n",
       "       -1.46180907e+13, -1.46180907e+13, -1.46180907e+13, -1.46180907e+13,\n",
       "       -1.46180907e+13, -1.46180907e+13, -1.46180907e+13, -1.46180907e+13,\n",
       "       -1.46180907e+13, -1.46180907e+13, -1.46180907e+13, -1.46180907e+13,\n",
       "       -1.46180907e+13, -1.46180907e+13, -1.46180907e+13,  3.43180682e+13,\n",
       "        3.43180682e+13,  3.43180682e+13,  3.43180682e+13,  3.43180682e+13,\n",
       "       -9.51781080e+14, -9.51781080e+14, -9.51781080e+14, -9.51781080e+14,\n",
       "       -1.20373439e+13, -1.20373439e+13, -1.20373439e+13, -1.20373439e+13,\n",
       "       -1.20373439e+13, -1.00884086e+14, -1.00884086e+14, -1.00884086e+14,\n",
       "       -1.00884086e+14, -1.00884086e+14, -1.00884086e+14, -5.86432979e+14,\n",
       "       -5.86432979e+14, -5.86432979e+14,  3.17229528e+14, -5.86432979e+14,\n",
       "       -5.86432979e+14,  3.74896187e+14,  3.74896187e+14,  3.74896187e+14,\n",
       "       -3.29715377e+14,  3.74896187e+14,  3.74896187e+14, -6.82352330e+13,\n",
       "       -6.82352330e+13, -6.82352330e+13, -6.82352330e+13, -6.82352330e+13,\n",
       "       -1.05735784e+14, -1.05735784e+14, -1.05735784e+14, -1.05735784e+14,\n",
       "       -3.04786728e+14, -1.05735784e+14, -1.05735784e+14,  1.42443088e+14,\n",
       "        1.42443088e+14,  1.42443088e+14,  1.42443088e+14,  1.42443088e+14,\n",
       "        1.42443088e+14,  1.42443088e+14,  1.87085227e+14,  1.87085227e+14,\n",
       "        1.87085227e+14,  1.87085227e+14,  1.87085227e+14,  2.18431400e+14,\n",
       "        2.18431400e+14,  2.18431400e+14,  2.18431400e+14,  2.18431400e+14,\n",
       "        4.86481686e+14,  4.86481686e+14, -2.29220480e+14, -2.29220480e+14,\n",
       "       -2.29220480e+14, -2.29220480e+14, -2.29220480e+14,  8.14675283e+14,\n",
       "        8.14675283e+14,  8.14675283e+14,  8.14675283e+14,  3.60922534e+13,\n",
       "        3.60922535e+13,  3.60922535e+13,  3.60922535e+13,  3.60922535e+13,\n",
       "        3.60922535e+13,  3.60922534e+13,  3.60922535e+13,  9.05050285e+12,\n",
       "        9.05050285e+12,  9.05050285e+12,  9.05050285e+12,  9.05050285e+12,\n",
       "        9.05050285e+12, -6.60860297e+14, -6.60860297e+14, -6.60860297e+14,\n",
       "       -6.60860297e+14, -6.60860297e+14, -6.60860297e+14, -2.99870901e+14,\n",
       "        2.98918696e+14, -1.38766515e+14,  2.98918696e+14,  2.98918696e+14,\n",
       "        5.75081737e+12,  5.75081726e+12,  5.75081728e+12, -1.40217235e+14,\n",
       "        5.75081724e+12,  5.75081727e+12, -3.30324928e+14, -3.30324928e+14,\n",
       "       -3.30324928e+14, -1.07661059e+14, -3.30324928e+14, -3.30324928e+14,\n",
       "        2.17180804e+14,  2.17180804e+14,  2.17180804e+14,  3.42118778e+13,\n",
       "        3.42118779e+13,  3.42118779e+13,  3.42118777e+13,  3.42118778e+13,\n",
       "        1.24659942e+14,  1.24659942e+14,  1.24659942e+14,  1.24659942e+14,\n",
       "        1.24659942e+14,  1.41173362e+14,  1.41173362e+14,  1.41173362e+14,\n",
       "        1.41173362e+14,  1.41173362e+14,  1.41173362e+14,  7.90668210e+13,\n",
       "        7.90668210e+13,  7.90668210e+13,  7.90668210e+13,  7.90668210e+13,\n",
       "        7.90668210e+13,  7.90668210e+13,  7.90668210e+13,  7.90668210e+13,\n",
       "       -2.74263281e+03,  1.09432031e+03,  6.24331250e+03,  8.68331250e+03,\n",
       "        5.89118750e+03,  9.45800000e+03,  1.39528125e+03,  4.36734375e+03,\n",
       "        3.38451328e+14,  1.20129877e+14,  3.20537519e+14, -3.26712133e+14,\n",
       "        3.29569633e+14,  3.47146277e+14,  4.17179612e+13, -4.12223916e+14,\n",
       "        1.68462500e+03,  3.33312500e+02,  1.70112500e+03,  8.03968750e+02,\n",
       "       -3.48440625e+03, -2.76150000e+03,  2.46809375e+03,  2.02193750e+03,\n",
       "        1.14250000e+04,  1.81075781e+03,  2.67454688e+03,  8.96648438e+02,\n",
       "        4.14281250e+02,  7.77125000e+02,  5.89703125e+02,  3.04631250e+03,\n",
       "       -9.09000000e+03,  3.43187500e+02, -4.61265625e+02, -2.29281250e+02])"
      ]
     },
     "execution_count": 24,
     "metadata": {},
     "output_type": "execute_result"
    }
   ],
   "source": [
    "lr.coef_"
   ]
  },
  {
   "cell_type": "code",
   "execution_count": 25,
   "id": "0dcb96d0-7c44-4e17-b8e0-844aaac09402",
   "metadata": {},
   "outputs": [
    {
     "data": {
      "text/html": [
       "<div>\n",
       "<style scoped>\n",
       "    .dataframe tbody tr th:only-of-type {\n",
       "        vertical-align: middle;\n",
       "    }\n",
       "\n",
       "    .dataframe tbody tr th {\n",
       "        vertical-align: top;\n",
       "    }\n",
       "\n",
       "    .dataframe thead th {\n",
       "        text-align: right;\n",
       "    }\n",
       "</style>\n",
       "<table border=\"1\" class=\"dataframe\">\n",
       "  <thead>\n",
       "    <tr style=\"text-align: right;\">\n",
       "      <th></th>\n",
       "      <th>feature</th>\n",
       "      <th>coefficient</th>\n",
       "    </tr>\n",
       "  </thead>\n",
       "  <tbody>\n",
       "    <tr>\n",
       "      <th>72</th>\n",
       "      <td>cat__bldg_type_1Fam</td>\n",
       "      <td>1.168556e+15</td>\n",
       "    </tr>\n",
       "    <tr>\n",
       "      <th>73</th>\n",
       "      <td>cat__bldg_type_2fmCon</td>\n",
       "      <td>1.168556e+15</td>\n",
       "    </tr>\n",
       "    <tr>\n",
       "      <th>74</th>\n",
       "      <td>cat__bldg_type_Duplex</td>\n",
       "      <td>1.168556e+15</td>\n",
       "    </tr>\n",
       "    <tr>\n",
       "      <th>76</th>\n",
       "      <td>cat__bldg_type_TwnhsE</td>\n",
       "      <td>1.168556e+15</td>\n",
       "    </tr>\n",
       "    <tr>\n",
       "      <th>75</th>\n",
       "      <td>cat__bldg_type_Twnhs</td>\n",
       "      <td>1.168556e+15</td>\n",
       "    </tr>\n",
       "    <tr>\n",
       "      <th>...</th>\n",
       "      <td>...</td>\n",
       "      <td>...</td>\n",
       "    </tr>\n",
       "    <tr>\n",
       "      <th>298</th>\n",
       "      <td>num__mo_sold</td>\n",
       "      <td>-4.612656e+02</td>\n",
       "    </tr>\n",
       "    <tr>\n",
       "      <th>292</th>\n",
       "      <td>num__open_porch_sf</td>\n",
       "      <td>4.142812e+02</td>\n",
       "    </tr>\n",
       "    <tr>\n",
       "      <th>297</th>\n",
       "      <td>num__misc_val</td>\n",
       "      <td>3.431875e+02</td>\n",
       "    </tr>\n",
       "    <tr>\n",
       "      <th>281</th>\n",
       "      <td>num__bsmt_half_bath</td>\n",
       "      <td>3.333125e+02</td>\n",
       "    </tr>\n",
       "    <tr>\n",
       "      <th>299</th>\n",
       "      <td>num__yr_sold</td>\n",
       "      <td>-2.292812e+02</td>\n",
       "    </tr>\n",
       "  </tbody>\n",
       "</table>\n",
       "<p>300 rows × 2 columns</p>\n",
       "</div>"
      ],
      "text/plain": [
       "                   feature   coefficient\n",
       "72     cat__bldg_type_1Fam  1.168556e+15\n",
       "73   cat__bldg_type_2fmCon  1.168556e+15\n",
       "74   cat__bldg_type_Duplex  1.168556e+15\n",
       "76   cat__bldg_type_TwnhsE  1.168556e+15\n",
       "75    cat__bldg_type_Twnhs  1.168556e+15\n",
       "..                     ...           ...\n",
       "298           num__mo_sold -4.612656e+02\n",
       "292     num__open_porch_sf  4.142812e+02\n",
       "297          num__misc_val  3.431875e+02\n",
       "281    num__bsmt_half_bath  3.333125e+02\n",
       "299           num__yr_sold -2.292812e+02\n",
       "\n",
       "[300 rows x 2 columns]"
      ]
     },
     "execution_count": 25,
     "metadata": {},
     "output_type": "execute_result"
    }
   ],
   "source": [
    "lr_coefs = pd.DataFrame({'feature': Xt_train.columns,'coefficient': lr.coef_})\n",
    "lr_coefs.sort_values(by='coefficient', key=abs, ascending=False)"
   ]
  },
  {
   "cell_type": "code",
   "execution_count": 26,
   "id": "5d6013d7-efec-4388-acd7-a5cbb3ae7845",
   "metadata": {},
   "outputs": [
    {
     "data": {
      "text/plain": [
       "-6.717120628956251e+20"
      ]
     },
     "execution_count": 26,
     "metadata": {},
     "output_type": "execute_result"
    }
   ],
   "source": [
    "cross_val_score(lr, Xt_train, y_train).mean()"
   ]
  },
  {
   "cell_type": "code",
   "execution_count": 27,
   "id": "64d3c8e7-195d-49a2-866e-09e6212644a6",
   "metadata": {},
   "outputs": [
    {
     "data": {
      "text/plain": [
       "0.943999472427162"
      ]
     },
     "execution_count": 27,
     "metadata": {},
     "output_type": "execute_result"
    }
   ],
   "source": [
    "lr.score(Xt_train, y_train)"
   ]
  },
  {
   "cell_type": "code",
   "execution_count": 28,
   "id": "68072052-266a-4bb3-a229-ae2b4344239f",
   "metadata": {},
   "outputs": [
    {
     "data": {
      "text/plain": [
       "-1.041851213443985e+18"
      ]
     },
     "execution_count": 28,
     "metadata": {},
     "output_type": "execute_result"
    }
   ],
   "source": [
    "lr.score(Xt_val, y_val)"
   ]
  },
  {
   "cell_type": "code",
   "execution_count": 29,
   "id": "34e71e97-e7f4-4c5d-9995-4de41b4bb097",
   "metadata": {},
   "outputs": [
    {
     "data": {
      "text/plain": [
       "18876.90156188903"
      ]
     },
     "execution_count": 29,
     "metadata": {},
     "output_type": "execute_result"
    }
   ],
   "source": [
    "mean_squared_error(y_train, lr.predict(Xt_train))**0.5"
   ]
  },
  {
   "cell_type": "code",
   "execution_count": 30,
   "id": "8f27e86d-398e-4ee3-a745-1a65ffc60126",
   "metadata": {},
   "outputs": [
    {
     "data": {
      "text/plain": [
       "78677665998553.22"
      ]
     },
     "execution_count": 30,
     "metadata": {},
     "output_type": "execute_result"
    }
   ],
   "source": [
    "mean_squared_error(y_val, lr.predict(Xt_val))**0.5"
   ]
  },
  {
   "cell_type": "markdown",
   "id": "80e7c0cc-dcd3-4fa5-8873-aa2aedfe954c",
   "metadata": {},
   "source": [
    "#### RidgeCV #1\n",
    "\n",
    "* RidgeCV #1 with the optimal alpha of 12.91549665014884 performed substantially better than Linear Regression #1. \n",
    "\n",
    "* The validation R2 score of 0.9148108834746805 far exceeded the cross validation score of 0.832332789187223 and beat the training R2 score of 0.9107801491804361 by a tad as well.\n",
    "\n",
    "* The sale price predictions on the validation set were off by 22497.83224543844."
   ]
  },
  {
   "cell_type": "code",
   "execution_count": 31,
   "id": "ca8b303f-387e-47e4-b6d7-7cbc42dc8774",
   "metadata": {},
   "outputs": [
    {
     "data": {
      "text/plain": [
       "RidgeCV(alphas=array([1.00000000e+00, 3.59381366e+00, 1.29154967e+01, 4.64158883e+01,\n",
       "       1.66810054e+02, 5.99484250e+02, 2.15443469e+03, 7.74263683e+03,\n",
       "       2.78255940e+04, 1.00000000e+05]))"
      ]
     },
     "execution_count": 31,
     "metadata": {},
     "output_type": "execute_result"
    }
   ],
   "source": [
    "ridgecv = RidgeCV(alphas = np.logspace(0, 5, 10, 100))\n",
    "\n",
    "ridgecv.fit(Xt_train, y_train)"
   ]
  },
  {
   "cell_type": "code",
   "execution_count": 32,
   "id": "ed3ddf65-1748-4c35-852b-fc04bb0b58bc",
   "metadata": {},
   "outputs": [
    {
     "data": {
      "text/plain": [
       "12.91549665014884"
      ]
     },
     "execution_count": 32,
     "metadata": {},
     "output_type": "execute_result"
    }
   ],
   "source": [
    "ridgecv.alpha_"
   ]
  },
  {
   "cell_type": "code",
   "execution_count": 33,
   "id": "360ec885-015c-4a62-9b22-30c03033827d",
   "metadata": {},
   "outputs": [
    {
     "data": {
      "text/plain": [
       "array([-2.35494182e+03, -5.46421729e+03,  3.92989474e+03,  4.03680396e+03,\n",
       "        1.98696953e+03, -2.13450913e+03, -3.67972513e+03,  3.67972513e+03,\n",
       "        1.07534236e+03,  1.24305723e+03, -2.31839959e+03,  3.59017392e+03,\n",
       "        8.48214051e+03, -1.50069287e+04,  2.93461428e+03, -1.02473328e+04,\n",
       "        9.54635902e+03, -3.93577794e+02,  1.09455158e+03,  0.00000000e+00,\n",
       "        9.18063435e+01,  6.14013879e+03, -3.00939218e+03, -3.85256996e+03,\n",
       "        6.30017012e+02, -1.18379166e+03,  2.95588508e+03, -1.77209342e+03,\n",
       "       -4.08775053e+03, -2.27095532e+03,  2.01481883e+03, -4.97270948e+02,\n",
       "       -1.59274145e+03, -6.36464751e+03,  7.34709587e+03, -1.67480003e+04,\n",
       "       -1.14035926e+04, -3.95417404e+02,  1.41552767e+04, -4.46860027e+03,\n",
       "       -6.14750528e+02, -1.28632688e+03, -4.72897563e+03, -8.13701209e+03,\n",
       "        1.60972112e+03, -8.75961737e+03,  1.90938809e+04,  2.10624475e+04,\n",
       "       -7.27260691e+03, -3.18183983e+03, -6.52546245e+03, -7.79886910e+03,\n",
       "        4.82915239e+03,  2.75950857e+04, -3.59622835e+03,  2.02318645e+03,\n",
       "       -2.76530450e+03, -3.38535853e+03,  5.54560619e+03,  2.95686610e+03,\n",
       "        1.19291661e+04, -7.43169485e+03, -4.52478709e+02, -1.73011125e+03,\n",
       "       -4.66669054e+03, -1.62708210e+03, -1.46124749e+02, -2.68091778e+03,\n",
       "        3.30127385e+03,  9.71177786e+02, -1.39168594e+01,  1.95589851e+02,\n",
       "        5.09372804e+03,  7.03251927e+03,  2.30392439e+02, -6.74552025e+03,\n",
       "       -5.61111949e+03, -2.35913297e+03,  2.25705556e+02,  2.18339789e+03,\n",
       "        6.19533861e+03,  6.27440223e+02, -5.92754238e+03,  1.07729888e+03,\n",
       "       -2.02250580e+03, -1.57636264e+03,  2.15802767e+03,  1.26938715e+03,\n",
       "        5.99428154e+03, -8.65234673e+03,  8.07013016e+02, -2.37477145e+04,\n",
       "        6.92375159e+03,  1.61199177e+03,  1.52801259e+03,  1.70926418e+03,\n",
       "        1.19746944e+04, -1.40037740e+03,  9.02147770e+02, -2.19998075e+03,\n",
       "        1.17571826e+04, -3.47846180e+02,  3.12601500e+03, -3.43050967e+03,\n",
       "        2.56379687e+02,  1.85652503e+03,  7.47286945e+02, -6.13943144e+02,\n",
       "       -8.36500745e+03,  1.57686383e+03, -4.78327064e+03,  9.18534328e+02,\n",
       "       -3.06000526e+02,  2.32009404e+03, -4.44298511e+02, -3.13592947e+02,\n",
       "       -1.21933392e+03,  1.20948921e+03,  8.72124578e+02, -3.84075702e+02,\n",
       "        8.02435947e+02, -1.91005537e+03, -1.59592796e+03, -5.67278234e+03,\n",
       "        1.12480025e+03,  4.81050355e+03,  7.06619702e+02, -6.24237385e+03,\n",
       "       -8.91130844e+02,  1.26866356e+03,  2.78908795e+03,  3.07575318e+03,\n",
       "        1.89940154e+04, -5.15451515e+03, -4.58078284e+03, -9.25871741e+03,\n",
       "        1.91833816e+03,  1.63112400e+03, -1.86967978e+03, -2.26686602e+03,\n",
       "        5.87083634e+02, -8.33000923e+02,  6.10932173e+02,  3.23024078e+03,\n",
       "       -5.70765579e+03,  2.60020979e+03,  9.92739722e+01,  1.04007985e+04,\n",
       "       -4.97443246e+02, -5.96817598e+03, -4.60437428e+02,  4.52669807e+02,\n",
       "       -3.92741160e+03,  3.36128507e+02, -2.56844826e+03,  1.05591368e+03,\n",
       "       -4.60437428e+02, -2.41078161e+02,  1.87792166e+03,  8.64360231e+02,\n",
       "        1.20322656e+04, -5.68758163e+03, -1.67240667e+03, -5.53663754e+03,\n",
       "        2.35793795e+03,  1.61787408e+03,  4.99636039e+03, -4.04719554e+03,\n",
       "       -4.60437428e+02, -4.17516562e+02, -4.04702288e+03,  4.20142982e+03,\n",
       "       -3.56033879e+02,  3.68902916e+03, -3.42521377e+03, -2.96199899e+02,\n",
       "       -4.13341127e+03,  3.20399844e+02,  4.15711412e+03,  4.15208258e+03,\n",
       "       -3.50421968e+03, -3.90332571e+03, -9.01651311e+02,  4.02780441e+03,\n",
       "        4.89201167e+02,  1.41832789e+03, -4.37371889e+03, -1.56161458e+03,\n",
       "        7.23976937e+02, -7.23976937e+02, -2.20521985e+02, -4.46438015e+01,\n",
       "        1.73299463e+03, -6.03747964e+02, -8.64080884e+02,  1.58666078e+04,\n",
       "       -6.31368688e+03, -3.66761218e+03, -5.88530877e+03, -6.65327840e+03,\n",
       "       -2.14012875e+03,  2.85397169e+03,  1.11359870e+03,  9.04549074e+02,\n",
       "       -2.79117331e+03, -1.99913891e+03,  8.71159990e+03,  4.89279699e+03,\n",
       "       -3.87487330e+03,  1.39034996e+03, -2.50472773e+03, -2.59082345e+03,\n",
       "        2.68727753e+03, -4.99006285e+03,  2.96884322e+03, -1.07421421e+03,\n",
       "        3.60569342e+03, -2.44326449e+03,  1.60792526e+03,  3.25079651e+02,\n",
       "        1.26935042e+03,  3.25079651e+02, -2.65059205e+03,  1.05616198e+03,\n",
       "        5.71346386e+03, -5.43907457e+03,  9.64588045e+03,  3.25079651e+02,\n",
       "       -2.88944000e+03, -7.35590939e+03, -7.44202938e+02,  1.59560766e+02,\n",
       "        4.47975791e+02,  3.25079651e+02, -2.63877033e+03,  2.45035706e+03,\n",
       "       -1.44335638e+03, -1.12244795e+03,  2.56580434e+03,  2.92054188e+03,\n",
       "        5.06421365e+03, -1.38108231e+04,  3.36561122e+03,  2.46045639e+03,\n",
       "        2.64133367e+03, -1.13354336e+03,  8.56896707e+02, -2.03597178e+03,\n",
       "       -3.28715242e+02, -1.41196659e+04,  1.58340932e+04, -1.13327407e+04,\n",
       "        1.02633543e+04, -1.51036069e+03,  8.65319706e+02, -9.11303476e+03,\n",
       "        7.21106537e+02,  3.71683258e+03,  1.11786679e+03, -3.73068226e+03,\n",
       "        1.77003204e+03,  6.90222278e+03,  3.16545900e+03, -4.54980273e+03,\n",
       "       -4.40264681e+03, -2.23879257e+02,  3.41711924e+03,  1.32680107e+04,\n",
       "        4.88691040e+03,  6.13619975e+03,  1.25906847e+03,  3.66396374e+03,\n",
       "        1.64153147e+03,  1.20854324e+03,  6.48674483e+00,  2.15125130e+03,\n",
       "        6.37662463e+03,  7.74407283e+03,  4.00843855e+02,  1.16601441e+04,\n",
       "        4.28371329e+03,  3.89093069e+01,  3.75333171e+03,  2.34426491e+03,\n",
       "       -1.15300739e+03, -2.38706907e+03,  3.91130595e+03,  1.54561937e+03,\n",
       "       -1.84845361e+03,  6.26892258e+03,  9.15559149e+02,  1.53630927e+03,\n",
       "       -3.58687124e+02,  7.30803912e+02,  1.01329264e+03,  4.52066221e+03,\n",
       "       -2.69837543e+03, -7.34552316e+03, -2.79258994e+02, -1.56011013e+02])"
      ]
     },
     "execution_count": 33,
     "metadata": {},
     "output_type": "execute_result"
    }
   ],
   "source": [
    "ridgecv.coef_"
   ]
  },
  {
   "cell_type": "code",
   "execution_count": 34,
   "id": "9ecd4f77-7739-478f-8374-f4d9e1369bc0",
   "metadata": {},
   "outputs": [
    {
     "data": {
      "text/html": [
       "<div>\n",
       "<style scoped>\n",
       "    .dataframe tbody tr th:only-of-type {\n",
       "        vertical-align: middle;\n",
       "    }\n",
       "\n",
       "    .dataframe tbody tr th {\n",
       "        vertical-align: top;\n",
       "    }\n",
       "\n",
       "    .dataframe thead th {\n",
       "        text-align: right;\n",
       "    }\n",
       "</style>\n",
       "<table border=\"1\" class=\"dataframe\">\n",
       "  <thead>\n",
       "    <tr style=\"text-align: right;\">\n",
       "      <th></th>\n",
       "      <th>feature</th>\n",
       "      <th>coefficient</th>\n",
       "    </tr>\n",
       "  </thead>\n",
       "  <tbody>\n",
       "    <tr>\n",
       "      <th>53</th>\n",
       "      <td>cat__neighborhood_StoneBr</td>\n",
       "      <td>27595.085721</td>\n",
       "    </tr>\n",
       "    <tr>\n",
       "      <th>91</th>\n",
       "      <td>cat__roof_matl_ClyTile</td>\n",
       "      <td>-23747.714515</td>\n",
       "    </tr>\n",
       "    <tr>\n",
       "      <th>47</th>\n",
       "      <td>cat__neighborhood_NridgHt</td>\n",
       "      <td>21062.447451</td>\n",
       "    </tr>\n",
       "    <tr>\n",
       "      <th>46</th>\n",
       "      <td>cat__neighborhood_NoRidge</td>\n",
       "      <td>19093.880896</td>\n",
       "    </tr>\n",
       "    <tr>\n",
       "      <th>132</th>\n",
       "      <td>cat__exter_qual_Ex</td>\n",
       "      <td>18994.015393</td>\n",
       "    </tr>\n",
       "    <tr>\n",
       "      <th>...</th>\n",
       "      <td>...</td>\n",
       "      <td>...</td>\n",
       "    </tr>\n",
       "    <tr>\n",
       "      <th>191</th>\n",
       "      <td>cat__electrical_FuseF</td>\n",
       "      <td>-44.643801</td>\n",
       "    </tr>\n",
       "    <tr>\n",
       "      <th>281</th>\n",
       "      <td>num__bsmt_half_bath</td>\n",
       "      <td>38.909307</td>\n",
       "    </tr>\n",
       "    <tr>\n",
       "      <th>70</th>\n",
       "      <td>cat__condition_2_RRAn</td>\n",
       "      <td>-13.916859</td>\n",
       "    </tr>\n",
       "    <tr>\n",
       "      <th>274</th>\n",
       "      <td>num__bsmt_unf_sf</td>\n",
       "      <td>6.486745</td>\n",
       "    </tr>\n",
       "    <tr>\n",
       "      <th>19</th>\n",
       "      <td>cat__utilities_AllPub</td>\n",
       "      <td>0.000000</td>\n",
       "    </tr>\n",
       "  </tbody>\n",
       "</table>\n",
       "<p>300 rows × 2 columns</p>\n",
       "</div>"
      ],
      "text/plain": [
       "                       feature   coefficient\n",
       "53   cat__neighborhood_StoneBr  27595.085721\n",
       "91      cat__roof_matl_ClyTile -23747.714515\n",
       "47   cat__neighborhood_NridgHt  21062.447451\n",
       "46   cat__neighborhood_NoRidge  19093.880896\n",
       "132         cat__exter_qual_Ex  18994.015393\n",
       "..                         ...           ...\n",
       "191      cat__electrical_FuseF    -44.643801\n",
       "281        num__bsmt_half_bath     38.909307\n",
       "70       cat__condition_2_RRAn    -13.916859\n",
       "274           num__bsmt_unf_sf      6.486745\n",
       "19       cat__utilities_AllPub      0.000000\n",
       "\n",
       "[300 rows x 2 columns]"
      ]
     },
     "execution_count": 34,
     "metadata": {},
     "output_type": "execute_result"
    }
   ],
   "source": [
    "ridgecv_coefs = pd.DataFrame({'feature': Xt_train.columns,'coefficient': ridgecv.coef_})\n",
    "ridgecv_coefs.sort_values(by='coefficient', key=abs, ascending=False)"
   ]
  },
  {
   "cell_type": "code",
   "execution_count": 35,
   "id": "13dc08e2-77a9-4158-8d55-5c8ce1538b91",
   "metadata": {},
   "outputs": [
    {
     "data": {
      "text/plain": [
       "0.832332789187223"
      ]
     },
     "execution_count": 35,
     "metadata": {},
     "output_type": "execute_result"
    }
   ],
   "source": [
    "cross_val_score(ridgecv, Xt_train, y_train).mean()"
   ]
  },
  {
   "cell_type": "code",
   "execution_count": 36,
   "id": "9c679673-18e9-4eb7-92f1-0118dcbeb261",
   "metadata": {},
   "outputs": [
    {
     "data": {
      "text/plain": [
       "0.9107801491804361"
      ]
     },
     "execution_count": 36,
     "metadata": {},
     "output_type": "execute_result"
    }
   ],
   "source": [
    "ridgecv.score(Xt_train, y_train)"
   ]
  },
  {
   "cell_type": "code",
   "execution_count": 37,
   "id": "b82696c9-5969-4c42-84d9-e68453f8f78c",
   "metadata": {},
   "outputs": [
    {
     "data": {
      "text/plain": [
       "0.9148108834746805"
      ]
     },
     "execution_count": 37,
     "metadata": {},
     "output_type": "execute_result"
    }
   ],
   "source": [
    "ridgecv.score(Xt_val, y_val)"
   ]
  },
  {
   "cell_type": "code",
   "execution_count": 38,
   "id": "6d6945bf-3c5f-488b-a679-4b606a521baf",
   "metadata": {},
   "outputs": [
    {
     "data": {
      "text/plain": [
       "23826.782379837325"
      ]
     },
     "execution_count": 38,
     "metadata": {},
     "output_type": "execute_result"
    }
   ],
   "source": [
    "mean_squared_error(y_train, ridgecv.predict(Xt_train))**0.5"
   ]
  },
  {
   "cell_type": "code",
   "execution_count": 39,
   "id": "6d950961-c29f-459a-92a0-976d7c96b76c",
   "metadata": {},
   "outputs": [
    {
     "data": {
      "text/plain": [
       "22497.83224543844"
      ]
     },
     "execution_count": 39,
     "metadata": {},
     "output_type": "execute_result"
    }
   ],
   "source": [
    "mean_squared_error(y_val, ridgecv.predict(Xt_val))**0.5"
   ]
  },
  {
   "cell_type": "markdown",
   "id": "761a427d-318e-4545-a44f-a01c7883ed81",
   "metadata": {},
   "source": [
    "#### RidgeCV #2"
   ]
  },
  {
   "cell_type": "markdown",
   "id": "60f896bd-cc05-4b0a-ba22-6c0cab518175",
   "metadata": {},
   "source": [
    "Since my best alpha was 12.91549665014884 in RidgeCV #1, I tried digging a little deeper to see if I could find a better alpha, but was unable to."
   ]
  },
  {
   "cell_type": "code",
   "execution_count": 40,
   "id": "fb4ceb90-7f48-4dbe-b0dc-1ef603a385ec",
   "metadata": {},
   "outputs": [
    {
     "data": {
      "text/plain": [
       "RidgeCV(alphas=array([ 1.        ,  1.24242424,  1.48484848,  1.72727273,  1.96969697,\n",
       "        2.21212121,  2.45454545,  2.6969697 ,  2.93939394,  3.18181818,\n",
       "        3.42424242,  3.66666667,  3.90909091,  4.15151515,  4.39393939,\n",
       "        4.63636364,  4.87878788,  5.12121212,  5.36363636,  5.60606061,\n",
       "        5.84848485,  6.09090909,  6.33333333,  6.57575758,  6.81818182,\n",
       "        7.06060606,  7.3030303 ,  7.54545455,  7.78787879,  8.03030303,\n",
       "        8.272727...\n",
       "       17.96969697, 18.21212121, 18.45454545, 18.6969697 , 18.93939394,\n",
       "       19.18181818, 19.42424242, 19.66666667, 19.90909091, 20.15151515,\n",
       "       20.39393939, 20.63636364, 20.87878788, 21.12121212, 21.36363636,\n",
       "       21.60606061, 21.84848485, 22.09090909, 22.33333333, 22.57575758,\n",
       "       22.81818182, 23.06060606, 23.3030303 , 23.54545455, 23.78787879,\n",
       "       24.03030303, 24.27272727, 24.51515152, 24.75757576, 25.        ]),\n",
       "        cv=15)"
      ]
     },
     "execution_count": 40,
     "metadata": {},
     "output_type": "execute_result"
    }
   ],
   "source": [
    "ridgecv2 = RidgeCV(alphas = np.linspace(1, 25, 100), cv=15)\n",
    "\n",
    "ridgecv2.fit(Xt_train, y_train)"
   ]
  },
  {
   "cell_type": "code",
   "execution_count": 41,
   "id": "41bb2bb1-35eb-489b-b482-e903d1435979",
   "metadata": {},
   "outputs": [
    {
     "data": {
      "text/plain": [
       "12.91549665014884"
      ]
     },
     "execution_count": 41,
     "metadata": {},
     "output_type": "execute_result"
    }
   ],
   "source": [
    "ridgecv.alpha_"
   ]
  },
  {
   "cell_type": "markdown",
   "id": "0d2c3efc-d369-4793-838d-98582e026c72",
   "metadata": {
    "tags": []
   },
   "source": [
    "#### LassoCV #1\n",
    "\n",
    "* LassoCV #1 with the optimal alpha of 46.4158883361278 performed better than RidgeCV #1. \n",
    "\n",
    "* The validation R2 score of 0.9356412511488261 far exceeded the cross validation score of 0.838402361575566. Though it did not beat the training R2 score of 0.9356412511488261, the scores are still better than those achieved with RidgeCV #1.\n",
    "\n",
    "* The sale price predictions on the validation set were off by 20758.74190888941, which is less than RidgeCV #1."
   ]
  },
  {
   "cell_type": "code",
   "execution_count": 42,
   "id": "1ea3c9dd-194f-405e-9572-fee424b2ddac",
   "metadata": {},
   "outputs": [
    {
     "data": {
      "text/plain": [
       "LassoCV(alphas=array([1.00000000e+00, 3.59381366e+00, 1.29154967e+01, 4.64158883e+01,\n",
       "       1.66810054e+02, 5.99484250e+02, 2.15443469e+03, 7.74263683e+03,\n",
       "       2.78255940e+04, 1.00000000e+05]))"
      ]
     },
     "execution_count": 42,
     "metadata": {},
     "output_type": "execute_result"
    }
   ],
   "source": [
    "lassocv = LassoCV(alphas = np.logspace(0, 5, 10, 100))\n",
    "\n",
    "lassocv.fit(Xt_train, y_train)"
   ]
  },
  {
   "cell_type": "code",
   "execution_count": 43,
   "id": "f3df97cb-b2e9-4df5-bfe7-0eff2c70c481",
   "metadata": {},
   "outputs": [
    {
     "data": {
      "text/plain": [
       "46.4158883361278"
      ]
     },
     "execution_count": 43,
     "metadata": {},
     "output_type": "execute_result"
    }
   ],
   "source": [
    "lassocv.alpha_"
   ]
  },
  {
   "cell_type": "code",
   "execution_count": 44,
   "id": "bb869e42-a5c7-48c7-a82f-660831780580",
   "metadata": {
    "tags": []
   },
   "outputs": [
    {
     "data": {
      "text/plain": [
       "array([-0.00000000e+00, -4.05016879e+03,  3.76925028e+03,  0.00000000e+00,\n",
       "        5.96216700e+02, -2.11038939e+03, -2.86241270e+02,  6.13049493e-11,\n",
       "        0.00000000e+00,  0.00000000e+00, -3.20065238e+03, -3.46998229e+01,\n",
       "        4.18826885e+03, -3.69123342e+03,  6.00225195e+00, -2.03220226e+03,\n",
       "        9.99635530e+03, -1.77242770e+03,  8.60695478e+02,  0.00000000e+00,\n",
       "       -0.00000000e+00,  4.71774828e+03, -1.22670435e+03, -0.00000000e+00,\n",
       "        6.88383044e+02,  0.00000000e+00,  0.00000000e+00, -0.00000000e+00,\n",
       "        0.00000000e+00,  0.00000000e+00,  0.00000000e+00,  3.63831371e+03,\n",
       "        0.00000000e+00, -0.00000000e+00,  1.20864046e+04, -8.91527288e+03,\n",
       "       -4.10270305e+03,  0.00000000e+00,  7.51850871e+04, -6.95477640e+02,\n",
       "       -0.00000000e+00,  0.00000000e+00, -3.21941033e+02, -2.90515126e+03,\n",
       "        3.28796689e+03, -3.86741235e+03,  2.70052276e+04,  2.35238978e+04,\n",
       "       -3.02755415e+03, -0.00000000e+00, -0.00000000e+00, -1.84484172e+03,\n",
       "        8.97921918e+03,  4.22675356e+04, -0.00000000e+00, -0.00000000e+00,\n",
       "       -2.80019868e+03,  0.00000000e+00,  6.63637954e+03,  1.45620922e+03,\n",
       "        1.39911191e+04, -6.11472991e+03, -0.00000000e+00, -0.00000000e+00,\n",
       "       -1.76968118e+03, -0.00000000e+00, -0.00000000e+00,  0.00000000e+00,\n",
       "        0.00000000e+00, -0.00000000e+00, -0.00000000e+00,  0.00000000e+00,\n",
       "        7.39037526e+03,  6.81523124e+03, -0.00000000e+00, -0.00000000e+00,\n",
       "       -1.27558334e+03, -9.24918145e+02,  0.00000000e+00,  0.00000000e+00,\n",
       "        2.74738585e+03,  0.00000000e+00, -2.17713065e+03, -0.00000000e+00,\n",
       "        0.00000000e+00, -0.00000000e+00,  1.00707402e+03, -0.00000000e+00,\n",
       "        3.01356508e+03, -1.25004287e+04, -0.00000000e+00, -4.98180566e+05,\n",
       "        0.00000000e+00,  0.00000000e+00, -0.00000000e+00,  0.00000000e+00,\n",
       "        4.06557688e+04, -0.00000000e+00,  0.00000000e+00, -0.00000000e+00,\n",
       "        1.34435320e+04, -0.00000000e+00,  0.00000000e+00, -2.57709764e+03,\n",
       "       -0.00000000e+00,  1.07185033e+03, -0.00000000e+00, -0.00000000e+00,\n",
       "       -0.00000000e+00,  1.33229850e+03, -1.70456385e+02,  0.00000000e+00,\n",
       "       -0.00000000e+00,  0.00000000e+00,  0.00000000e+00, -0.00000000e+00,\n",
       "       -0.00000000e+00,  0.00000000e+00, -0.00000000e+00, -0.00000000e+00,\n",
       "        0.00000000e+00, -2.48447442e+03, -0.00000000e+00, -0.00000000e+00,\n",
       "        2.39659861e+02,  0.00000000e+00,  0.00000000e+00, -1.08580709e+04,\n",
       "       -3.79858406e+03,  0.00000000e+00,  0.00000000e+00,  1.17893013e+03,\n",
       "        3.15423819e+04, -0.00000000e+00,  0.00000000e+00, -3.65279753e+03,\n",
       "        0.00000000e+00,  0.00000000e+00, -1.66630927e+03, -0.00000000e+00,\n",
       "        2.34874678e+02, -0.00000000e+00, -0.00000000e+00,  2.94396938e+03,\n",
       "       -0.00000000e+00,  0.00000000e+00,  0.00000000e+00,  9.38946563e+03,\n",
       "        0.00000000e+00, -5.86921857e+03,  0.00000000e+00,  0.00000000e+00,\n",
       "       -3.01280881e+03, -0.00000000e+00, -2.80609269e+03, -0.00000000e+00,\n",
       "        0.00000000e+00,  0.00000000e+00,  8.03557150e+02,  0.00000000e+00,\n",
       "        1.15274274e+04, -5.28938848e+03,  0.00000000e+00, -5.07299930e+03,\n",
       "        0.00000000e+00,  0.00000000e+00,  3.08469593e+03, -3.19267384e+03,\n",
       "        0.00000000e+00, -6.79878548e+02, -5.32554713e+01,  1.66818932e+03,\n",
       "       -0.00000000e+00,  6.17980648e+03, -1.62532886e+03,  0.00000000e+00,\n",
       "       -3.45974352e+03, -0.00000000e+00,  5.16517282e+03,  0.00000000e+00,\n",
       "       -0.00000000e+00, -0.00000000e+00, -0.00000000e+00,  2.27120233e+03,\n",
       "       -0.00000000e+00,  1.81042794e+02, -0.00000000e+00, -2.48483554e+03,\n",
       "        1.50096449e+03, -1.96861856e-12,  0.00000000e+00, -0.00000000e+00,\n",
       "        0.00000000e+00, -0.00000000e+00, -2.14497421e+02,  1.88620203e+04,\n",
       "       -1.53066003e+03,  4.67974150e+02, -7.05162078e+01, -1.06496073e+04,\n",
       "       -0.00000000e+00,  2.22948059e+03,  2.18229675e+03, -0.00000000e+00,\n",
       "       -0.00000000e+00, -0.00000000e+00,  1.16109480e+04,  2.84284651e+00,\n",
       "       -2.84604556e+03,  8.21219031e+02, -5.98844237e+02, -9.51831304e+02,\n",
       "        2.13723592e+03, -7.58605137e+03,  0.00000000e+00, -0.00000000e+00,\n",
       "        1.84754503e+03, -1.45037155e+03,  1.00171364e+02,  0.00000000e+00,\n",
       "        1.79903207e+01,  0.00000000e+00, -3.94134853e+03, -0.00000000e+00,\n",
       "        3.63539922e+03, -0.00000000e+00,  1.39454998e+04,  0.00000000e+00,\n",
       "       -0.00000000e+00, -8.88878305e+02,  0.00000000e+00, -0.00000000e+00,\n",
       "        0.00000000e+00,  0.00000000e+00, -0.00000000e+00,  0.00000000e+00,\n",
       "       -0.00000000e+00, -0.00000000e+00,  3.78472084e+03,  0.00000000e+00,\n",
       "        0.00000000e+00, -0.00000000e+00, -0.00000000e+00, -0.00000000e+00,\n",
       "        0.00000000e+00,  0.00000000e+00,  6.50443181e+02, -0.00000000e+00,\n",
       "       -0.00000000e+00, -3.45221682e+05,  1.18578541e+04, -4.43615886e+03,\n",
       "        6.83818427e+03,  0.00000000e+00, -0.00000000e+00, -1.26956615e+04,\n",
       "        0.00000000e+00,  0.00000000e+00,  0.00000000e+00, -0.00000000e+00,\n",
       "        0.00000000e+00,  7.08634746e+03,  0.00000000e+00, -6.86899835e+03,\n",
       "       -3.48460025e+03,  7.50508284e+02,  4.64485940e+03,  1.07375700e+04,\n",
       "        5.81827199e+03,  8.73801508e+03,  1.56791483e+03,  3.74636829e+03,\n",
       "        6.46092201e+03,  1.25901922e+03, -0.00000000e+00,  7.13758919e+03,\n",
       "        1.13235365e+04,  1.31990996e+04,  6.33686860e+02,  8.32730380e+03,\n",
       "        2.62832533e+03, -1.57046703e+01,  2.81670492e+03,  1.46766319e+03,\n",
       "       -2.53173961e+03, -2.28657043e+03,  2.87741728e+03,  1.96412167e+03,\n",
       "       -1.79266067e+03,  2.50856843e+03,  3.11648868e+03,  1.20545823e+03,\n",
       "        7.22573558e+01,  5.07820386e+02,  6.57174060e+02,  3.78906427e+03,\n",
       "       -7.80508928e+02, -2.85961500e+03, -4.58767412e+02, -7.61099384e+01])"
      ]
     },
     "execution_count": 44,
     "metadata": {},
     "output_type": "execute_result"
    }
   ],
   "source": [
    "lassocv.coef_"
   ]
  },
  {
   "cell_type": "code",
   "execution_count": 45,
   "id": "f9b7f64e-511b-4085-bc17-c6d42dfc5277",
   "metadata": {
    "tags": []
   },
   "outputs": [
    {
     "data": {
      "text/html": [
       "<div>\n",
       "<style scoped>\n",
       "    .dataframe tbody tr th:only-of-type {\n",
       "        vertical-align: middle;\n",
       "    }\n",
       "\n",
       "    .dataframe tbody tr th {\n",
       "        vertical-align: top;\n",
       "    }\n",
       "\n",
       "    .dataframe thead th {\n",
       "        text-align: right;\n",
       "    }\n",
       "</style>\n",
       "<table border=\"1\" class=\"dataframe\">\n",
       "  <thead>\n",
       "    <tr style=\"text-align: right;\">\n",
       "      <th></th>\n",
       "      <th>feature</th>\n",
       "      <th>coefficient</th>\n",
       "    </tr>\n",
       "  </thead>\n",
       "  <tbody>\n",
       "    <tr>\n",
       "      <th>91</th>\n",
       "      <td>cat__roof_matl_ClyTile</td>\n",
       "      <td>-498180.565702</td>\n",
       "    </tr>\n",
       "    <tr>\n",
       "      <th>249</th>\n",
       "      <td>cat__misc_feature_Elev</td>\n",
       "      <td>-345221.681864</td>\n",
       "    </tr>\n",
       "    <tr>\n",
       "      <th>38</th>\n",
       "      <td>cat__neighborhood_GrnHill</td>\n",
       "      <td>75185.087126</td>\n",
       "    </tr>\n",
       "    <tr>\n",
       "      <th>53</th>\n",
       "      <td>cat__neighborhood_StoneBr</td>\n",
       "      <td>42267.535644</td>\n",
       "    </tr>\n",
       "    <tr>\n",
       "      <th>96</th>\n",
       "      <td>cat__roof_matl_WdShngl</td>\n",
       "      <td>40655.768829</td>\n",
       "    </tr>\n",
       "    <tr>\n",
       "      <th>...</th>\n",
       "      <td>...</td>\n",
       "      <td>...</td>\n",
       "    </tr>\n",
       "    <tr>\n",
       "      <th>134</th>\n",
       "      <td>cat__exter_qual_Gd</td>\n",
       "      <td>0.000000</td>\n",
       "    </tr>\n",
       "    <tr>\n",
       "      <th>136</th>\n",
       "      <td>cat__exter_cond_Ex</td>\n",
       "      <td>0.000000</td>\n",
       "    </tr>\n",
       "    <tr>\n",
       "      <th>137</th>\n",
       "      <td>cat__exter_cond_Fa</td>\n",
       "      <td>0.000000</td>\n",
       "    </tr>\n",
       "    <tr>\n",
       "      <th>139</th>\n",
       "      <td>cat__exter_cond_Po</td>\n",
       "      <td>-0.000000</td>\n",
       "    </tr>\n",
       "    <tr>\n",
       "      <th>150</th>\n",
       "      <td>cat__bsmt_qual_NA</td>\n",
       "      <td>0.000000</td>\n",
       "    </tr>\n",
       "  </tbody>\n",
       "</table>\n",
       "<p>300 rows × 2 columns</p>\n",
       "</div>"
      ],
      "text/plain": [
       "                       feature    coefficient\n",
       "91      cat__roof_matl_ClyTile -498180.565702\n",
       "249     cat__misc_feature_Elev -345221.681864\n",
       "38   cat__neighborhood_GrnHill   75185.087126\n",
       "53   cat__neighborhood_StoneBr   42267.535644\n",
       "96      cat__roof_matl_WdShngl   40655.768829\n",
       "..                         ...            ...\n",
       "134         cat__exter_qual_Gd       0.000000\n",
       "136         cat__exter_cond_Ex       0.000000\n",
       "137         cat__exter_cond_Fa       0.000000\n",
       "139         cat__exter_cond_Po      -0.000000\n",
       "150          cat__bsmt_qual_NA       0.000000\n",
       "\n",
       "[300 rows x 2 columns]"
      ]
     },
     "execution_count": 45,
     "metadata": {},
     "output_type": "execute_result"
    }
   ],
   "source": [
    "lassocv_coefs = pd.DataFrame({'feature': Xt_train.columns,'coefficient': lassocv.coef_})\n",
    "lassocv_coefs.sort_values(by='coefficient', key=abs, ascending=False)"
   ]
  },
  {
   "cell_type": "code",
   "execution_count": 46,
   "id": "505e133a-de3d-46f0-9c1e-5c6b1c325be7",
   "metadata": {},
   "outputs": [
    {
     "data": {
      "text/plain": [
       "0.838402361575566"
      ]
     },
     "execution_count": 46,
     "metadata": {},
     "output_type": "execute_result"
    }
   ],
   "source": [
    "cross_val_score(lassocv, Xt_train, y_train).mean()"
   ]
  },
  {
   "cell_type": "code",
   "execution_count": 47,
   "id": "38ced183-6021-4735-98ad-4e01e45e151c",
   "metadata": {},
   "outputs": [
    {
     "data": {
      "text/plain": [
       "0.9356412511488261"
      ]
     },
     "execution_count": 47,
     "metadata": {},
     "output_type": "execute_result"
    }
   ],
   "source": [
    "lassocv.score(Xt_train, y_train)"
   ]
  },
  {
   "cell_type": "code",
   "execution_count": 48,
   "id": "5e48deb0-b2d5-4e17-92be-0b46aa013c0d",
   "metadata": {},
   "outputs": [
    {
     "data": {
      "text/plain": [
       "0.9274721464439819"
      ]
     },
     "execution_count": 48,
     "metadata": {},
     "output_type": "execute_result"
    }
   ],
   "source": [
    "lassocv.score(Xt_val, y_val)"
   ]
  },
  {
   "cell_type": "code",
   "execution_count": 49,
   "id": "aa9c4383-9ff9-481e-9b53-26af6e5eef65",
   "metadata": {},
   "outputs": [
    {
     "data": {
      "text/plain": [
       "20236.64197414387"
      ]
     },
     "execution_count": 49,
     "metadata": {},
     "output_type": "execute_result"
    }
   ],
   "source": [
    "mean_squared_error(y_train, lassocv.predict(Xt_train))**0.5"
   ]
  },
  {
   "cell_type": "code",
   "execution_count": 50,
   "id": "0f150026-5864-4469-b717-56a1325bbbc7",
   "metadata": {},
   "outputs": [
    {
     "data": {
      "text/plain": [
       "20758.74190888941"
      ]
     },
     "execution_count": 50,
     "metadata": {},
     "output_type": "execute_result"
    }
   ],
   "source": [
    "mean_squared_error(y_val, lassocv.predict(Xt_val))**0.5"
   ]
  },
  {
   "cell_type": "markdown",
   "id": "69f05f64-4770-458a-9683-5014bdfc53b6",
   "metadata": {},
   "source": [
    "#### LassoCV #2"
   ]
  },
  {
   "cell_type": "markdown",
   "id": "37259621-8354-4c6c-9e93-46db3092194e",
   "metadata": {},
   "source": [
    "* Since my best alpha was 46.4158883361278 in LassoCV #1, I tried digging a little deeper to see if I could find a better alpha, but was unable to."
   ]
  },
  {
   "cell_type": "code",
   "execution_count": 51,
   "id": "2b133c5f-75f5-47e4-a860-e93eea1b3bdc",
   "metadata": {},
   "outputs": [
    {
     "data": {
      "text/plain": [
       "LassoCV(alphas=array([40.        , 40.1010101 , 40.2020202 , 40.3030303 , 40.4040404 ,\n",
       "       40.50505051, 40.60606061, 40.70707071, 40.80808081, 40.90909091,\n",
       "       41.01010101, 41.11111111, 41.21212121, 41.31313131, 41.41414141,\n",
       "       41.51515152, 41.61616162, 41.71717172, 41.81818182, 41.91919192,\n",
       "       42.02020202, 42.12121212, 42.22222222, 42.32323232, 42.42424242,\n",
       "       42.52525253, 42.62626263, 42.72727273, 42.8...\n",
       "       47.07070707, 47.17171717, 47.27272727, 47.37373737, 47.47474747,\n",
       "       47.57575758, 47.67676768, 47.77777778, 47.87878788, 47.97979798,\n",
       "       48.08080808, 48.18181818, 48.28282828, 48.38383838, 48.48484848,\n",
       "       48.58585859, 48.68686869, 48.78787879, 48.88888889, 48.98989899,\n",
       "       49.09090909, 49.19191919, 49.29292929, 49.39393939, 49.49494949,\n",
       "       49.5959596 , 49.6969697 , 49.7979798 , 49.8989899 , 50.        ]),\n",
       "        cv=15)"
      ]
     },
     "execution_count": 51,
     "metadata": {},
     "output_type": "execute_result"
    }
   ],
   "source": [
    "lassocv2 = LassoCV(alphas = np.linspace(40, 50, 100), cv=15)\n",
    "\n",
    "lassocv2.fit(Xt_train, y_train)"
   ]
  },
  {
   "cell_type": "code",
   "execution_count": 52,
   "id": "2736568c-4a2e-4181-be6d-42e32be6d10a",
   "metadata": {},
   "outputs": [
    {
     "data": {
      "text/plain": [
       "46.4158883361278"
      ]
     },
     "execution_count": 52,
     "metadata": {},
     "output_type": "execute_result"
    }
   ],
   "source": [
    "lassocv.alpha_"
   ]
  },
  {
   "cell_type": "markdown",
   "id": "af3fce6c-f7d2-48e6-9c72-affbcc253f74",
   "metadata": {},
   "source": [
    "#### ElasticNet #1\n",
    "\n",
    "* ElasticNet #1 with the optimal alpha of 0.016121212121212123 performed similarly to RidgeCV #1, and therefore did not perform as well as LassoCV #1."
   ]
  },
  {
   "cell_type": "code",
   "execution_count": 53,
   "id": "9c4a0b82-4541-4f1b-af10-73cc67562800",
   "metadata": {},
   "outputs": [],
   "source": [
    "enetcv = ElasticNetCV(alphas = np.linspace(.001, .5, 100), l1_ratio = 0.5, cv=10)"
   ]
  },
  {
   "cell_type": "code",
   "execution_count": 54,
   "id": "2d76d176-1855-4739-a119-1bbc4577700a",
   "metadata": {},
   "outputs": [
    {
     "data": {
      "text/plain": [
       "ElasticNetCV(alphas=array([0.001     , 0.0060404 , 0.01108081, 0.01612121, 0.02116162,\n",
       "       0.02620202, 0.03124242, 0.03628283, 0.04132323, 0.04636364,\n",
       "       0.05140404, 0.05644444, 0.06148485, 0.06652525, 0.07156566,\n",
       "       0.07660606, 0.08164646, 0.08668687, 0.09172727, 0.09676768,\n",
       "       0.10180808, 0.10684848, 0.11188889, 0.11692929, 0.1219697 ,\n",
       "       0.1270101 , 0.13205051, 0.13709091, 0.14213131, 0.14717172,\n",
       "       0...\n",
       "       0.32862626, 0.33366667, 0.33870707, 0.34374747, 0.34878788,\n",
       "       0.35382828, 0.35886869, 0.36390909, 0.36894949, 0.3739899 ,\n",
       "       0.3790303 , 0.38407071, 0.38911111, 0.39415152, 0.39919192,\n",
       "       0.40423232, 0.40927273, 0.41431313, 0.41935354, 0.42439394,\n",
       "       0.42943434, 0.43447475, 0.43951515, 0.44455556, 0.44959596,\n",
       "       0.45463636, 0.45967677, 0.46471717, 0.46975758, 0.47479798,\n",
       "       0.47983838, 0.48487879, 0.48991919, 0.4949596 , 0.5       ]),\n",
       "             cv=10)"
      ]
     },
     "execution_count": 54,
     "metadata": {},
     "output_type": "execute_result"
    }
   ],
   "source": [
    "enetcv.fit(Xt_train, y_train)"
   ]
  },
  {
   "cell_type": "code",
   "execution_count": 55,
   "id": "1a4b498e-e0bd-4e67-9889-6f8c4f7c35ae",
   "metadata": {},
   "outputs": [
    {
     "data": {
      "text/plain": [
       "0.016121212121212123"
      ]
     },
     "execution_count": 55,
     "metadata": {},
     "output_type": "execute_result"
    }
   ],
   "source": [
    "enetcv.alpha_"
   ]
  },
  {
   "cell_type": "code",
   "execution_count": 56,
   "id": "186090e4-63f4-4786-911d-1561fe6dca84",
   "metadata": {},
   "outputs": [
    {
     "data": {
      "text/plain": [
       "array([-2.31879987e+03, -5.39511392e+03,  3.90598377e+03,  3.96985941e+03,\n",
       "        1.98916934e+03, -2.15109827e+03, -3.64500292e+03,  3.64500292e+03,\n",
       "        1.06994162e+03,  1.24384475e+03, -2.31478648e+03,  3.54654991e+03,\n",
       "        8.41038687e+03, -1.48381494e+04,  2.87921533e+03, -1.02287200e+04,\n",
       "        9.52416577e+03, -3.77956794e+02,  1.08251136e+03,  0.00000000e+00,\n",
       "        6.88292277e+01,  6.12484787e+03, -3.01178628e+03, -3.79577670e+03,\n",
       "        6.12885471e+02, -1.19201042e+03,  2.93925020e+03, -1.74623971e+03,\n",
       "       -4.07317574e+03, -2.24022854e+03,  1.97015535e+03, -4.33328600e+02,\n",
       "       -1.55857862e+03, -6.34527367e+03,  7.34587415e+03, -1.66520246e+04,\n",
       "       -1.13567405e+04, -3.98116484e+02,  1.38780026e+04, -4.39620804e+03,\n",
       "       -6.00751641e+02, -1.27834270e+03, -4.67601662e+03, -8.05909167e+03,\n",
       "        1.56757844e+03, -8.69030342e+03,  1.89651002e+04,  2.09563286e+04,\n",
       "       -7.18357345e+03, -3.11649267e+03, -6.45022677e+03, -7.75672093e+03,\n",
       "        4.79634359e+03,  2.73584873e+04, -3.56621851e+03,  2.00354344e+03,\n",
       "       -2.75165242e+03, -3.38452819e+03,  5.54052643e+03,  2.90589349e+03,\n",
       "        1.18269354e+04, -7.35927888e+03, -4.68364136e+02, -1.70682863e+03,\n",
       "       -4.59970273e+03, -1.59055382e+03, -1.50236592e+02, -2.67190398e+03,\n",
       "        3.26236002e+03,  9.74535428e+02, -1.05490942e+01,  1.87348125e+02,\n",
       "        5.05967692e+03,  6.98052457e+03,  1.96855108e+02, -6.67573394e+03,\n",
       "       -5.56232299e+03, -2.32447799e+03,  2.33687512e+02,  2.20388346e+03,\n",
       "        6.08638883e+03,  6.28948363e+02, -5.89681890e+03,  1.07581286e+03,\n",
       "       -2.00942633e+03, -1.57296208e+03,  2.11430488e+03,  1.23699833e+03,\n",
       "        5.95856040e+03, -8.52385396e+03,  7.84953157e+02, -2.32735892e+04,\n",
       "        6.85731453e+03,  1.56805055e+03,  1.46670341e+03,  1.64151928e+03,\n",
       "        1.17360014e+04, -1.40056709e+03,  8.90520100e+02, -2.15077015e+03,\n",
       "        1.16802705e+04, -3.39683829e+02,  3.12466462e+03, -3.41786756e+03,\n",
       "        2.54324693e+02,  1.83422637e+03,  7.25208025e+02, -6.00112762e+02,\n",
       "       -8.32900455e+03,  1.57791599e+03, -4.76167742e+03,  9.11555922e+02,\n",
       "       -3.07901039e+02,  2.28021828e+03, -4.41218516e+02, -2.71842044e+02,\n",
       "       -1.19718655e+03,  1.23355742e+03,  8.49627460e+02, -3.66564525e+02,\n",
       "        8.06342266e+02, -1.92560408e+03, -1.56214437e+03, -5.67341757e+03,\n",
       "        1.10716990e+03,  4.77251374e+03,  6.97452074e+02, -6.18372278e+03,\n",
       "       -9.09450984e+02,  1.24958201e+03,  2.78495456e+03,  3.05763646e+03,\n",
       "        1.89057758e+04, -5.09087837e+03, -4.57037394e+03, -9.24252353e+03,\n",
       "        1.90779964e+03,  1.60420511e+03, -1.86523924e+03, -2.24195488e+03,\n",
       "        5.94189128e+02, -8.36105271e+02,  6.04794634e+02,  3.22748864e+03,\n",
       "       -5.65356918e+03,  2.55770988e+03,  9.76830546e+01,  1.04217060e+04,\n",
       "       -5.07409320e+02, -5.96429045e+03, -4.65515423e+02,  4.42980817e+02,\n",
       "       -3.92546848e+03,  3.35361595e+02, -2.56058637e+03,  1.05556885e+03,\n",
       "       -4.65515926e+02, -2.47221684e+02,  1.88239435e+03,  8.61161839e+02,\n",
       "        1.20008258e+04, -5.67287597e+03, -1.64879539e+03, -5.53931510e+03,\n",
       "        2.35520568e+03,  1.62010774e+03,  4.99649936e+03, -4.03344292e+03,\n",
       "       -4.65516954e+02, -4.17999295e+02, -4.05385073e+03,  4.18387433e+03,\n",
       "       -3.46093325e+02,  3.63694655e+03, -3.39507138e+03, -3.00626572e+02,\n",
       "       -4.11123002e+03,  3.33200439e+02,  4.11461210e+03,  4.07241631e+03,\n",
       "       -3.44825373e+03, -3.83200406e+03, -9.05770644e+02,  4.01925952e+03,\n",
       "        4.69282210e+02,  1.40284172e+03, -4.31394497e+03, -1.57843994e+03,\n",
       "        7.17465288e+02, -7.17465793e+02, -2.06134738e+02, -4.82975260e+01,\n",
       "        1.70041935e+03, -5.92175559e+02, -8.50811272e+02,  1.58464760e+04,\n",
       "       -6.26770368e+03, -3.68072394e+03, -5.89604417e+03, -6.58422728e+03,\n",
       "       -2.10001654e+03,  2.79738709e+03,  1.07169188e+03,  8.84200110e+02,\n",
       "       -2.75864574e+03, -1.97204260e+03,  8.66165471e+03,  4.87774475e+03,\n",
       "       -3.84841901e+03,  1.38859432e+03, -2.50776563e+03, -2.58410988e+03,\n",
       "        2.67395359e+03, -4.93065634e+03,  2.94377688e+03, -1.09318015e+03,\n",
       "        3.59077507e+03, -2.42733144e+03,  1.58737731e+03,  3.28240928e+02,\n",
       "        1.26639066e+03,  3.28241259e+02, -2.64386468e+03,  1.04723248e+03,\n",
       "        5.61702844e+03, -5.37629325e+03,  9.57892894e+03,  3.28241579e+02,\n",
       "       -2.82971379e+03, -7.31819109e+03, -7.12984592e+02,  1.36948310e+02,\n",
       "        4.43771292e+02,  3.28241439e+02, -2.62757929e+03,  2.42960219e+03,\n",
       "       -1.44516163e+03, -1.11505629e+03,  2.56121758e+03,  2.86676325e+03,\n",
       "        4.97675937e+03, -1.35627325e+04,  3.29539873e+03,  2.42081119e+03,\n",
       "        2.62168659e+03, -1.13140081e+03,  8.52333141e+02, -2.00726968e+03,\n",
       "       -3.34348659e+02, -1.38371348e+04,  1.55397942e+04, -1.12020375e+04,\n",
       "        1.00671274e+04, -1.42738226e+03,  8.59632637e+02, -9.05314665e+03,\n",
       "        7.13311329e+02,  3.64530407e+03,  1.10543822e+03, -3.65402687e+03,\n",
       "        1.74104432e+03,  6.91660133e+03,  3.11111583e+03, -4.52864117e+03,\n",
       "       -4.40310125e+03, -2.18350377e+02,  3.41625976e+03,  1.33052891e+04,\n",
       "        4.88671909e+03,  6.13853143e+03,  1.26412166e+03,  3.67528893e+03,\n",
       "        1.63563554e+03,  1.21001529e+03,  8.20081677e+00,  2.14803762e+03,\n",
       "        6.37001230e+03,  7.73469840e+03,  4.00381391e+02,  1.16452097e+04,\n",
       "        4.28861991e+03,  3.42033967e+01,  3.75947901e+03,  2.34403209e+03,\n",
       "       -1.15452272e+03, -2.38782326e+03,  3.92623691e+03,  1.54856544e+03,\n",
       "       -1.84807699e+03,  6.27089249e+03,  9.27875799e+02,  1.54142109e+03,\n",
       "       -3.56715846e+02,  7.32022389e+02,  1.01308507e+03,  4.52654441e+03,\n",
       "       -2.71233440e+03, -7.33507081e+03, -2.75829049e+02, -1.56884548e+02])"
      ]
     },
     "execution_count": 56,
     "metadata": {},
     "output_type": "execute_result"
    }
   ],
   "source": [
    "enetcv.coef_"
   ]
  },
  {
   "cell_type": "code",
   "execution_count": 57,
   "id": "a5445a8e-7458-4066-a003-c404dc9bd21d",
   "metadata": {},
   "outputs": [
    {
     "data": {
      "text/html": [
       "<div>\n",
       "<style scoped>\n",
       "    .dataframe tbody tr th:only-of-type {\n",
       "        vertical-align: middle;\n",
       "    }\n",
       "\n",
       "    .dataframe tbody tr th {\n",
       "        vertical-align: top;\n",
       "    }\n",
       "\n",
       "    .dataframe thead th {\n",
       "        text-align: right;\n",
       "    }\n",
       "</style>\n",
       "<table border=\"1\" class=\"dataframe\">\n",
       "  <thead>\n",
       "    <tr style=\"text-align: right;\">\n",
       "      <th></th>\n",
       "      <th>feature</th>\n",
       "      <th>coefficient</th>\n",
       "    </tr>\n",
       "  </thead>\n",
       "  <tbody>\n",
       "    <tr>\n",
       "      <th>53</th>\n",
       "      <td>cat__neighborhood_StoneBr</td>\n",
       "      <td>27358.487324</td>\n",
       "    </tr>\n",
       "    <tr>\n",
       "      <th>91</th>\n",
       "      <td>cat__roof_matl_ClyTile</td>\n",
       "      <td>-23273.589183</td>\n",
       "    </tr>\n",
       "    <tr>\n",
       "      <th>47</th>\n",
       "      <td>cat__neighborhood_NridgHt</td>\n",
       "      <td>20956.328614</td>\n",
       "    </tr>\n",
       "    <tr>\n",
       "      <th>46</th>\n",
       "      <td>cat__neighborhood_NoRidge</td>\n",
       "      <td>18965.100169</td>\n",
       "    </tr>\n",
       "    <tr>\n",
       "      <th>132</th>\n",
       "      <td>cat__exter_qual_Ex</td>\n",
       "      <td>18905.775840</td>\n",
       "    </tr>\n",
       "    <tr>\n",
       "      <th>...</th>\n",
       "      <td>...</td>\n",
       "      <td>...</td>\n",
       "    </tr>\n",
       "    <tr>\n",
       "      <th>191</th>\n",
       "      <td>cat__electrical_FuseF</td>\n",
       "      <td>-48.297526</td>\n",
       "    </tr>\n",
       "    <tr>\n",
       "      <th>281</th>\n",
       "      <td>num__bsmt_half_bath</td>\n",
       "      <td>34.203397</td>\n",
       "    </tr>\n",
       "    <tr>\n",
       "      <th>70</th>\n",
       "      <td>cat__condition_2_RRAn</td>\n",
       "      <td>-10.549094</td>\n",
       "    </tr>\n",
       "    <tr>\n",
       "      <th>274</th>\n",
       "      <td>num__bsmt_unf_sf</td>\n",
       "      <td>8.200817</td>\n",
       "    </tr>\n",
       "    <tr>\n",
       "      <th>19</th>\n",
       "      <td>cat__utilities_AllPub</td>\n",
       "      <td>0.000000</td>\n",
       "    </tr>\n",
       "  </tbody>\n",
       "</table>\n",
       "<p>300 rows × 2 columns</p>\n",
       "</div>"
      ],
      "text/plain": [
       "                       feature   coefficient\n",
       "53   cat__neighborhood_StoneBr  27358.487324\n",
       "91      cat__roof_matl_ClyTile -23273.589183\n",
       "47   cat__neighborhood_NridgHt  20956.328614\n",
       "46   cat__neighborhood_NoRidge  18965.100169\n",
       "132         cat__exter_qual_Ex  18905.775840\n",
       "..                         ...           ...\n",
       "191      cat__electrical_FuseF    -48.297526\n",
       "281        num__bsmt_half_bath     34.203397\n",
       "70       cat__condition_2_RRAn    -10.549094\n",
       "274           num__bsmt_unf_sf      8.200817\n",
       "19       cat__utilities_AllPub      0.000000\n",
       "\n",
       "[300 rows x 2 columns]"
      ]
     },
     "execution_count": 57,
     "metadata": {},
     "output_type": "execute_result"
    }
   ],
   "source": [
    "enetcv_coefs = pd.DataFrame({'feature': Xt_train.columns,'coefficient': enetcv.coef_})\n",
    "enetcv_coefs.sort_values(by='coefficient', key=abs, ascending=False)"
   ]
  },
  {
   "cell_type": "code",
   "execution_count": 58,
   "id": "b6b48191-e25d-4178-b4ca-f8e8aa2d9ae9",
   "metadata": {},
   "outputs": [
    {
     "data": {
      "text/plain": [
       "0.8343740786564977"
      ]
     },
     "execution_count": 58,
     "metadata": {},
     "output_type": "execute_result"
    }
   ],
   "source": [
    "cross_val_score(enetcv, Xt_train, y_train).mean()"
   ]
  },
  {
   "cell_type": "code",
   "execution_count": 59,
   "id": "fc26a3de-584a-4315-a9e7-6558a2fed9f5",
   "metadata": {},
   "outputs": [
    {
     "data": {
      "text/plain": [
       "0.9105869354745427"
      ]
     },
     "execution_count": 59,
     "metadata": {},
     "output_type": "execute_result"
    }
   ],
   "source": [
    "enetcv.score(Xt_train, y_train)"
   ]
  },
  {
   "cell_type": "code",
   "execution_count": 60,
   "id": "22d198c7-a0dd-4d27-9bb9-14b0a7de4a83",
   "metadata": {},
   "outputs": [
    {
     "data": {
      "text/plain": [
       "0.9148157076118382"
      ]
     },
     "execution_count": 60,
     "metadata": {},
     "output_type": "execute_result"
    }
   ],
   "source": [
    "enetcv.score(Xt_val, y_val)"
   ]
  },
  {
   "cell_type": "code",
   "execution_count": 61,
   "id": "ef223c18-1b7b-4c7c-9644-c14f5b7dae4a",
   "metadata": {},
   "outputs": [
    {
     "data": {
      "text/plain": [
       "23852.56795986418"
      ]
     },
     "execution_count": 61,
     "metadata": {},
     "output_type": "execute_result"
    }
   ],
   "source": [
    "mean_squared_error(y_train, enetcv.predict(Xt_train))**0.5"
   ]
  },
  {
   "cell_type": "code",
   "execution_count": 62,
   "id": "edcd8e45-fb9d-4701-a20f-bfcffe8c23db",
   "metadata": {},
   "outputs": [
    {
     "data": {
      "text/plain": [
       "22497.195226477088"
      ]
     },
     "execution_count": 62,
     "metadata": {},
     "output_type": "execute_result"
    }
   ],
   "source": [
    "mean_squared_error(y_val, enetcv.predict(Xt_val))**0.5"
   ]
  },
  {
   "cell_type": "markdown",
   "id": "b985772b-dd37-463a-a4b1-a81fa0766341",
   "metadata": {},
   "source": [
    "___"
   ]
  },
  {
   "cell_type": "markdown",
   "id": "09603ebf-08d1-4254-b4fd-15d5b68d3597",
   "metadata": {},
   "source": [
    "## Production Model Insights\n",
    "* Using Lasso Regression (a = 46.4158883361278)"
   ]
  },
  {
   "cell_type": "code",
   "execution_count": 63,
   "id": "b851f724-2407-4344-9bb6-4255d1b5245b",
   "metadata": {},
   "outputs": [
    {
     "data": {
      "text/html": [
       "<div>\n",
       "<style scoped>\n",
       "    .dataframe tbody tr th:only-of-type {\n",
       "        vertical-align: middle;\n",
       "    }\n",
       "\n",
       "    .dataframe tbody tr th {\n",
       "        vertical-align: top;\n",
       "    }\n",
       "\n",
       "    .dataframe thead th {\n",
       "        text-align: right;\n",
       "    }\n",
       "</style>\n",
       "<table border=\"1\" class=\"dataframe\">\n",
       "  <thead>\n",
       "    <tr style=\"text-align: right;\">\n",
       "      <th></th>\n",
       "      <th>feature</th>\n",
       "      <th>coefficient</th>\n",
       "    </tr>\n",
       "  </thead>\n",
       "  <tbody>\n",
       "    <tr>\n",
       "      <th>38</th>\n",
       "      <td>cat__neighborhood_GrnHill</td>\n",
       "      <td>75185.087126</td>\n",
       "    </tr>\n",
       "    <tr>\n",
       "      <th>53</th>\n",
       "      <td>cat__neighborhood_StoneBr</td>\n",
       "      <td>42267.535644</td>\n",
       "    </tr>\n",
       "    <tr>\n",
       "      <th>96</th>\n",
       "      <td>cat__roof_matl_WdShngl</td>\n",
       "      <td>40655.768829</td>\n",
       "    </tr>\n",
       "    <tr>\n",
       "      <th>132</th>\n",
       "      <td>cat__exter_qual_Ex</td>\n",
       "      <td>31542.381898</td>\n",
       "    </tr>\n",
       "    <tr>\n",
       "      <th>46</th>\n",
       "      <td>cat__neighborhood_NoRidge</td>\n",
       "      <td>27005.227573</td>\n",
       "    </tr>\n",
       "    <tr>\n",
       "      <th>47</th>\n",
       "      <td>cat__neighborhood_NridgHt</td>\n",
       "      <td>23523.897808</td>\n",
       "    </tr>\n",
       "    <tr>\n",
       "      <th>195</th>\n",
       "      <td>cat__kitchen_qual_Ex</td>\n",
       "      <td>18862.020288</td>\n",
       "    </tr>\n",
       "    <tr>\n",
       "      <th>60</th>\n",
       "      <td>cat__condition_1_PosN</td>\n",
       "      <td>13991.119132</td>\n",
       "    </tr>\n",
       "    <tr>\n",
       "      <th>226</th>\n",
       "      <td>cat__garage_qual_Gd</td>\n",
       "      <td>13945.499830</td>\n",
       "    </tr>\n",
       "    <tr>\n",
       "      <th>100</th>\n",
       "      <td>cat__exterior_1st_BrkFace</td>\n",
       "      <td>13443.532049</td>\n",
       "    </tr>\n",
       "    <tr>\n",
       "      <th>277</th>\n",
       "      <td>num__2nd_flr_sf</td>\n",
       "      <td>13199.099598</td>\n",
       "    </tr>\n",
       "    <tr>\n",
       "      <th>34</th>\n",
       "      <td>cat__neighborhood_Crawfor</td>\n",
       "      <td>12086.404572</td>\n",
       "    </tr>\n",
       "    <tr>\n",
       "      <th>250</th>\n",
       "      <td>cat__misc_feature_Gar2</td>\n",
       "      <td>11857.854076</td>\n",
       "    </tr>\n",
       "    <tr>\n",
       "      <th>206</th>\n",
       "      <td>cat__functional_Typ</td>\n",
       "      <td>11610.947950</td>\n",
       "    </tr>\n",
       "    <tr>\n",
       "      <th>160</th>\n",
       "      <td>cat__bsmt_exposure_Gd</td>\n",
       "      <td>11527.427402</td>\n",
       "    </tr>\n",
       "    <tr>\n",
       "      <th>276</th>\n",
       "      <td>num__1st_flr_sf</td>\n",
       "      <td>11323.536526</td>\n",
       "    </tr>\n",
       "    <tr>\n",
       "      <th>267</th>\n",
       "      <td>num__overall_qual</td>\n",
       "      <td>10737.569967</td>\n",
       "    </tr>\n",
       "    <tr>\n",
       "      <th>16</th>\n",
       "      <td>cat__land_contour_HLS</td>\n",
       "      <td>9996.355300</td>\n",
       "    </tr>\n",
       "    <tr>\n",
       "      <th>147</th>\n",
       "      <td>cat__bsmt_qual_Ex</td>\n",
       "      <td>9389.465631</td>\n",
       "    </tr>\n",
       "    <tr>\n",
       "      <th>52</th>\n",
       "      <td>cat__neighborhood_Somerst</td>\n",
       "      <td>8979.219182</td>\n",
       "    </tr>\n",
       "    <tr>\n",
       "      <th>269</th>\n",
       "      <td>num__year_built</td>\n",
       "      <td>8738.015079</td>\n",
       "    </tr>\n",
       "    <tr>\n",
       "      <th>279</th>\n",
       "      <td>num__gr_liv_area</td>\n",
       "      <td>8327.303802</td>\n",
       "    </tr>\n",
       "    <tr>\n",
       "      <th>72</th>\n",
       "      <td>cat__bldg_type_1Fam</td>\n",
       "      <td>7390.375261</td>\n",
       "    </tr>\n",
       "    <tr>\n",
       "      <th>275</th>\n",
       "      <td>num__total_bsmt_sf</td>\n",
       "      <td>7137.589187</td>\n",
       "    </tr>\n",
       "    <tr>\n",
       "      <th>261</th>\n",
       "      <td>cat__sale_type_New</td>\n",
       "      <td>7086.347461</td>\n",
       "    </tr>\n",
       "    <tr>\n",
       "      <th>252</th>\n",
       "      <td>cat__misc_feature_Othr</td>\n",
       "      <td>6838.184271</td>\n",
       "    </tr>\n",
       "    <tr>\n",
       "      <th>73</th>\n",
       "      <td>cat__bldg_type_2fmCon</td>\n",
       "      <td>6815.231239</td>\n",
       "    </tr>\n",
       "    <tr>\n",
       "      <th>58</th>\n",
       "      <td>cat__condition_1_Norm</td>\n",
       "      <td>6636.379536</td>\n",
       "    </tr>\n",
       "    <tr>\n",
       "      <th>272</th>\n",
       "      <td>num__bsmtfin_sf_1</td>\n",
       "      <td>6460.922007</td>\n",
       "    </tr>\n",
       "    <tr>\n",
       "      <th>173</th>\n",
       "      <td>cat__bsmtfin_type_2_GLQ</td>\n",
       "      <td>6179.806485</td>\n",
       "    </tr>\n",
       "    <tr>\n",
       "      <th>268</th>\n",
       "      <td>num__overall_cond</td>\n",
       "      <td>5818.271989</td>\n",
       "    </tr>\n",
       "    <tr>\n",
       "      <th>178</th>\n",
       "      <td>cat__heating_GasA</td>\n",
       "      <td>5165.172818</td>\n",
       "    </tr>\n",
       "    <tr>\n",
       "      <th>21</th>\n",
       "      <td>cat__lot_config_CulDSac</td>\n",
       "      <td>4717.748278</td>\n",
       "    </tr>\n",
       "    <tr>\n",
       "      <th>266</th>\n",
       "      <td>num__lot_area</td>\n",
       "      <td>4644.859399</td>\n",
       "    </tr>\n",
       "    <tr>\n",
       "      <th>12</th>\n",
       "      <td>cat__lot_shape_IR2</td>\n",
       "      <td>4188.268854</td>\n",
       "    </tr>\n",
       "    <tr>\n",
       "      <th>295</th>\n",
       "      <td>num__screen_porch</td>\n",
       "      <td>3789.064271</td>\n",
       "    </tr>\n",
       "    <tr>\n",
       "      <th>238</th>\n",
       "      <td>cat__paved_drive_Y</td>\n",
       "      <td>3784.720839</td>\n",
       "    </tr>\n",
       "    <tr>\n",
       "      <th>2</th>\n",
       "      <td>cat__ms_zoning_FV</td>\n",
       "      <td>3769.250276</td>\n",
       "    </tr>\n",
       "    <tr>\n",
       "      <th>271</th>\n",
       "      <td>num__mas_vnr_area</td>\n",
       "      <td>3746.368293</td>\n",
       "    </tr>\n",
       "    <tr>\n",
       "      <th>31</th>\n",
       "      <td>cat__neighborhood_BrkSide</td>\n",
       "      <td>3638.313711</td>\n",
       "    </tr>\n",
       "    <tr>\n",
       "      <th>224</th>\n",
       "      <td>cat__garage_qual_Ex</td>\n",
       "      <td>3635.399224</td>\n",
       "    </tr>\n",
       "    <tr>\n",
       "      <th>44</th>\n",
       "      <td>cat__neighborhood_NPkVill</td>\n",
       "      <td>3287.966889</td>\n",
       "    </tr>\n",
       "    <tr>\n",
       "      <th>290</th>\n",
       "      <td>num__garage_area</td>\n",
       "      <td>3116.488680</td>\n",
       "    </tr>\n",
       "    <tr>\n",
       "      <th>166</th>\n",
       "      <td>cat__bsmtfin_type_1_GLQ</td>\n",
       "      <td>3084.695932</td>\n",
       "    </tr>\n",
       "  </tbody>\n",
       "</table>\n",
       "</div>"
      ],
      "text/plain": [
       "                       feature   coefficient\n",
       "38   cat__neighborhood_GrnHill  75185.087126\n",
       "53   cat__neighborhood_StoneBr  42267.535644\n",
       "96      cat__roof_matl_WdShngl  40655.768829\n",
       "132         cat__exter_qual_Ex  31542.381898\n",
       "46   cat__neighborhood_NoRidge  27005.227573\n",
       "47   cat__neighborhood_NridgHt  23523.897808\n",
       "195       cat__kitchen_qual_Ex  18862.020288\n",
       "60       cat__condition_1_PosN  13991.119132\n",
       "226        cat__garage_qual_Gd  13945.499830\n",
       "100  cat__exterior_1st_BrkFace  13443.532049\n",
       "277            num__2nd_flr_sf  13199.099598\n",
       "34   cat__neighborhood_Crawfor  12086.404572\n",
       "250     cat__misc_feature_Gar2  11857.854076\n",
       "206        cat__functional_Typ  11610.947950\n",
       "160      cat__bsmt_exposure_Gd  11527.427402\n",
       "276            num__1st_flr_sf  11323.536526\n",
       "267          num__overall_qual  10737.569967\n",
       "16       cat__land_contour_HLS   9996.355300\n",
       "147          cat__bsmt_qual_Ex   9389.465631\n",
       "52   cat__neighborhood_Somerst   8979.219182\n",
       "269            num__year_built   8738.015079\n",
       "279           num__gr_liv_area   8327.303802\n",
       "72         cat__bldg_type_1Fam   7390.375261\n",
       "275         num__total_bsmt_sf   7137.589187\n",
       "261         cat__sale_type_New   7086.347461\n",
       "252     cat__misc_feature_Othr   6838.184271\n",
       "73       cat__bldg_type_2fmCon   6815.231239\n",
       "58       cat__condition_1_Norm   6636.379536\n",
       "272          num__bsmtfin_sf_1   6460.922007\n",
       "173    cat__bsmtfin_type_2_GLQ   6179.806485\n",
       "268          num__overall_cond   5818.271989\n",
       "178          cat__heating_GasA   5165.172818\n",
       "21     cat__lot_config_CulDSac   4717.748278\n",
       "266              num__lot_area   4644.859399\n",
       "12          cat__lot_shape_IR2   4188.268854\n",
       "295          num__screen_porch   3789.064271\n",
       "238         cat__paved_drive_Y   3784.720839\n",
       "2            cat__ms_zoning_FV   3769.250276\n",
       "271          num__mas_vnr_area   3746.368293\n",
       "31   cat__neighborhood_BrkSide   3638.313711\n",
       "224        cat__garage_qual_Ex   3635.399224\n",
       "44   cat__neighborhood_NPkVill   3287.966889\n",
       "290           num__garage_area   3116.488680\n",
       "166    cat__bsmtfin_type_1_GLQ   3084.695932"
      ]
     },
     "execution_count": 63,
     "metadata": {},
     "output_type": "execute_result"
    }
   ],
   "source": [
    "# Complete list of coefficients not zeroed out and greater than 0\n",
    "lassocv_coefs_gr_0 = lassocv_coefs[lassocv_coefs['coefficient'] > 0]\n",
    "lassocv_coefs_gr_0.sort_values(by='coefficient', key=abs, ascending=False).head(44)"
   ]
  },
  {
   "cell_type": "code",
   "execution_count": 64,
   "id": "f9b3f8ae-5f0e-4491-9864-6ebfc568aa96",
   "metadata": {},
   "outputs": [
    {
     "data": {
      "text/html": [
       "<div>\n",
       "<style scoped>\n",
       "    .dataframe tbody tr th:only-of-type {\n",
       "        vertical-align: middle;\n",
       "    }\n",
       "\n",
       "    .dataframe tbody tr th {\n",
       "        vertical-align: top;\n",
       "    }\n",
       "\n",
       "    .dataframe thead th {\n",
       "        text-align: right;\n",
       "    }\n",
       "</style>\n",
       "<table border=\"1\" class=\"dataframe\">\n",
       "  <thead>\n",
       "    <tr style=\"text-align: right;\">\n",
       "      <th></th>\n",
       "      <th>feature</th>\n",
       "      <th>coefficient</th>\n",
       "    </tr>\n",
       "  </thead>\n",
       "  <tbody>\n",
       "    <tr>\n",
       "      <th>88</th>\n",
       "      <td>cat__roof_style_Hip</td>\n",
       "      <td>3.013565e+03</td>\n",
       "    </tr>\n",
       "    <tr>\n",
       "      <th>143</th>\n",
       "      <td>cat__foundation_PConc</td>\n",
       "      <td>2.943969e+03</td>\n",
       "    </tr>\n",
       "    <tr>\n",
       "      <th>286</th>\n",
       "      <td>num__totrms_abvgrd</td>\n",
       "      <td>2.877417e+03</td>\n",
       "    </tr>\n",
       "    <tr>\n",
       "      <th>282</th>\n",
       "      <td>num__full_bath</td>\n",
       "      <td>2.816705e+03</td>\n",
       "    </tr>\n",
       "    <tr>\n",
       "      <th>80</th>\n",
       "      <td>cat__house_style_2.5Fin</td>\n",
       "      <td>2.747386e+03</td>\n",
       "    </tr>\n",
       "    <tr>\n",
       "      <th>280</th>\n",
       "      <td>num__bsmt_full_bath</td>\n",
       "      <td>2.628325e+03</td>\n",
       "    </tr>\n",
       "    <tr>\n",
       "      <th>289</th>\n",
       "      <td>num__garage_cars</td>\n",
       "      <td>2.508568e+03</td>\n",
       "    </tr>\n",
       "    <tr>\n",
       "      <th>183</th>\n",
       "      <td>cat__heating_qc_Ex</td>\n",
       "      <td>2.271202e+03</td>\n",
       "    </tr>\n",
       "    <tr>\n",
       "      <th>201</th>\n",
       "      <td>cat__functional_Min1</td>\n",
       "      <td>2.229481e+03</td>\n",
       "    </tr>\n",
       "    <tr>\n",
       "      <th>202</th>\n",
       "      <td>cat__functional_Min2</td>\n",
       "      <td>2.182297e+03</td>\n",
       "    </tr>\n",
       "    <tr>\n",
       "      <th>212</th>\n",
       "      <td>cat__fireplace_qu_TA</td>\n",
       "      <td>2.137236e+03</td>\n",
       "    </tr>\n",
       "    <tr>\n",
       "      <th>287</th>\n",
       "      <td>num__fireplaces</td>\n",
       "      <td>1.964122e+03</td>\n",
       "    </tr>\n",
       "    <tr>\n",
       "      <th>216</th>\n",
       "      <td>cat__garage_type_BuiltIn</td>\n",
       "      <td>1.847545e+03</td>\n",
       "    </tr>\n",
       "    <tr>\n",
       "      <th>171</th>\n",
       "      <td>cat__bsmtfin_type_2_ALQ</td>\n",
       "      <td>1.668189e+03</td>\n",
       "    </tr>\n",
       "    <tr>\n",
       "      <th>270</th>\n",
       "      <td>num__year_remod/add</td>\n",
       "      <td>1.567915e+03</td>\n",
       "    </tr>\n",
       "    <tr>\n",
       "      <th>188</th>\n",
       "      <td>cat__central_air_N</td>\n",
       "      <td>1.500964e+03</td>\n",
       "    </tr>\n",
       "    <tr>\n",
       "      <th>283</th>\n",
       "      <td>num__half_bath</td>\n",
       "      <td>1.467663e+03</td>\n",
       "    </tr>\n",
       "    <tr>\n",
       "      <th>59</th>\n",
       "      <td>cat__condition_1_PosA</td>\n",
       "      <td>1.456209e+03</td>\n",
       "    </tr>\n",
       "    <tr>\n",
       "      <th>109</th>\n",
       "      <td>cat__exterior_1st_VinylSd</td>\n",
       "      <td>1.332299e+03</td>\n",
       "    </tr>\n",
       "    <tr>\n",
       "      <th>273</th>\n",
       "      <td>num__bsmtfin_sf_2</td>\n",
       "      <td>1.259019e+03</td>\n",
       "    </tr>\n",
       "    <tr>\n",
       "      <th>291</th>\n",
       "      <td>num__wood_deck_sf</td>\n",
       "      <td>1.205458e+03</td>\n",
       "    </tr>\n",
       "    <tr>\n",
       "      <th>131</th>\n",
       "      <td>cat__mas_vnr_type_Stone</td>\n",
       "      <td>1.178930e+03</td>\n",
       "    </tr>\n",
       "    <tr>\n",
       "      <th>105</th>\n",
       "      <td>cat__exterior_1st_MetalSd</td>\n",
       "      <td>1.071850e+03</td>\n",
       "    </tr>\n",
       "    <tr>\n",
       "      <th>86</th>\n",
       "      <td>cat__roof_style_Gable</td>\n",
       "      <td>1.007074e+03</td>\n",
       "    </tr>\n",
       "    <tr>\n",
       "      <th>18</th>\n",
       "      <td>cat__land_contour_Lvl</td>\n",
       "      <td>8.606955e+02</td>\n",
       "    </tr>\n",
       "    <tr>\n",
       "      <th>209</th>\n",
       "      <td>cat__fireplace_qu_Gd</td>\n",
       "      <td>8.212190e+02</td>\n",
       "    </tr>\n",
       "    <tr>\n",
       "      <th>158</th>\n",
       "      <td>cat__bsmt_cond_TA</td>\n",
       "      <td>8.035571e+02</td>\n",
       "    </tr>\n",
       "    <tr>\n",
       "      <th>265</th>\n",
       "      <td>num__lot_frontage</td>\n",
       "      <td>7.505083e+02</td>\n",
       "    </tr>\n",
       "    <tr>\n",
       "      <th>24</th>\n",
       "      <td>cat__lot_config_Inside</td>\n",
       "      <td>6.883830e+02</td>\n",
       "    </tr>\n",
       "    <tr>\n",
       "      <th>294</th>\n",
       "      <td>num__3ssn_porch</td>\n",
       "      <td>6.571741e+02</td>\n",
       "    </tr>\n",
       "    <tr>\n",
       "      <th>246</th>\n",
       "      <td>cat__fence_MnPrv</td>\n",
       "      <td>6.504432e+02</td>\n",
       "    </tr>\n",
       "    <tr>\n",
       "      <th>278</th>\n",
       "      <td>num__low_qual_fin_sf</td>\n",
       "      <td>6.336869e+02</td>\n",
       "    </tr>\n",
       "    <tr>\n",
       "      <th>4</th>\n",
       "      <td>cat__ms_zoning_RL</td>\n",
       "      <td>5.962167e+02</td>\n",
       "    </tr>\n",
       "    <tr>\n",
       "      <th>293</th>\n",
       "      <td>num__enclosed_porch</td>\n",
       "      <td>5.078204e+02</td>\n",
       "    </tr>\n",
       "    <tr>\n",
       "      <th>197</th>\n",
       "      <td>cat__kitchen_qual_Gd</td>\n",
       "      <td>4.679742e+02</td>\n",
       "    </tr>\n",
       "    <tr>\n",
       "      <th>124</th>\n",
       "      <td>cat__exterior_2nd_VinylSd</td>\n",
       "      <td>2.396599e+02</td>\n",
       "    </tr>\n",
       "    <tr>\n",
       "      <th>140</th>\n",
       "      <td>cat__exter_cond_TA</td>\n",
       "      <td>2.348747e+02</td>\n",
       "    </tr>\n",
       "    <tr>\n",
       "      <th>185</th>\n",
       "      <td>cat__heating_qc_Gd</td>\n",
       "      <td>1.810428e+02</td>\n",
       "    </tr>\n",
       "    <tr>\n",
       "      <th>218</th>\n",
       "      <td>cat__garage_type_Detchd</td>\n",
       "      <td>1.001714e+02</td>\n",
       "    </tr>\n",
       "    <tr>\n",
       "      <th>292</th>\n",
       "      <td>num__open_porch_sf</td>\n",
       "      <td>7.225736e+01</td>\n",
       "    </tr>\n",
       "    <tr>\n",
       "      <th>220</th>\n",
       "      <td>cat__garage_finish_Fin</td>\n",
       "      <td>1.799032e+01</td>\n",
       "    </tr>\n",
       "    <tr>\n",
       "      <th>14</th>\n",
       "      <td>cat__lot_shape_Reg</td>\n",
       "      <td>6.002252e+00</td>\n",
       "    </tr>\n",
       "    <tr>\n",
       "      <th>207</th>\n",
       "      <td>cat__fireplace_qu_Ex</td>\n",
       "      <td>2.842847e+00</td>\n",
       "    </tr>\n",
       "    <tr>\n",
       "      <th>7</th>\n",
       "      <td>cat__street_Pave</td>\n",
       "      <td>6.130495e-11</td>\n",
       "    </tr>\n",
       "  </tbody>\n",
       "</table>\n",
       "</div>"
      ],
      "text/plain": [
       "                       feature   coefficient\n",
       "88         cat__roof_style_Hip  3.013565e+03\n",
       "143      cat__foundation_PConc  2.943969e+03\n",
       "286         num__totrms_abvgrd  2.877417e+03\n",
       "282             num__full_bath  2.816705e+03\n",
       "80     cat__house_style_2.5Fin  2.747386e+03\n",
       "280        num__bsmt_full_bath  2.628325e+03\n",
       "289           num__garage_cars  2.508568e+03\n",
       "183         cat__heating_qc_Ex  2.271202e+03\n",
       "201       cat__functional_Min1  2.229481e+03\n",
       "202       cat__functional_Min2  2.182297e+03\n",
       "212       cat__fireplace_qu_TA  2.137236e+03\n",
       "287            num__fireplaces  1.964122e+03\n",
       "216   cat__garage_type_BuiltIn  1.847545e+03\n",
       "171    cat__bsmtfin_type_2_ALQ  1.668189e+03\n",
       "270        num__year_remod/add  1.567915e+03\n",
       "188         cat__central_air_N  1.500964e+03\n",
       "283             num__half_bath  1.467663e+03\n",
       "59       cat__condition_1_PosA  1.456209e+03\n",
       "109  cat__exterior_1st_VinylSd  1.332299e+03\n",
       "273          num__bsmtfin_sf_2  1.259019e+03\n",
       "291          num__wood_deck_sf  1.205458e+03\n",
       "131    cat__mas_vnr_type_Stone  1.178930e+03\n",
       "105  cat__exterior_1st_MetalSd  1.071850e+03\n",
       "86       cat__roof_style_Gable  1.007074e+03\n",
       "18       cat__land_contour_Lvl  8.606955e+02\n",
       "209       cat__fireplace_qu_Gd  8.212190e+02\n",
       "158          cat__bsmt_cond_TA  8.035571e+02\n",
       "265          num__lot_frontage  7.505083e+02\n",
       "24      cat__lot_config_Inside  6.883830e+02\n",
       "294            num__3ssn_porch  6.571741e+02\n",
       "246           cat__fence_MnPrv  6.504432e+02\n",
       "278       num__low_qual_fin_sf  6.336869e+02\n",
       "4            cat__ms_zoning_RL  5.962167e+02\n",
       "293        num__enclosed_porch  5.078204e+02\n",
       "197       cat__kitchen_qual_Gd  4.679742e+02\n",
       "124  cat__exterior_2nd_VinylSd  2.396599e+02\n",
       "140         cat__exter_cond_TA  2.348747e+02\n",
       "185         cat__heating_qc_Gd  1.810428e+02\n",
       "218    cat__garage_type_Detchd  1.001714e+02\n",
       "292         num__open_porch_sf  7.225736e+01\n",
       "220     cat__garage_finish_Fin  1.799032e+01\n",
       "14          cat__lot_shape_Reg  6.002252e+00\n",
       "207       cat__fireplace_qu_Ex  2.842847e+00\n",
       "7             cat__street_Pave  6.130495e-11"
      ]
     },
     "execution_count": 64,
     "metadata": {},
     "output_type": "execute_result"
    }
   ],
   "source": [
    "lassocv_coefs_gr_0.sort_values(by='coefficient', key=abs, ascending=False).tail(44)"
   ]
  },
  {
   "cell_type": "code",
   "execution_count": 65,
   "id": "2b2e9357-f2ef-428b-9690-c19d55cbaa5a",
   "metadata": {},
   "outputs": [
    {
     "name": "stdout",
     "output_type": "stream",
     "text": [
      "(68, 2)\n"
     ]
    },
    {
     "data": {
      "text/html": [
       "<div>\n",
       "<style scoped>\n",
       "    .dataframe tbody tr th:only-of-type {\n",
       "        vertical-align: middle;\n",
       "    }\n",
       "\n",
       "    .dataframe tbody tr th {\n",
       "        vertical-align: top;\n",
       "    }\n",
       "\n",
       "    .dataframe thead th {\n",
       "        text-align: right;\n",
       "    }\n",
       "</style>\n",
       "<table border=\"1\" class=\"dataframe\">\n",
       "  <thead>\n",
       "    <tr style=\"text-align: right;\">\n",
       "      <th></th>\n",
       "      <th>feature</th>\n",
       "      <th>coefficient</th>\n",
       "    </tr>\n",
       "  </thead>\n",
       "  <tbody>\n",
       "    <tr>\n",
       "      <th>91</th>\n",
       "      <td>cat__roof_matl_ClyTile</td>\n",
       "      <td>-498180.565702</td>\n",
       "    </tr>\n",
       "    <tr>\n",
       "      <th>249</th>\n",
       "      <td>cat__misc_feature_Elev</td>\n",
       "      <td>-345221.681864</td>\n",
       "    </tr>\n",
       "    <tr>\n",
       "      <th>255</th>\n",
       "      <td>cat__sale_type_COD</td>\n",
       "      <td>-12695.661550</td>\n",
       "    </tr>\n",
       "    <tr>\n",
       "      <th>89</th>\n",
       "      <td>cat__roof_style_Mansard</td>\n",
       "      <td>-12500.428749</td>\n",
       "    </tr>\n",
       "    <tr>\n",
       "      <th>127</th>\n",
       "      <td>cat__mas_vnr_type_BrkCmn</td>\n",
       "      <td>-10858.070927</td>\n",
       "    </tr>\n",
       "    <tr>\n",
       "      <th>199</th>\n",
       "      <td>cat__functional_Maj1</td>\n",
       "      <td>-10649.607342</td>\n",
       "    </tr>\n",
       "    <tr>\n",
       "      <th>35</th>\n",
       "      <td>cat__neighborhood_Edwards</td>\n",
       "      <td>-8915.272876</td>\n",
       "    </tr>\n",
       "    <tr>\n",
       "      <th>213</th>\n",
       "      <td>cat__garage_type_2Types</td>\n",
       "      <td>-7586.051368</td>\n",
       "    </tr>\n",
       "    <tr>\n",
       "      <th>263</th>\n",
       "      <td>cat__sale_type_WD</td>\n",
       "      <td>-6868.998345</td>\n",
       "    </tr>\n",
       "    <tr>\n",
       "      <th>61</th>\n",
       "      <td>cat__condition_1_RRAe</td>\n",
       "      <td>-6114.729911</td>\n",
       "    </tr>\n",
       "    <tr>\n",
       "      <th>149</th>\n",
       "      <td>cat__bsmt_qual_Gd</td>\n",
       "      <td>-5869.218567</td>\n",
       "    </tr>\n",
       "    <tr>\n",
       "      <th>161</th>\n",
       "      <td>cat__bsmt_exposure_Mn</td>\n",
       "      <td>-5289.388484</td>\n",
       "    </tr>\n",
       "    <tr>\n",
       "      <th>163</th>\n",
       "      <td>cat__bsmt_exposure_No</td>\n",
       "      <td>-5072.999302</td>\n",
       "    </tr>\n",
       "    <tr>\n",
       "      <th>251</th>\n",
       "      <td>cat__misc_feature_NA</td>\n",
       "      <td>-4436.158862</td>\n",
       "    </tr>\n",
       "    <tr>\n",
       "      <th>36</th>\n",
       "      <td>cat__neighborhood_Gilbert</td>\n",
       "      <td>-4102.703050</td>\n",
       "    </tr>\n",
       "    <tr>\n",
       "      <th>1</th>\n",
       "      <td>cat__ms_zoning_C (all)</td>\n",
       "      <td>-4050.168787</td>\n",
       "    </tr>\n",
       "    <tr>\n",
       "      <th>222</th>\n",
       "      <td>cat__garage_finish_RFn</td>\n",
       "      <td>-3941.348534</td>\n",
       "    </tr>\n",
       "    <tr>\n",
       "      <th>45</th>\n",
       "      <td>cat__neighborhood_NWAmes</td>\n",
       "      <td>-3867.412349</td>\n",
       "    </tr>\n",
       "    <tr>\n",
       "      <th>128</th>\n",
       "      <td>cat__mas_vnr_type_BrkFace</td>\n",
       "      <td>-3798.584064</td>\n",
       "    </tr>\n",
       "    <tr>\n",
       "      <th>13</th>\n",
       "      <td>cat__lot_shape_IR3</td>\n",
       "      <td>-3691.233416</td>\n",
       "    </tr>\n",
       "    <tr>\n",
       "      <th>135</th>\n",
       "      <td>cat__exter_qual_TA</td>\n",
       "      <td>-3652.797528</td>\n",
       "    </tr>\n",
       "    <tr>\n",
       "      <th>264</th>\n",
       "      <td>num__ms_subclass</td>\n",
       "      <td>-3484.600253</td>\n",
       "    </tr>\n",
       "    <tr>\n",
       "      <th>176</th>\n",
       "      <td>cat__bsmtfin_type_2_Rec</td>\n",
       "      <td>-3459.743524</td>\n",
       "    </tr>\n",
       "    <tr>\n",
       "      <th>10</th>\n",
       "      <td>cat__alley_Pave</td>\n",
       "      <td>-3200.652379</td>\n",
       "    </tr>\n",
       "    <tr>\n",
       "      <th>167</th>\n",
       "      <td>cat__bsmtfin_type_1_LwQ</td>\n",
       "      <td>-3192.673835</td>\n",
       "    </tr>\n",
       "    <tr>\n",
       "      <th>48</th>\n",
       "      <td>cat__neighborhood_OldTown</td>\n",
       "      <td>-3027.554153</td>\n",
       "    </tr>\n",
       "    <tr>\n",
       "      <th>152</th>\n",
       "      <td>cat__bsmt_qual_TA</td>\n",
       "      <td>-3012.808807</td>\n",
       "    </tr>\n",
       "    <tr>\n",
       "      <th>43</th>\n",
       "      <td>cat__neighborhood_NAmes</td>\n",
       "      <td>-2905.151263</td>\n",
       "    </tr>\n",
       "    <tr>\n",
       "      <th>297</th>\n",
       "      <td>num__misc_val</td>\n",
       "      <td>-2859.615003</td>\n",
       "    </tr>\n",
       "    <tr>\n",
       "      <th>208</th>\n",
       "      <td>cat__fireplace_qu_Fa</td>\n",
       "      <td>-2846.045557</td>\n",
       "    </tr>\n",
       "    <tr>\n",
       "      <th>154</th>\n",
       "      <td>cat__bsmt_cond_Fa</td>\n",
       "      <td>-2806.092689</td>\n",
       "    </tr>\n",
       "    <tr>\n",
       "      <th>56</th>\n",
       "      <td>cat__condition_1_Artery</td>\n",
       "      <td>-2800.198683</td>\n",
       "    </tr>\n",
       "    <tr>\n",
       "      <th>103</th>\n",
       "      <td>cat__exterior_1st_HdBoard</td>\n",
       "      <td>-2577.097645</td>\n",
       "    </tr>\n",
       "    <tr>\n",
       "      <th>284</th>\n",
       "      <td>num__bedroom_abvgr</td>\n",
       "      <td>-2531.739611</td>\n",
       "    </tr>\n",
       "    <tr>\n",
       "      <th>187</th>\n",
       "      <td>cat__heating_qc_TA</td>\n",
       "      <td>-2484.835539</td>\n",
       "    </tr>\n",
       "    <tr>\n",
       "      <th>121</th>\n",
       "      <td>cat__exterior_2nd_Plywood</td>\n",
       "      <td>-2484.474416</td>\n",
       "    </tr>\n",
       "    <tr>\n",
       "      <th>285</th>\n",
       "      <td>num__kitchen_abvgr</td>\n",
       "      <td>-2286.570431</td>\n",
       "    </tr>\n",
       "    <tr>\n",
       "      <th>82</th>\n",
       "      <td>cat__house_style_2Story</td>\n",
       "      <td>-2177.130648</td>\n",
       "    </tr>\n",
       "    <tr>\n",
       "      <th>5</th>\n",
       "      <td>cat__ms_zoning_RM</td>\n",
       "      <td>-2110.389388</td>\n",
       "    </tr>\n",
       "    <tr>\n",
       "      <th>15</th>\n",
       "      <td>cat__land_contour_Bnk</td>\n",
       "      <td>-2032.202260</td>\n",
       "    </tr>\n",
       "    <tr>\n",
       "      <th>51</th>\n",
       "      <td>cat__neighborhood_SawyerW</td>\n",
       "      <td>-1844.841719</td>\n",
       "    </tr>\n",
       "    <tr>\n",
       "      <th>288</th>\n",
       "      <td>num__garage_yr_blt</td>\n",
       "      <td>-1792.660667</td>\n",
       "    </tr>\n",
       "    <tr>\n",
       "      <th>17</th>\n",
       "      <td>cat__land_contour_Low</td>\n",
       "      <td>-1772.427702</td>\n",
       "    </tr>\n",
       "    <tr>\n",
       "      <th>64</th>\n",
       "      <td>cat__condition_1_RRNn</td>\n",
       "      <td>-1769.681183</td>\n",
       "    </tr>\n",
       "    <tr>\n",
       "      <th>138</th>\n",
       "      <td>cat__exter_cond_Gd</td>\n",
       "      <td>-1666.309266</td>\n",
       "    </tr>\n",
       "    <tr>\n",
       "      <th>174</th>\n",
       "      <td>cat__bsmtfin_type_2_LwQ</td>\n",
       "      <td>-1625.328857</td>\n",
       "    </tr>\n",
       "    <tr>\n",
       "      <th>196</th>\n",
       "      <td>cat__kitchen_qual_Fa</td>\n",
       "      <td>-1530.660029</td>\n",
       "    </tr>\n",
       "    <tr>\n",
       "      <th>217</th>\n",
       "      <td>cat__garage_type_CarPort</td>\n",
       "      <td>-1450.371553</td>\n",
       "    </tr>\n",
       "    <tr>\n",
       "      <th>76</th>\n",
       "      <td>cat__bldg_type_TwnhsE</td>\n",
       "      <td>-1275.583337</td>\n",
       "    </tr>\n",
       "    <tr>\n",
       "      <th>22</th>\n",
       "      <td>cat__lot_config_FR2</td>\n",
       "      <td>-1226.704353</td>\n",
       "    </tr>\n",
       "    <tr>\n",
       "      <th>211</th>\n",
       "      <td>cat__fireplace_qu_Po</td>\n",
       "      <td>-951.831304</td>\n",
       "    </tr>\n",
       "    <tr>\n",
       "      <th>77</th>\n",
       "      <td>cat__house_style_1.5Fin</td>\n",
       "      <td>-924.918145</td>\n",
       "    </tr>\n",
       "    <tr>\n",
       "      <th>229</th>\n",
       "      <td>cat__garage_qual_TA</td>\n",
       "      <td>-888.878305</td>\n",
       "    </tr>\n",
       "    <tr>\n",
       "      <th>296</th>\n",
       "      <td>num__pool_area</td>\n",
       "      <td>-780.508928</td>\n",
       "    </tr>\n",
       "    <tr>\n",
       "      <th>39</th>\n",
       "      <td>cat__neighborhood_IDOTRR</td>\n",
       "      <td>-695.477640</td>\n",
       "    </tr>\n",
       "    <tr>\n",
       "      <th>169</th>\n",
       "      <td>cat__bsmtfin_type_1_Rec</td>\n",
       "      <td>-679.878548</td>\n",
       "    </tr>\n",
       "    <tr>\n",
       "      <th>210</th>\n",
       "      <td>cat__fireplace_qu_NA</td>\n",
       "      <td>-598.844237</td>\n",
       "    </tr>\n",
       "    <tr>\n",
       "      <th>298</th>\n",
       "      <td>num__mo_sold</td>\n",
       "      <td>-458.767412</td>\n",
       "    </tr>\n",
       "    <tr>\n",
       "      <th>42</th>\n",
       "      <td>cat__neighborhood_Mitchel</td>\n",
       "      <td>-321.941033</td>\n",
       "    </tr>\n",
       "    <tr>\n",
       "      <th>6</th>\n",
       "      <td>cat__street_Grvl</td>\n",
       "      <td>-286.241270</td>\n",
       "    </tr>\n",
       "  </tbody>\n",
       "</table>\n",
       "</div>"
      ],
      "text/plain": [
       "                       feature    coefficient\n",
       "91      cat__roof_matl_ClyTile -498180.565702\n",
       "249     cat__misc_feature_Elev -345221.681864\n",
       "255         cat__sale_type_COD  -12695.661550\n",
       "89     cat__roof_style_Mansard  -12500.428749\n",
       "127   cat__mas_vnr_type_BrkCmn  -10858.070927\n",
       "199       cat__functional_Maj1  -10649.607342\n",
       "35   cat__neighborhood_Edwards   -8915.272876\n",
       "213    cat__garage_type_2Types   -7586.051368\n",
       "263         cat__sale_type_WD    -6868.998345\n",
       "61       cat__condition_1_RRAe   -6114.729911\n",
       "149          cat__bsmt_qual_Gd   -5869.218567\n",
       "161      cat__bsmt_exposure_Mn   -5289.388484\n",
       "163      cat__bsmt_exposure_No   -5072.999302\n",
       "251       cat__misc_feature_NA   -4436.158862\n",
       "36   cat__neighborhood_Gilbert   -4102.703050\n",
       "1       cat__ms_zoning_C (all)   -4050.168787\n",
       "222     cat__garage_finish_RFn   -3941.348534\n",
       "45    cat__neighborhood_NWAmes   -3867.412349\n",
       "128  cat__mas_vnr_type_BrkFace   -3798.584064\n",
       "13          cat__lot_shape_IR3   -3691.233416\n",
       "135         cat__exter_qual_TA   -3652.797528\n",
       "264           num__ms_subclass   -3484.600253\n",
       "176    cat__bsmtfin_type_2_Rec   -3459.743524\n",
       "10             cat__alley_Pave   -3200.652379\n",
       "167    cat__bsmtfin_type_1_LwQ   -3192.673835\n",
       "48   cat__neighborhood_OldTown   -3027.554153\n",
       "152          cat__bsmt_qual_TA   -3012.808807\n",
       "43     cat__neighborhood_NAmes   -2905.151263\n",
       "297              num__misc_val   -2859.615003\n",
       "208       cat__fireplace_qu_Fa   -2846.045557\n",
       "154          cat__bsmt_cond_Fa   -2806.092689\n",
       "56     cat__condition_1_Artery   -2800.198683\n",
       "103  cat__exterior_1st_HdBoard   -2577.097645\n",
       "284         num__bedroom_abvgr   -2531.739611\n",
       "187         cat__heating_qc_TA   -2484.835539\n",
       "121  cat__exterior_2nd_Plywood   -2484.474416\n",
       "285         num__kitchen_abvgr   -2286.570431\n",
       "82     cat__house_style_2Story   -2177.130648\n",
       "5            cat__ms_zoning_RM   -2110.389388\n",
       "15       cat__land_contour_Bnk   -2032.202260\n",
       "51   cat__neighborhood_SawyerW   -1844.841719\n",
       "288         num__garage_yr_blt   -1792.660667\n",
       "17       cat__land_contour_Low   -1772.427702\n",
       "64       cat__condition_1_RRNn   -1769.681183\n",
       "138         cat__exter_cond_Gd   -1666.309266\n",
       "174    cat__bsmtfin_type_2_LwQ   -1625.328857\n",
       "196       cat__kitchen_qual_Fa   -1530.660029\n",
       "217   cat__garage_type_CarPort   -1450.371553\n",
       "76       cat__bldg_type_TwnhsE   -1275.583337\n",
       "22         cat__lot_config_FR2   -1226.704353\n",
       "211       cat__fireplace_qu_Po    -951.831304\n",
       "77     cat__house_style_1.5Fin    -924.918145\n",
       "229        cat__garage_qual_TA    -888.878305\n",
       "296             num__pool_area    -780.508928\n",
       "39    cat__neighborhood_IDOTRR    -695.477640\n",
       "169    cat__bsmtfin_type_1_Rec    -679.878548\n",
       "210       cat__fireplace_qu_NA    -598.844237\n",
       "298               num__mo_sold    -458.767412\n",
       "42   cat__neighborhood_Mitchel    -321.941033\n",
       "6             cat__street_Grvl    -286.241270"
      ]
     },
     "execution_count": 65,
     "metadata": {},
     "output_type": "execute_result"
    }
   ],
   "source": [
    "# Complete list of coefficients not zeroed out and less than 0\n",
    "lassocv_coefs_ls_0 = lassocv_coefs[lassocv_coefs['coefficient'] < 0]\n",
    "print(lassocv_coefs_ls_0.shape)\n",
    "lassocv_coefs_ls_0.sort_values(by='coefficient', key=abs, ascending=False).head(60)"
   ]
  },
  {
   "cell_type": "code",
   "execution_count": 66,
   "id": "c9e663e7-3664-4187-9a14-30fe9228ca1d",
   "metadata": {},
   "outputs": [
    {
     "data": {
      "text/html": [
       "<div>\n",
       "<style scoped>\n",
       "    .dataframe tbody tr th:only-of-type {\n",
       "        vertical-align: middle;\n",
       "    }\n",
       "\n",
       "    .dataframe tbody tr th {\n",
       "        vertical-align: top;\n",
       "    }\n",
       "\n",
       "    .dataframe thead th {\n",
       "        text-align: right;\n",
       "    }\n",
       "</style>\n",
       "<table border=\"1\" class=\"dataframe\">\n",
       "  <thead>\n",
       "    <tr style=\"text-align: right;\">\n",
       "      <th></th>\n",
       "      <th>feature</th>\n",
       "      <th>coefficient</th>\n",
       "    </tr>\n",
       "  </thead>\n",
       "  <tbody>\n",
       "    <tr>\n",
       "      <th>194</th>\n",
       "      <td>cat__electrical_SBrkr</td>\n",
       "      <td>-2.144974e+02</td>\n",
       "    </tr>\n",
       "    <tr>\n",
       "      <th>110</th>\n",
       "      <td>cat__exterior_1st_Wd Sdng</td>\n",
       "      <td>-1.704564e+02</td>\n",
       "    </tr>\n",
       "    <tr>\n",
       "      <th>299</th>\n",
       "      <td>num__yr_sold</td>\n",
       "      <td>-7.610994e+01</td>\n",
       "    </tr>\n",
       "    <tr>\n",
       "      <th>198</th>\n",
       "      <td>cat__kitchen_qual_TA</td>\n",
       "      <td>-7.051621e+01</td>\n",
       "    </tr>\n",
       "    <tr>\n",
       "      <th>170</th>\n",
       "      <td>cat__bsmtfin_type_1_Unf</td>\n",
       "      <td>-5.325547e+01</td>\n",
       "    </tr>\n",
       "    <tr>\n",
       "      <th>11</th>\n",
       "      <td>cat__lot_shape_IR1</td>\n",
       "      <td>-3.469982e+01</td>\n",
       "    </tr>\n",
       "    <tr>\n",
       "      <th>281</th>\n",
       "      <td>num__bsmt_half_bath</td>\n",
       "      <td>-1.570467e+01</td>\n",
       "    </tr>\n",
       "    <tr>\n",
       "      <th>189</th>\n",
       "      <td>cat__central_air_Y</td>\n",
       "      <td>-1.968619e-12</td>\n",
       "    </tr>\n",
       "  </tbody>\n",
       "</table>\n",
       "</div>"
      ],
      "text/plain": [
       "                       feature   coefficient\n",
       "194      cat__electrical_SBrkr -2.144974e+02\n",
       "110  cat__exterior_1st_Wd Sdng -1.704564e+02\n",
       "299               num__yr_sold -7.610994e+01\n",
       "198       cat__kitchen_qual_TA -7.051621e+01\n",
       "170    cat__bsmtfin_type_1_Unf -5.325547e+01\n",
       "11          cat__lot_shape_IR1 -3.469982e+01\n",
       "281        num__bsmt_half_bath -1.570467e+01\n",
       "189         cat__central_air_Y -1.968619e-12"
      ]
     },
     "execution_count": 66,
     "metadata": {},
     "output_type": "execute_result"
    }
   ],
   "source": [
    "lassocv_coefs_ls_0.sort_values(by='coefficient', key=abs, ascending=False).tail(8)"
   ]
  },
  {
   "cell_type": "code",
   "execution_count": 67,
   "id": "bc4f003c-276b-4d41-b079-26d44feaf78f",
   "metadata": {},
   "outputs": [
    {
     "name": "stdout",
     "output_type": "stream",
     "text": [
      "(28, 2)\n"
     ]
    },
    {
     "data": {
      "text/html": [
       "<div>\n",
       "<style scoped>\n",
       "    .dataframe tbody tr th:only-of-type {\n",
       "        vertical-align: middle;\n",
       "    }\n",
       "\n",
       "    .dataframe tbody tr th {\n",
       "        vertical-align: top;\n",
       "    }\n",
       "\n",
       "    .dataframe thead th {\n",
       "        text-align: right;\n",
       "    }\n",
       "</style>\n",
       "<table border=\"1\" class=\"dataframe\">\n",
       "  <thead>\n",
       "    <tr style=\"text-align: right;\">\n",
       "      <th></th>\n",
       "      <th>feature</th>\n",
       "      <th>coefficient</th>\n",
       "    </tr>\n",
       "  </thead>\n",
       "  <tbody>\n",
       "    <tr>\n",
       "      <th>38</th>\n",
       "      <td>cat__neighborhood_GrnHill</td>\n",
       "      <td>75185.087126</td>\n",
       "    </tr>\n",
       "    <tr>\n",
       "      <th>53</th>\n",
       "      <td>cat__neighborhood_StoneBr</td>\n",
       "      <td>42267.535644</td>\n",
       "    </tr>\n",
       "    <tr>\n",
       "      <th>46</th>\n",
       "      <td>cat__neighborhood_NoRidge</td>\n",
       "      <td>27005.227573</td>\n",
       "    </tr>\n",
       "    <tr>\n",
       "      <th>47</th>\n",
       "      <td>cat__neighborhood_NridgHt</td>\n",
       "      <td>23523.897808</td>\n",
       "    </tr>\n",
       "    <tr>\n",
       "      <th>34</th>\n",
       "      <td>cat__neighborhood_Crawfor</td>\n",
       "      <td>12086.404572</td>\n",
       "    </tr>\n",
       "    <tr>\n",
       "      <th>52</th>\n",
       "      <td>cat__neighborhood_Somerst</td>\n",
       "      <td>8979.219182</td>\n",
       "    </tr>\n",
       "    <tr>\n",
       "      <th>31</th>\n",
       "      <td>cat__neighborhood_BrkSide</td>\n",
       "      <td>3638.313711</td>\n",
       "    </tr>\n",
       "    <tr>\n",
       "      <th>44</th>\n",
       "      <td>cat__neighborhood_NPkVill</td>\n",
       "      <td>3287.966889</td>\n",
       "    </tr>\n",
       "    <tr>\n",
       "      <th>28</th>\n",
       "      <td>cat__neighborhood_Blmngtn</td>\n",
       "      <td>0.000000</td>\n",
       "    </tr>\n",
       "    <tr>\n",
       "      <th>29</th>\n",
       "      <td>cat__neighborhood_Blueste</td>\n",
       "      <td>0.000000</td>\n",
       "    </tr>\n",
       "    <tr>\n",
       "      <th>54</th>\n",
       "      <td>cat__neighborhood_Timber</td>\n",
       "      <td>-0.000000</td>\n",
       "    </tr>\n",
       "    <tr>\n",
       "      <th>50</th>\n",
       "      <td>cat__neighborhood_Sawyer</td>\n",
       "      <td>-0.000000</td>\n",
       "    </tr>\n",
       "    <tr>\n",
       "      <th>49</th>\n",
       "      <td>cat__neighborhood_SWISU</td>\n",
       "      <td>-0.000000</td>\n",
       "    </tr>\n",
       "    <tr>\n",
       "      <th>55</th>\n",
       "      <td>cat__neighborhood_Veenker</td>\n",
       "      <td>-0.000000</td>\n",
       "    </tr>\n",
       "    <tr>\n",
       "      <th>41</th>\n",
       "      <td>cat__neighborhood_MeadowV</td>\n",
       "      <td>0.000000</td>\n",
       "    </tr>\n",
       "    <tr>\n",
       "      <th>40</th>\n",
       "      <td>cat__neighborhood_Landmrk</td>\n",
       "      <td>-0.000000</td>\n",
       "    </tr>\n",
       "    <tr>\n",
       "      <th>37</th>\n",
       "      <td>cat__neighborhood_Greens</td>\n",
       "      <td>0.000000</td>\n",
       "    </tr>\n",
       "    <tr>\n",
       "      <th>33</th>\n",
       "      <td>cat__neighborhood_CollgCr</td>\n",
       "      <td>-0.000000</td>\n",
       "    </tr>\n",
       "    <tr>\n",
       "      <th>32</th>\n",
       "      <td>cat__neighborhood_ClearCr</td>\n",
       "      <td>0.000000</td>\n",
       "    </tr>\n",
       "    <tr>\n",
       "      <th>30</th>\n",
       "      <td>cat__neighborhood_BrDale</td>\n",
       "      <td>0.000000</td>\n",
       "    </tr>\n",
       "    <tr>\n",
       "      <th>42</th>\n",
       "      <td>cat__neighborhood_Mitchel</td>\n",
       "      <td>-321.941033</td>\n",
       "    </tr>\n",
       "    <tr>\n",
       "      <th>39</th>\n",
       "      <td>cat__neighborhood_IDOTRR</td>\n",
       "      <td>-695.477640</td>\n",
       "    </tr>\n",
       "    <tr>\n",
       "      <th>51</th>\n",
       "      <td>cat__neighborhood_SawyerW</td>\n",
       "      <td>-1844.841719</td>\n",
       "    </tr>\n",
       "    <tr>\n",
       "      <th>43</th>\n",
       "      <td>cat__neighborhood_NAmes</td>\n",
       "      <td>-2905.151263</td>\n",
       "    </tr>\n",
       "    <tr>\n",
       "      <th>48</th>\n",
       "      <td>cat__neighborhood_OldTown</td>\n",
       "      <td>-3027.554153</td>\n",
       "    </tr>\n",
       "    <tr>\n",
       "      <th>45</th>\n",
       "      <td>cat__neighborhood_NWAmes</td>\n",
       "      <td>-3867.412349</td>\n",
       "    </tr>\n",
       "    <tr>\n",
       "      <th>36</th>\n",
       "      <td>cat__neighborhood_Gilbert</td>\n",
       "      <td>-4102.703050</td>\n",
       "    </tr>\n",
       "    <tr>\n",
       "      <th>35</th>\n",
       "      <td>cat__neighborhood_Edwards</td>\n",
       "      <td>-8915.272876</td>\n",
       "    </tr>\n",
       "  </tbody>\n",
       "</table>\n",
       "</div>"
      ],
      "text/plain": [
       "                      feature   coefficient\n",
       "38  cat__neighborhood_GrnHill  75185.087126\n",
       "53  cat__neighborhood_StoneBr  42267.535644\n",
       "46  cat__neighborhood_NoRidge  27005.227573\n",
       "47  cat__neighborhood_NridgHt  23523.897808\n",
       "34  cat__neighborhood_Crawfor  12086.404572\n",
       "52  cat__neighborhood_Somerst   8979.219182\n",
       "31  cat__neighborhood_BrkSide   3638.313711\n",
       "44  cat__neighborhood_NPkVill   3287.966889\n",
       "28  cat__neighborhood_Blmngtn      0.000000\n",
       "29  cat__neighborhood_Blueste      0.000000\n",
       "54   cat__neighborhood_Timber     -0.000000\n",
       "50   cat__neighborhood_Sawyer     -0.000000\n",
       "49    cat__neighborhood_SWISU     -0.000000\n",
       "55  cat__neighborhood_Veenker     -0.000000\n",
       "41  cat__neighborhood_MeadowV      0.000000\n",
       "40  cat__neighborhood_Landmrk     -0.000000\n",
       "37   cat__neighborhood_Greens      0.000000\n",
       "33  cat__neighborhood_CollgCr     -0.000000\n",
       "32  cat__neighborhood_ClearCr      0.000000\n",
       "30   cat__neighborhood_BrDale      0.000000\n",
       "42  cat__neighborhood_Mitchel   -321.941033\n",
       "39   cat__neighborhood_IDOTRR   -695.477640\n",
       "51  cat__neighborhood_SawyerW  -1844.841719\n",
       "43    cat__neighborhood_NAmes  -2905.151263\n",
       "48  cat__neighborhood_OldTown  -3027.554153\n",
       "45   cat__neighborhood_NWAmes  -3867.412349\n",
       "36  cat__neighborhood_Gilbert  -4102.703050\n",
       "35  cat__neighborhood_Edwards  -8915.272876"
      ]
     },
     "execution_count": 67,
     "metadata": {},
     "output_type": "execute_result"
    }
   ],
   "source": [
    "# Neighborhood Features Specifically\n",
    "lassocv_coefs_nbrh = lassocv_coefs[lassocv_coefs['feature'].str.contains('neighborhood')]\n",
    "print(lassocv_coefs_nbrh.shape)\n",
    "lassocv_coefs_nbrh_srt = lassocv_coefs_nbrh.sort_values(by='coefficient', ascending=False)\n",
    "lassocv_coefs_nbrh_srt"
   ]
  },
  {
   "cell_type": "code",
   "execution_count": 68,
   "id": "5b806b79-872d-403b-ba31-d52ee4f82d24",
   "metadata": {},
   "outputs": [
    {
     "data": {
      "image/png": "[encoded data removed]",
      "text/plain": [
       "<Figure size 1440x576 with 1 Axes>"
      ]
     },
     "metadata": {
      "needs_background": "light"
     },
     "output_type": "display_data"
    }
   ],
   "source": [
    "old_neighborhoods = ['cat__neighborhood_GrnHill',\n",
    "                     'cat__neighborhood_StoneBr',\n",
    "                     'cat__neighborhood_NoRidge',\n",
    "                     'cat__neighborhood_NridgHt',\n",
    "                     'cat__neighborhood_Crawfor',\n",
    "                     'cat__neighborhood_Somerst',\n",
    "                     'cat__neighborhood_BrkSide',\n",
    "                     'cat__neighborhood_NPkVill',\n",
    "                     'cat__neighborhood_Blmngtn', \n",
    "                     'cat__neighborhood_Blueste',\n",
    "                     'cat__neighborhood_Timber',\n",
    "                     'cat__neighborhood_Sawyer',\n",
    "                     'cat__neighborhood_SWISU',\n",
    "                     'cat__neighborhood_Veenker',\n",
    "                     'cat__neighborhood_MeadowV',\n",
    "                     'cat__neighborhood_Landmrk',\n",
    "                     'cat__neighborhood_Greens',\n",
    "                     'cat__neighborhood_CollgCr',\n",
    "                     'cat__neighborhood_ClearCr',\n",
    "                     'cat__neighborhood_BrDale',\n",
    "                     'cat__neighborhood_Mitchel',\n",
    "                     'cat__neighborhood_IDOTRR',\n",
    "                     'cat__neighborhood_SawyerW',\n",
    "                     'cat__neighborhood_NAmes',\n",
    "                     'cat__neighborhood_OldTown',\n",
    "                     'cat__neighborhood_NWAmes',\n",
    "                     'cat__neighborhood_Gilbert',\n",
    "                     'cat__neighborhood_Edwards']\n",
    "\n",
    "new_neighborhoods = ['Green Hill',\n",
    "                 'Stone Brook',\n",
    "                 'Northridge',\n",
    "                 'Northridge Heights',\n",
    "                 'Crawford',\n",
    "                 'Somerset',\n",
    "                 'Brookside',\n",
    "                 'Northpark Villa',\n",
    "                 'Bloomington Heights',\n",
    "                 'Bluestem',\n",
    "                 'Timberland',\n",
    "                 'Sawyer',\n",
    "                 'South & West of ISU',\n",
    "                 'Veenker',\n",
    "                 'Meadow Village',\n",
    "                 'Landmark',\n",
    "                 'Greens',\n",
    "                 'College Creek',\n",
    "                 'Clear Creek',\n",
    "                 'Briardale',\n",
    "                 'Mitchell',\n",
    "                 'Iowa DOT and Rail Road',\n",
    "                 'Sawyer West',\n",
    "                 'North Ames',\n",
    "                 'Old Town',\n",
    "                 'Northwest Ames',\n",
    "                 'Gilbert',\n",
    "                 'Edwards']\n",
    "\n",
    "plt.figure(figsize=(20,8))\n",
    "plt.scatter(lassocv_coefs_nbrh_srt['feature'], lassocv_coefs_nbrh_srt['coefficient'])\n",
    "plt.xticks(old_neighborhoods, new_neighborhoods, rotation=90, fontsize=15)\n",
    "plt.yticks(fontsize=15)\n",
    "plt.axhline(y = 0, color = 'r', linestyle = '-')\n",
    "plt.title('Neighborhood Impact on Sale Price (2006-2011)', fontsize=30)\n",
    "plt.xlabel('Neighborhood', fontsize=20)\n",
    "plt.ylabel('Coefficient', fontsize=20);"
   ]
  },
  {
   "cell_type": "markdown",
   "id": "afa64437-a167-42d5-8633-1a46620a7412",
   "metadata": {},
   "source": [
    "Of the 28 neighborhoods in Ames, IA, 8 were assigned a positive coefficient, 12 were eliminated and 8 were assigned a negative coefficient.\n",
    "\n",
    "The top 5 neighborhoods that increase home value are:\n",
    "\n",
    "   * Green Hills by 75.2k\n",
    "   * Stone Brook by 42.3k\n",
    "   * Northridge by 27.0k\n",
    "   * Northridge Heights by 23.5k\n",
    "   * Crawford by 12.1k\n",
    "\n",
    "The bottom 5 neighborhoods that decrease home value are:\n",
    "\n",
    "   * Edwards by 8.9k\n",
    "   * Gilbert by 4.1k\n",
    "   * Northwest Ames by 3.9k\n",
    "   * Old Town by 3.0k\n",
    "   * North Ames by 2.9k"
   ]
  },
  {
   "cell_type": "code",
   "execution_count": 69,
   "id": "68653877-6168-46b2-9887-3284a09decb6",
   "metadata": {},
   "outputs": [
    {
     "data": {
      "text/html": [
       "<div>\n",
       "<style scoped>\n",
       "    .dataframe tbody tr th:only-of-type {\n",
       "        vertical-align: middle;\n",
       "    }\n",
       "\n",
       "    .dataframe tbody tr th {\n",
       "        vertical-align: top;\n",
       "    }\n",
       "\n",
       "    .dataframe thead th {\n",
       "        text-align: right;\n",
       "    }\n",
       "</style>\n",
       "<table border=\"1\" class=\"dataframe\">\n",
       "  <thead>\n",
       "    <tr style=\"text-align: right;\">\n",
       "      <th></th>\n",
       "      <th>feature</th>\n",
       "      <th>coefficient</th>\n",
       "    </tr>\n",
       "  </thead>\n",
       "  <tbody>\n",
       "    <tr>\n",
       "      <th>96</th>\n",
       "      <td>cat__roof_matl_WdShngl</td>\n",
       "      <td>40655.768829</td>\n",
       "    </tr>\n",
       "    <tr>\n",
       "      <th>132</th>\n",
       "      <td>cat__exter_qual_Ex</td>\n",
       "      <td>31542.381898</td>\n",
       "    </tr>\n",
       "    <tr>\n",
       "      <th>195</th>\n",
       "      <td>cat__kitchen_qual_Ex</td>\n",
       "      <td>18862.020288</td>\n",
       "    </tr>\n",
       "    <tr>\n",
       "      <th>60</th>\n",
       "      <td>cat__condition_1_PosN</td>\n",
       "      <td>13991.119132</td>\n",
       "    </tr>\n",
       "    <tr>\n",
       "      <th>226</th>\n",
       "      <td>cat__garage_qual_Gd</td>\n",
       "      <td>13945.499830</td>\n",
       "    </tr>\n",
       "    <tr>\n",
       "      <th>100</th>\n",
       "      <td>cat__exterior_1st_BrkFace</td>\n",
       "      <td>13443.532049</td>\n",
       "    </tr>\n",
       "    <tr>\n",
       "      <th>277</th>\n",
       "      <td>num__2nd_flr_sf</td>\n",
       "      <td>13199.099598</td>\n",
       "    </tr>\n",
       "    <tr>\n",
       "      <th>250</th>\n",
       "      <td>cat__misc_feature_Gar2</td>\n",
       "      <td>11857.854076</td>\n",
       "    </tr>\n",
       "    <tr>\n",
       "      <th>206</th>\n",
       "      <td>cat__functional_Typ</td>\n",
       "      <td>11610.947950</td>\n",
       "    </tr>\n",
       "    <tr>\n",
       "      <th>160</th>\n",
       "      <td>cat__bsmt_exposure_Gd</td>\n",
       "      <td>11527.427402</td>\n",
       "    </tr>\n",
       "    <tr>\n",
       "      <th>276</th>\n",
       "      <td>num__1st_flr_sf</td>\n",
       "      <td>11323.536526</td>\n",
       "    </tr>\n",
       "    <tr>\n",
       "      <th>267</th>\n",
       "      <td>num__overall_qual</td>\n",
       "      <td>10737.569967</td>\n",
       "    </tr>\n",
       "    <tr>\n",
       "      <th>16</th>\n",
       "      <td>cat__land_contour_HLS</td>\n",
       "      <td>9996.355300</td>\n",
       "    </tr>\n",
       "    <tr>\n",
       "      <th>147</th>\n",
       "      <td>cat__bsmt_qual_Ex</td>\n",
       "      <td>9389.465631</td>\n",
       "    </tr>\n",
       "    <tr>\n",
       "      <th>269</th>\n",
       "      <td>num__year_built</td>\n",
       "      <td>8738.015079</td>\n",
       "    </tr>\n",
       "    <tr>\n",
       "      <th>279</th>\n",
       "      <td>num__gr_liv_area</td>\n",
       "      <td>8327.303802</td>\n",
       "    </tr>\n",
       "    <tr>\n",
       "      <th>72</th>\n",
       "      <td>cat__bldg_type_1Fam</td>\n",
       "      <td>7390.375261</td>\n",
       "    </tr>\n",
       "    <tr>\n",
       "      <th>275</th>\n",
       "      <td>num__total_bsmt_sf</td>\n",
       "      <td>7137.589187</td>\n",
       "    </tr>\n",
       "    <tr>\n",
       "      <th>261</th>\n",
       "      <td>cat__sale_type_New</td>\n",
       "      <td>7086.347461</td>\n",
       "    </tr>\n",
       "    <tr>\n",
       "      <th>252</th>\n",
       "      <td>cat__misc_feature_Othr</td>\n",
       "      <td>6838.184271</td>\n",
       "    </tr>\n",
       "    <tr>\n",
       "      <th>73</th>\n",
       "      <td>cat__bldg_type_2fmCon</td>\n",
       "      <td>6815.231239</td>\n",
       "    </tr>\n",
       "    <tr>\n",
       "      <th>58</th>\n",
       "      <td>cat__condition_1_Norm</td>\n",
       "      <td>6636.379536</td>\n",
       "    </tr>\n",
       "    <tr>\n",
       "      <th>272</th>\n",
       "      <td>num__bsmtfin_sf_1</td>\n",
       "      <td>6460.922007</td>\n",
       "    </tr>\n",
       "    <tr>\n",
       "      <th>173</th>\n",
       "      <td>cat__bsmtfin_type_2_GLQ</td>\n",
       "      <td>6179.806485</td>\n",
       "    </tr>\n",
       "    <tr>\n",
       "      <th>268</th>\n",
       "      <td>num__overall_cond</td>\n",
       "      <td>5818.271989</td>\n",
       "    </tr>\n",
       "  </tbody>\n",
       "</table>\n",
       "</div>"
      ],
      "text/plain": [
       "                       feature   coefficient\n",
       "96      cat__roof_matl_WdShngl  40655.768829\n",
       "132         cat__exter_qual_Ex  31542.381898\n",
       "195       cat__kitchen_qual_Ex  18862.020288\n",
       "60       cat__condition_1_PosN  13991.119132\n",
       "226        cat__garage_qual_Gd  13945.499830\n",
       "100  cat__exterior_1st_BrkFace  13443.532049\n",
       "277            num__2nd_flr_sf  13199.099598\n",
       "250     cat__misc_feature_Gar2  11857.854076\n",
       "206        cat__functional_Typ  11610.947950\n",
       "160      cat__bsmt_exposure_Gd  11527.427402\n",
       "276            num__1st_flr_sf  11323.536526\n",
       "267          num__overall_qual  10737.569967\n",
       "16       cat__land_contour_HLS   9996.355300\n",
       "147          cat__bsmt_qual_Ex   9389.465631\n",
       "269            num__year_built   8738.015079\n",
       "279           num__gr_liv_area   8327.303802\n",
       "72         cat__bldg_type_1Fam   7390.375261\n",
       "275         num__total_bsmt_sf   7137.589187\n",
       "261         cat__sale_type_New   7086.347461\n",
       "252     cat__misc_feature_Othr   6838.184271\n",
       "73       cat__bldg_type_2fmCon   6815.231239\n",
       "58       cat__condition_1_Norm   6636.379536\n",
       "272          num__bsmtfin_sf_1   6460.922007\n",
       "173    cat__bsmtfin_type_2_GLQ   6179.806485\n",
       "268          num__overall_cond   5818.271989"
      ]
     },
     "execution_count": 69,
     "metadata": {},
     "output_type": "execute_result"
    }
   ],
   "source": [
    "# Home Features (excluding neighborhoods)\n",
    "lassocv_coefs_no_nbrh = lassocv_coefs[~lassocv_coefs['feature'].str.contains('neighborhood')]\n",
    "lassocv_coefs_no_nbrh_srt = lassocv_coefs_no_nbrh.sort_values(by='coefficient', ascending=False)\n",
    "lassocv_coefs_no_nbrh_srt_top = lassocv_coefs_no_nbrh_srt.head(25)\n",
    "lassocv_coefs_no_nbrh_srt_top"
   ]
  },
  {
   "cell_type": "code",
   "execution_count": 70,
   "id": "6a480f99-19c0-4995-bbe6-a1748a6ac307",
   "metadata": {},
   "outputs": [
    {
     "data": {
      "image/png": "[encoded data removed]",
      "text/plain": [
       "<Figure size 1080x360 with 1 Axes>"
      ]
     },
     "metadata": {
      "needs_background": "light"
     },
     "output_type": "display_data"
    }
   ],
   "source": [
    "old_features_top = ['cat__roof_matl_WdShngl',\n",
    "                'cat__exter_qual_Ex',\n",
    "                'cat__kitchen_qual_Ex',\n",
    "                'cat__condition_1_PosN',\n",
    "                'cat__garage_qual_Gd',\n",
    "                'cat__exterior_1st_BrkFace',\n",
    "                'num__2nd_flr_sf',\n",
    "                'cat__misc_feature_Gar2',\n",
    "                'cat__functional_Typ',\n",
    "                'cat__bsmt_exposure_Gd',\n",
    "                'num__1st_flr_sf',\n",
    "                'num__overall_qual',\n",
    "                'cat__land_contour_HLS',\n",
    "                'cat__bsmt_qual_Ex',\n",
    "                'num__year_built',\n",
    "                'num__gr_liv_area',\n",
    "                'cat__bldg_type_1Fam',\n",
    "                'num__total_bsmt_sf',\n",
    "                'cat__sale_type_New',\n",
    "                'cat__misc_feature_Othr',\n",
    "                'cat__bldg_type_2fmCon',\n",
    "                'cat__condition_1_Norm',\n",
    "                'num__bsmtfin_sf_1',\n",
    "                'cat__bsmtfin_type_2_GLQ',\n",
    "                'num__overall_cond']\n",
    "\n",
    "new_features_top = ['Roof Material - Wood Shingles',\n",
    "                'Exterior Material Quality - Excellent',\n",
    "                'Kitchen Quality - Excellent',\n",
    "                'Proximity to park/greenbelt',\n",
    "                'Garage Quality - Good',\n",
    "                'Exterior House Covering - Brick Face',\n",
    "                '2nd Floor Sqft',\n",
    "                '2nd Garage',\n",
    "                'Typical Functionality',\n",
    "                'Basement Exposure - Good',\n",
    "                '1st Floor Square Footage',\n",
    "                'Overall Material and Finish Quality',\n",
    "                'Land Contour - Hillside',\n",
    "                'Basement Quality - Excellent',\n",
    "                'Year Built',\n",
    "                'Above Ground Living Area Sqft',\n",
    "                'Building Type - Single Family',\n",
    "                'Total Basement Sqft',\n",
    "                'Sale Type - New',\n",
    "                'Miscellaneous Feature - Other',\n",
    "                'Building Type - 2 Family Conversion',\n",
    "                'Normal Proximity to Main Road/Railroad',\n",
    "                'Basement Finished Area Sqft',\n",
    "                '2nd Basement Finished Area - Good',\n",
    "                'Overall Condition']\n",
    "\n",
    "plt.figure(figsize=(15,5))\n",
    "plt.scatter(lassocv_coefs_no_nbrh_srt_top['feature'], lassocv_coefs_no_nbrh_srt_top['coefficient'])\n",
    "plt.xticks(old_features_top, new_features_top, rotation=90, fontsize=10)\n",
    "plt.yticks(fontsize=10)\n",
    "plt.axhline(y = 0, color = 'r', linestyle = '-')\n",
    "plt.title('Top 25 Home Features Impact \\n on Sale Price (2006-2011)', fontsize=15)\n",
    "plt.xlabel('Home Feature', fontsize=10)\n",
    "plt.ylabel('Coefficient', fontsize=10);"
   ]
  },
  {
   "cell_type": "markdown",
   "id": "ae186834-e3ab-4f4f-8f62-f1911d6b78ed",
   "metadata": {},
   "source": [
    "The top 5 home features that increase home value are:\n",
    "\n",
    "   * Roof Material - Wood Shingle by 40.7k\n",
    "   * Exterior Material Quality - Excellent by 31.5k\n",
    "   * Kitchen Quality - Excellent by 18.9k\n",
    "   * Proximity to a park/greenbelt by 14k\n",
    "   * Garage Quality - Good by 14k"
   ]
  },
  {
   "cell_type": "code",
   "execution_count": 71,
   "id": "97d15d18-0244-478c-adae-6c760fb8863c",
   "metadata": {},
   "outputs": [
    {
     "data": {
      "text/html": [
       "<div>\n",
       "<style scoped>\n",
       "    .dataframe tbody tr th:only-of-type {\n",
       "        vertical-align: middle;\n",
       "    }\n",
       "\n",
       "    .dataframe tbody tr th {\n",
       "        vertical-align: top;\n",
       "    }\n",
       "\n",
       "    .dataframe thead th {\n",
       "        text-align: right;\n",
       "    }\n",
       "</style>\n",
       "<table border=\"1\" class=\"dataframe\">\n",
       "  <thead>\n",
       "    <tr style=\"text-align: right;\">\n",
       "      <th></th>\n",
       "      <th>feature</th>\n",
       "      <th>coefficient</th>\n",
       "    </tr>\n",
       "  </thead>\n",
       "  <tbody>\n",
       "    <tr>\n",
       "      <th>208</th>\n",
       "      <td>cat__fireplace_qu_Fa</td>\n",
       "      <td>-2846.045557</td>\n",
       "    </tr>\n",
       "    <tr>\n",
       "      <th>297</th>\n",
       "      <td>num__misc_val</td>\n",
       "      <td>-2859.615003</td>\n",
       "    </tr>\n",
       "    <tr>\n",
       "      <th>152</th>\n",
       "      <td>cat__bsmt_qual_TA</td>\n",
       "      <td>-3012.808807</td>\n",
       "    </tr>\n",
       "    <tr>\n",
       "      <th>167</th>\n",
       "      <td>cat__bsmtfin_type_1_LwQ</td>\n",
       "      <td>-3192.673835</td>\n",
       "    </tr>\n",
       "    <tr>\n",
       "      <th>10</th>\n",
       "      <td>cat__alley_Pave</td>\n",
       "      <td>-3200.652379</td>\n",
       "    </tr>\n",
       "    <tr>\n",
       "      <th>176</th>\n",
       "      <td>cat__bsmtfin_type_2_Rec</td>\n",
       "      <td>-3459.743524</td>\n",
       "    </tr>\n",
       "    <tr>\n",
       "      <th>264</th>\n",
       "      <td>num__ms_subclass</td>\n",
       "      <td>-3484.600253</td>\n",
       "    </tr>\n",
       "    <tr>\n",
       "      <th>135</th>\n",
       "      <td>cat__exter_qual_TA</td>\n",
       "      <td>-3652.797528</td>\n",
       "    </tr>\n",
       "    <tr>\n",
       "      <th>13</th>\n",
       "      <td>cat__lot_shape_IR3</td>\n",
       "      <td>-3691.233416</td>\n",
       "    </tr>\n",
       "    <tr>\n",
       "      <th>128</th>\n",
       "      <td>cat__mas_vnr_type_BrkFace</td>\n",
       "      <td>-3798.584064</td>\n",
       "    </tr>\n",
       "    <tr>\n",
       "      <th>222</th>\n",
       "      <td>cat__garage_finish_RFn</td>\n",
       "      <td>-3941.348534</td>\n",
       "    </tr>\n",
       "    <tr>\n",
       "      <th>1</th>\n",
       "      <td>cat__ms_zoning_C (all)</td>\n",
       "      <td>-4050.168787</td>\n",
       "    </tr>\n",
       "    <tr>\n",
       "      <th>251</th>\n",
       "      <td>cat__misc_feature_NA</td>\n",
       "      <td>-4436.158862</td>\n",
       "    </tr>\n",
       "    <tr>\n",
       "      <th>163</th>\n",
       "      <td>cat__bsmt_exposure_No</td>\n",
       "      <td>-5072.999302</td>\n",
       "    </tr>\n",
       "    <tr>\n",
       "      <th>161</th>\n",
       "      <td>cat__bsmt_exposure_Mn</td>\n",
       "      <td>-5289.388484</td>\n",
       "    </tr>\n",
       "    <tr>\n",
       "      <th>149</th>\n",
       "      <td>cat__bsmt_qual_Gd</td>\n",
       "      <td>-5869.218567</td>\n",
       "    </tr>\n",
       "    <tr>\n",
       "      <th>61</th>\n",
       "      <td>cat__condition_1_RRAe</td>\n",
       "      <td>-6114.729911</td>\n",
       "    </tr>\n",
       "    <tr>\n",
       "      <th>263</th>\n",
       "      <td>cat__sale_type_WD</td>\n",
       "      <td>-6868.998345</td>\n",
       "    </tr>\n",
       "    <tr>\n",
       "      <th>213</th>\n",
       "      <td>cat__garage_type_2Types</td>\n",
       "      <td>-7586.051368</td>\n",
       "    </tr>\n",
       "    <tr>\n",
       "      <th>199</th>\n",
       "      <td>cat__functional_Maj1</td>\n",
       "      <td>-10649.607342</td>\n",
       "    </tr>\n",
       "    <tr>\n",
       "      <th>127</th>\n",
       "      <td>cat__mas_vnr_type_BrkCmn</td>\n",
       "      <td>-10858.070927</td>\n",
       "    </tr>\n",
       "    <tr>\n",
       "      <th>89</th>\n",
       "      <td>cat__roof_style_Mansard</td>\n",
       "      <td>-12500.428749</td>\n",
       "    </tr>\n",
       "    <tr>\n",
       "      <th>255</th>\n",
       "      <td>cat__sale_type_COD</td>\n",
       "      <td>-12695.661550</td>\n",
       "    </tr>\n",
       "    <tr>\n",
       "      <th>249</th>\n",
       "      <td>cat__misc_feature_Elev</td>\n",
       "      <td>-345221.681864</td>\n",
       "    </tr>\n",
       "    <tr>\n",
       "      <th>91</th>\n",
       "      <td>cat__roof_matl_ClyTile</td>\n",
       "      <td>-498180.565702</td>\n",
       "    </tr>\n",
       "  </tbody>\n",
       "</table>\n",
       "</div>"
      ],
      "text/plain": [
       "                       feature    coefficient\n",
       "208       cat__fireplace_qu_Fa   -2846.045557\n",
       "297              num__misc_val   -2859.615003\n",
       "152          cat__bsmt_qual_TA   -3012.808807\n",
       "167    cat__bsmtfin_type_1_LwQ   -3192.673835\n",
       "10             cat__alley_Pave   -3200.652379\n",
       "176    cat__bsmtfin_type_2_Rec   -3459.743524\n",
       "264           num__ms_subclass   -3484.600253\n",
       "135         cat__exter_qual_TA   -3652.797528\n",
       "13          cat__lot_shape_IR3   -3691.233416\n",
       "128  cat__mas_vnr_type_BrkFace   -3798.584064\n",
       "222     cat__garage_finish_RFn   -3941.348534\n",
       "1       cat__ms_zoning_C (all)   -4050.168787\n",
       "251       cat__misc_feature_NA   -4436.158862\n",
       "163      cat__bsmt_exposure_No   -5072.999302\n",
       "161      cat__bsmt_exposure_Mn   -5289.388484\n",
       "149          cat__bsmt_qual_Gd   -5869.218567\n",
       "61       cat__condition_1_RRAe   -6114.729911\n",
       "263         cat__sale_type_WD    -6868.998345\n",
       "213    cat__garage_type_2Types   -7586.051368\n",
       "199       cat__functional_Maj1  -10649.607342\n",
       "127   cat__mas_vnr_type_BrkCmn  -10858.070927\n",
       "89     cat__roof_style_Mansard  -12500.428749\n",
       "255         cat__sale_type_COD  -12695.661550\n",
       "249     cat__misc_feature_Elev -345221.681864\n",
       "91      cat__roof_matl_ClyTile -498180.565702"
      ]
     },
     "execution_count": 71,
     "metadata": {},
     "output_type": "execute_result"
    }
   ],
   "source": [
    "lassocv_coefs_no_nbrh = lassocv_coefs[~lassocv_coefs['feature'].str.contains('neighborhood')]\n",
    "lassocv_coefs_no_nbrh_srt = lassocv_coefs_no_nbrh.sort_values(by='coefficient', ascending=False)\n",
    "lassocv_coefs_no_nbrh_srt_bottom = lassocv_coefs_no_nbrh_srt.tail(25)\n",
    "lassocv_coefs_no_nbrh_srt_bottom"
   ]
  },
  {
   "cell_type": "code",
   "execution_count": 72,
   "id": "126a4f74-0a0b-4ac4-8251-b6916f7c6629",
   "metadata": {},
   "outputs": [
    {
     "data": {
      "image/png": "[encoded data removed]",
      "text/plain": [
       "<Figure size 1080x360 with 1 Axes>"
      ]
     },
     "metadata": {
      "needs_background": "light"
     },
     "output_type": "display_data"
    }
   ],
   "source": [
    "old_features_bottom = ['cat__fireplace_qu_Fa',\n",
    "                       'num__misc_val',\n",
    "                       'cat__bsmt_qual_TA',\n",
    "                       'cat__bsmtfin_type_1_LwQ',\n",
    "                       'cat__alley_Pave',\n",
    "                       'cat__bsmtfin_type_2_Rec',\n",
    "                       'num__ms_subclass',\n",
    "                       'cat__exter_qual_TA',\n",
    "                       'cat__lot_shape_IR3',\n",
    "                       'cat__mas_vnr_type_BrkFace',\n",
    "                       'cat__garage_finish_RFn',\n",
    "                       'cat__ms_zoning_C',\n",
    "                       'cat__misc_feature_NA',\n",
    "                       'cat__bsmt_exposure_No',\n",
    "                       'cat__bsmt_exposure_Mn',\n",
    "                       'cat__bsmt_qual_Gd',\n",
    "                       'cat__condition_1_RRAe',\n",
    "                       'cat__sale_type_WD',\n",
    "                       'cat__garage_type_2Types',\n",
    "                       'cat__functional_Maj1',\n",
    "                       'cat__mas_vnr_type_BrkCmn',\n",
    "                       'cat__roof_style_Mansard',\n",
    "                       'cat__sale_type_COD',\n",
    "                       'cat__misc_feature_Elev',\n",
    "                       'cat__roof_matl_ClyTile']\n",
    "\n",
    "new_features_bottom = ['Fireplace Quality - Fair',\n",
    "                      'Miscellaneous - Value',\n",
    "                      'Basement Quality - Typical',\n",
    "                      'Basement Finish Quality - Low',\n",
    "                      'Alley - Paved',\n",
    "                      '2nd Bsmt Finish Quality - Rec Room',\n",
    "                      'Building Class',\n",
    "                      'Exterior Material Quality - Typical',\n",
    "                      'Lot Shape - Irregular',\n",
    "                      'Masonry Veneer Type - Brick Face',\n",
    "                      'Garage Finish - Rough',\n",
    "                      'Zoning Class - Commercial',\n",
    "                      'Miscellaneous- N/A',\n",
    "                      'Basement Exposure - None',\n",
    "                      'Basement Exposure - Minimum',\n",
    "                      'Basement Quality - Good',\n",
    "                      'Adjacent to East-West Railroad',\n",
    "                      'Sale Type - Conv. Warranty Deed',\n",
    "                      'Garage Type - 2 Types',\n",
    "                      'Functionality - Major Deductions',\n",
    "                      'Masonry Veneer Type - Brick Common',\n",
    "                      'Roof Style - Mansard',\n",
    "                      'Sale Type - Court Officer Deed/Estate',\n",
    "                      'Miscellaneous - Elevator',\n",
    "                      'Roof Material - Clay/Tile']\n",
    "\n",
    "plt.figure(figsize=(15,5))\n",
    "plt.scatter(lassocv_coefs_no_nbrh_srt_bottom['feature'], lassocv_coefs_no_nbrh_srt_bottom['coefficient'])\n",
    "plt.xticks(old_features_bottom, new_features_bottom, rotation=90, fontsize=10)\n",
    "plt.yticks(fontsize=10)\n",
    "plt.axhline(y = 0, color = 'r', linestyle = '-')\n",
    "plt.title('Bottom 25 Home Features Impact \\n on Sale Price (2006-2011)', fontsize=15)\n",
    "plt.xlabel('Home Feature', fontsize=10)\n",
    "plt.ylabel('Coefficient', fontsize=10);"
   ]
  },
  {
   "cell_type": "markdown",
   "id": "bb9ac333-0051-42e8-b826-6790d403d00f",
   "metadata": {},
   "source": [
    "The bottom 5 home features that decrease home value are:\n",
    "\n",
    "   * Roof Material - Clay or Tile by 498.2k\n",
    "   * Elevator by 345.2k\n",
    "   * Court Officer Deed/Estate Sale Type by 12.7k\n",
    "   * Roof Style - Mansard by 12.5k\n",
    "   * Masonry Veneer Type - Brick Common by 10.9k"
   ]
  },
  {
   "cell_type": "markdown",
   "id": "12cc7e8d-9ba6-4e5d-88b2-b490c49835d8",
   "metadata": {},
   "source": [
    "___"
   ]
  },
  {
   "cell_type": "markdown",
   "id": "370895c1-35a2-468d-9a4d-a1d3a2d735ee",
   "metadata": {},
   "source": [
    "## Conclusion"
   ]
  },
  {
   "cell_type": "markdown",
   "id": "5d1bdbf7-cfdc-4d9a-afe1-e3b6ac5849b8",
   "metadata": {},
   "source": [
    "### Recommendations\n",
    "\n",
    "It's recommended that the city of Ames, IA invest in housing in the Green Hills, Stone Brook, Northridge, Northridge Heights and Crawford neighborhoods, and invest in more parks and green spaces.\n",
    "\n",
    "The following housing features should also be considered:\n",
    "\n",
    "   * Wood Shingle Roofing (and avoid Clay, Tile or a Mansard style)\n",
    "   * Excellent Exterior Material Quality (and avoid  Common Brick)\n",
    "   * Excellent Kitchen Quality\n",
    "   * Good Garage Quality\n",
    "   * Brick Face Exterior House Covering\n",
    "   * Second Floor Square Footage\n",
    "   * Avoiding unnecessary luxury features (elevator, 2 types of garages)"
   ]
  },
  {
   "cell_type": "markdown",
   "id": "050f0cf8-ba4c-430f-a22e-5198a5f98c8f",
   "metadata": {},
   "source": [
    "### Next Steps\n",
    "\n",
    "It will be beneficial to gain a deeper understanding of how each rating is defined, if not already stated, for those categorical features that were ordinal. For example, the difference between average, god, excellent, etc. \n",
    "\n",
    "Also, given that the dataset of this analysis only contained observations ranging from 2006-2011, a follow-up analysis on an updated dataset is suggested to see if the findings of this analysis continue to hold true."
   ]
  },
  {
   "cell_type": "markdown",
   "id": "2d146f25-a8f8-4174-9233-18e66a033a34",
   "metadata": {},
   "source": [
    "___"
   ]
  },
  {
   "cell_type": "markdown",
   "id": "6cd0bc53-4015-4201-8775-79a5515b527a",
   "metadata": {},
   "source": [
    "## Kaggle Submissions"
   ]
  },
  {
   "cell_type": "code",
   "execution_count": 73,
   "id": "36ba893b-0b7e-437a-98b4-199633ef7690",
   "metadata": {},
   "outputs": [],
   "source": [
    "test_id = ames_test['Id']"
   ]
  },
  {
   "cell_type": "code",
   "execution_count": 74,
   "id": "8dee3e67-cd68-4dd9-9302-fe45b8f15230",
   "metadata": {},
   "outputs": [],
   "source": [
    "ames_test['Pool QC'].replace(np.nan, 'NA', inplace=True)\n",
    "ames_test['Misc Feature'].replace(np.nan, 'NA', inplace=True)\n",
    "ames_test['Alley'].replace(np.nan, 'NA', inplace=True)\n",
    "ames_test['Fence'].replace(np.nan, 'NA', inplace=True)\n",
    "ames_test['Fireplace Qu'].replace(np.nan, 'NA', inplace=True)\n",
    "ames_test['Lot Frontage'].replace(np.nan, 0, inplace=True)\n",
    "ames_test['Garage Finish'].replace(np.nan, 'NA', inplace=True)\n",
    "ames_test['Garage Qual'].replace(np.nan, 'NA', inplace=True)\n",
    "ames_test['Garage Yr Blt'].replace(np.nan, 0, inplace=True)\n",
    "ames_test['Garage Cond'].replace(np.nan, 'NA', inplace=True)\n",
    "ames_test['Garage Type'].replace(np.nan, 'NA', inplace=True)\n",
    "ames_test['Bsmt Exposure'].replace(np.nan, 'NA', inplace=True)\n",
    "ames_test['BsmtFin Type 2'].replace(np.nan, 'NA', inplace=True)\n",
    "ames_test['BsmtFin Type 1'].replace(np.nan, 'NA', inplace=True)\n",
    "ames_test['Bsmt Cond'].replace(np.nan, 'NA', inplace=True)\n",
    "ames_test['Bsmt Qual'].replace(np.nan, 'NA', inplace=True)\n",
    "ames_test['Mas Vnr Area'].replace(np.nan, 0, inplace=True)\n",
    "ames_test['Mas Vnr Type'].replace(np.nan, 'NA', inplace=True)\n",
    "ames_test['Bsmt Half Bath'].replace(np.nan, 0, inplace=True)\n",
    "ames_test['Bsmt Full Bath'].replace(np.nan, 0, inplace=True)\n",
    "ames_test['Garage Area'].replace(np.nan, 0, inplace=True)\n",
    "ames_test['Total Bsmt SF'].replace(np.nan, 0, inplace=True)\n",
    "ames_test['Bsmt Unf SF'].replace(np.nan, 0, inplace=True)\n",
    "ames_test['BsmtFin SF 2'].replace(np.nan, 0, inplace=True)\n",
    "ames_test['BsmtFin SF 1'].replace(np.nan, 0, inplace=True)\n",
    "ames_test['Garage Cars'].replace(np.nan, 0, inplace=True)\n",
    "ames_test['Electrical'].replace(np.nan, 'NA', inplace=True)"
   ]
  },
  {
   "cell_type": "code",
   "execution_count": 75,
   "id": "80abdf23-dd83-4d35-ab91-a0dd5a3125c6",
   "metadata": {},
   "outputs": [],
   "source": [
    "ames_test.columns = ames_test.columns.str.lower().str.replace(' ', '_')"
   ]
  },
  {
   "cell_type": "code",
   "execution_count": 76,
   "id": "e0ab297d-db70-4170-9334-aea2075789a8",
   "metadata": {},
   "outputs": [],
   "source": [
    "ames_test.drop(columns = 'pid', inplace = True)"
   ]
  },
  {
   "cell_type": "code",
   "execution_count": 77,
   "id": "e90f422f-c68c-4459-9571-705ed1f580ba",
   "metadata": {},
   "outputs": [],
   "source": [
    "ames_test = transformer.transform(ames_test.drop(columns = 'id'))\n",
    "ames_test = pd.DataFrame(ames_test, columns = transformer.get_feature_names_out(X_train.columns))"
   ]
  },
  {
   "cell_type": "markdown",
   "id": "29a68291-e158-40d7-8b11-0c8e5e0ff3de",
   "metadata": {
    "tags": []
   },
   "source": [
    "#### LassoCV #1 (Alpha = 46.4158883361278)"
   ]
  },
  {
   "cell_type": "code",
   "execution_count": 78,
   "id": "83d83f96-48a3-4b7d-84f2-41890e4a4780",
   "metadata": {},
   "outputs": [
    {
     "data": {
      "text/plain": [
       "Lasso(alpha=46.4158883361278)"
      ]
     },
     "execution_count": 78,
     "metadata": {},
     "output_type": "execute_result"
    }
   ],
   "source": [
    "lasso = Lasso(alpha = lassocv.alpha_)\n",
    "lasso.fit(Xt_train, y_train)"
   ]
  },
  {
   "cell_type": "code",
   "execution_count": 79,
   "id": "8dc75b14-dc94-4f0c-ab58-827bcbf9cd33",
   "metadata": {},
   "outputs": [],
   "source": [
    "preds = lasso.predict(ames_test)\n",
    "preds = pd.DataFrame(preds, columns = ['SalePrice'])"
   ]
  },
  {
   "cell_type": "code",
   "execution_count": 80,
   "id": "9dae5be8-a5ec-44f4-9330-7ac1545b27c8",
   "metadata": {},
   "outputs": [
    {
     "data": {
      "text/html": [
       "<div>\n",
       "<style scoped>\n",
       "    .dataframe tbody tr th:only-of-type {\n",
       "        vertical-align: middle;\n",
       "    }\n",
       "\n",
       "    .dataframe tbody tr th {\n",
       "        vertical-align: top;\n",
       "    }\n",
       "\n",
       "    .dataframe thead th {\n",
       "        text-align: right;\n",
       "    }\n",
       "</style>\n",
       "<table border=\"1\" class=\"dataframe\">\n",
       "  <thead>\n",
       "    <tr style=\"text-align: right;\">\n",
       "      <th></th>\n",
       "      <th>id</th>\n",
       "      <th>SalePrice</th>\n",
       "    </tr>\n",
       "  </thead>\n",
       "  <tbody>\n",
       "    <tr>\n",
       "      <th>0</th>\n",
       "      <td>2658</td>\n",
       "      <td>145854.005008</td>\n",
       "    </tr>\n",
       "    <tr>\n",
       "      <th>1</th>\n",
       "      <td>2718</td>\n",
       "      <td>148745.891767</td>\n",
       "    </tr>\n",
       "    <tr>\n",
       "      <th>2</th>\n",
       "      <td>2414</td>\n",
       "      <td>216887.441234</td>\n",
       "    </tr>\n",
       "    <tr>\n",
       "      <th>3</th>\n",
       "      <td>1989</td>\n",
       "      <td>106839.356967</td>\n",
       "    </tr>\n",
       "    <tr>\n",
       "      <th>4</th>\n",
       "      <td>625</td>\n",
       "      <td>174138.399643</td>\n",
       "    </tr>\n",
       "  </tbody>\n",
       "</table>\n",
       "</div>"
      ],
      "text/plain": [
       "     id      SalePrice\n",
       "0  2658  145854.005008\n",
       "1  2718  148745.891767\n",
       "2  2414  216887.441234\n",
       "3  1989  106839.356967\n",
       "4   625  174138.399643"
      ]
     },
     "execution_count": 80,
     "metadata": {},
     "output_type": "execute_result"
    }
   ],
   "source": [
    "preds.insert(loc = 0, column = 'id', value = test_id)\n",
    "preds.head()"
   ]
  },
  {
   "cell_type": "code",
   "execution_count": 81,
   "id": "3d90ddc1-5ade-4a8b-9801-4b48ee4fde4d",
   "metadata": {},
   "outputs": [
    {
     "data": {
      "text/plain": [
       "(878, 2)"
      ]
     },
     "execution_count": 81,
     "metadata": {},
     "output_type": "execute_result"
    }
   ],
   "source": [
    "preds.shape"
   ]
  },
  {
   "cell_type": "code",
   "execution_count": 82,
   "id": "a943be99-753a-4485-8a59-76e2f0a49e16",
   "metadata": {},
   "outputs": [],
   "source": [
    "preds.to_csv('../submissions/lassocv_1.csv', index = False)"
   ]
  }
 ],
 "metadata": {
  "kernelspec": {
   "display_name": "Python 3 (ipykernel)",
   "language": "python",
   "name": "python3"
  },
  "language_info": {
   "codemirror_mode": {
    "name": "ipython",
    "version": 3
   },
   "file_extension": ".py",
   "mimetype": "text/x-python",
   "name": "python",
   "nbconvert_exporter": "python",
   "pygments_lexer": "ipython3",
   "version": "3.9.7"
  }
 },
 "nbformat": 4,
 "nbformat_minor": 5
}
